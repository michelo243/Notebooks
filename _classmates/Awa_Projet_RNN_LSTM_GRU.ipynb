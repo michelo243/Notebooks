{
  "nbformat": 4,
  "nbformat_minor": 0,
  "metadata": {
    "colab": {
      "provenance": []
    },
    "kernelspec": {
      "name": "python3",
      "display_name": "Python 3"
    },
    "language_info": {
      "name": "python"
    }
  },
  "cells": [
    {
      "cell_type": "markdown",
      "source": [
        "# Mise à jour du pandas-reader et importation librairie"
      ],
      "metadata": {
        "id": "uPMbpMoNIn8j"
      }
    },
    {
      "cell_type": "code",
      "execution_count": null,
      "metadata": {
        "colab": {
          "base_uri": "https://localhost:8080/"
        },
        "id": "9ykY7eilc84u",
        "outputId": "3aa302cd-4595-4996-cf5e-4369a55756cd"
      },
      "outputs": [
        {
          "output_type": "stream",
          "name": "stdout",
          "text": [
            "Looking in indexes: https://pypi.org/simple, https://us-python.pkg.dev/colab-wheels/public/simple/\n",
            "Requirement already satisfied: pandas in /usr/local/lib/python3.7/dist-packages (1.3.5)\n",
            "Requirement already satisfied: pytz>=2017.3 in /usr/local/lib/python3.7/dist-packages (from pandas) (2022.2.1)\n",
            "Requirement already satisfied: numpy>=1.17.3 in /usr/local/lib/python3.7/dist-packages (from pandas) (1.21.6)\n",
            "Requirement already satisfied: python-dateutil>=2.7.3 in /usr/local/lib/python3.7/dist-packages (from pandas) (2.8.2)\n",
            "Requirement already satisfied: six>=1.5 in /usr/local/lib/python3.7/dist-packages (from python-dateutil>=2.7.3->pandas) (1.15.0)\n",
            "Looking in indexes: https://pypi.org/simple, https://us-python.pkg.dev/colab-wheels/public/simple/\n",
            "Requirement already satisfied: pandas-datareader in /usr/local/lib/python3.7/dist-packages (0.10.0)\n",
            "Requirement already satisfied: requests>=2.19.0 in /usr/local/lib/python3.7/dist-packages (from pandas-datareader) (2.23.0)\n",
            "Requirement already satisfied: pandas>=0.23 in /usr/local/lib/python3.7/dist-packages (from pandas-datareader) (1.3.5)\n",
            "Requirement already satisfied: lxml in /usr/local/lib/python3.7/dist-packages (from pandas-datareader) (4.9.1)\n",
            "Requirement already satisfied: python-dateutil>=2.7.3 in /usr/local/lib/python3.7/dist-packages (from pandas>=0.23->pandas-datareader) (2.8.2)\n",
            "Requirement already satisfied: numpy>=1.17.3 in /usr/local/lib/python3.7/dist-packages (from pandas>=0.23->pandas-datareader) (1.21.6)\n",
            "Requirement already satisfied: pytz>=2017.3 in /usr/local/lib/python3.7/dist-packages (from pandas>=0.23->pandas-datareader) (2022.2.1)\n",
            "Requirement already satisfied: six>=1.5 in /usr/local/lib/python3.7/dist-packages (from python-dateutil>=2.7.3->pandas>=0.23->pandas-datareader) (1.15.0)\n",
            "Requirement already satisfied: chardet<4,>=3.0.2 in /usr/local/lib/python3.7/dist-packages (from requests>=2.19.0->pandas-datareader) (3.0.4)\n",
            "Requirement already satisfied: idna<3,>=2.5 in /usr/local/lib/python3.7/dist-packages (from requests>=2.19.0->pandas-datareader) (2.10)\n",
            "Requirement already satisfied: urllib3!=1.25.0,!=1.25.1,<1.26,>=1.21.1 in /usr/local/lib/python3.7/dist-packages (from requests>=2.19.0->pandas-datareader) (1.24.3)\n",
            "Requirement already satisfied: certifi>=2017.4.17 in /usr/local/lib/python3.7/dist-packages (from requests>=2.19.0->pandas-datareader) (2022.6.15)\n"
          ]
        }
      ],
      "source": [
        "!pip install --upgrade pandas\n",
        "!pip install --upgrade pandas-datareader"
      ]
    },
    {
      "cell_type": "markdown",
      "source": [
        "Importation des libraires"
      ],
      "metadata": {
        "id": "thLrOjj5IxKr"
      }
    },
    {
      "cell_type": "code",
      "source": [
        "import pandas as pd\n",
        "import numpy as np \n",
        "import pandas_datareader.data as web #collecteur des données\n",
        "from datetime import datetime\n",
        "from sklearn.preprocessing import MinMaxScaler\n",
        "from tensorflow.keras.models import Sequential\n",
        "from tensorflow.keras.layers import Dense, SimpleRNN,Embedding"
      ],
      "metadata": {
        "id": "qW__VMBSdInM"
      },
      "execution_count": null,
      "outputs": []
    },
    {
      "cell_type": "markdown",
      "source": [
        "# Récupération des données via le web"
      ],
      "metadata": {
        "id": "ViZu61oke0wX"
      }
    },
    {
      "cell_type": "code",
      "source": [
        "data_yahoo = web.get_data_yahoo('^GSPC', start='2000-1-1',end='2022-08-31')"
      ],
      "metadata": {
        "id": "dSEsgdOOfF_3"
      },
      "execution_count": null,
      "outputs": []
    },
    {
      "cell_type": "code",
      "source": [
        "data_yahoo.shape"
      ],
      "metadata": {
        "colab": {
          "base_uri": "https://localhost:8080/"
        },
        "id": "xqnv0KTlgyIr",
        "outputId": "99cd4868-3d8c-4dda-bd47-277a31de5f6d"
      },
      "execution_count": null,
      "outputs": [
        {
          "output_type": "execute_result",
          "data": {
            "text/plain": [
              "(5703, 6)"
            ]
          },
          "metadata": {},
          "execution_count": 4
        }
      ]
    },
    {
      "cell_type": "code",
      "source": [
        "data_yahoo"
      ],
      "metadata": {
        "colab": {
          "base_uri": "https://localhost:8080/",
          "height": 455
        },
        "id": "DzJ3k1B_fxkb",
        "outputId": "645ff590-a4fb-4c7f-f133-814d1ee3cd7e"
      },
      "execution_count": null,
      "outputs": [
        {
          "output_type": "execute_result",
          "data": {
            "text/plain": [
              "                   High          Low         Open        Close      Volume  \\\n",
              "Date                                                                         \n",
              "2000-01-03  1478.000000  1438.359985  1469.250000  1455.219971   931800000   \n",
              "2000-01-04  1455.219971  1397.430054  1455.219971  1399.420044  1009000000   \n",
              "2000-01-05  1413.270020  1377.680054  1399.420044  1402.109985  1085500000   \n",
              "2000-01-06  1411.900024  1392.099976  1402.109985  1403.449951  1092300000   \n",
              "2000-01-07  1441.469971  1400.729980  1403.449951  1441.469971  1225200000   \n",
              "...                 ...          ...          ...          ...         ...   \n",
              "2022-08-25  4200.540039  4147.589844  4153.259766  4199.120117  2976050000   \n",
              "2022-08-26  4203.040039  4057.659912  4198.740234  4057.659912  3175260000   \n",
              "2022-08-29  4062.989990  4017.419922  4034.580078  4030.610107  2963020000   \n",
              "2022-08-30  4044.979980  3965.209961  4041.250000  3986.159912  3190580000   \n",
              "2022-08-31  4015.370117  3954.530029  4000.669922  3955.000000  3797860000   \n",
              "\n",
              "              Adj Close  \n",
              "Date                     \n",
              "2000-01-03  1455.219971  \n",
              "2000-01-04  1399.420044  \n",
              "2000-01-05  1402.109985  \n",
              "2000-01-06  1403.449951  \n",
              "2000-01-07  1441.469971  \n",
              "...                 ...  \n",
              "2022-08-25  4199.120117  \n",
              "2022-08-26  4057.659912  \n",
              "2022-08-29  4030.610107  \n",
              "2022-08-30  3986.159912  \n",
              "2022-08-31  3955.000000  \n",
              "\n",
              "[5703 rows x 6 columns]"
            ],
            "text/html": [
              "\n",
              "  <div id=\"df-d7d91460-cc39-4dac-bfc6-566cd389d14b\">\n",
              "    <div class=\"colab-df-container\">\n",
              "      <div>\n",
              "<style scoped>\n",
              "    .dataframe tbody tr th:only-of-type {\n",
              "        vertical-align: middle;\n",
              "    }\n",
              "\n",
              "    .dataframe tbody tr th {\n",
              "        vertical-align: top;\n",
              "    }\n",
              "\n",
              "    .dataframe thead th {\n",
              "        text-align: right;\n",
              "    }\n",
              "</style>\n",
              "<table border=\"1\" class=\"dataframe\">\n",
              "  <thead>\n",
              "    <tr style=\"text-align: right;\">\n",
              "      <th></th>\n",
              "      <th>High</th>\n",
              "      <th>Low</th>\n",
              "      <th>Open</th>\n",
              "      <th>Close</th>\n",
              "      <th>Volume</th>\n",
              "      <th>Adj Close</th>\n",
              "    </tr>\n",
              "    <tr>\n",
              "      <th>Date</th>\n",
              "      <th></th>\n",
              "      <th></th>\n",
              "      <th></th>\n",
              "      <th></th>\n",
              "      <th></th>\n",
              "      <th></th>\n",
              "    </tr>\n",
              "  </thead>\n",
              "  <tbody>\n",
              "    <tr>\n",
              "      <th>2000-01-03</th>\n",
              "      <td>1478.000000</td>\n",
              "      <td>1438.359985</td>\n",
              "      <td>1469.250000</td>\n",
              "      <td>1455.219971</td>\n",
              "      <td>931800000</td>\n",
              "      <td>1455.219971</td>\n",
              "    </tr>\n",
              "    <tr>\n",
              "      <th>2000-01-04</th>\n",
              "      <td>1455.219971</td>\n",
              "      <td>1397.430054</td>\n",
              "      <td>1455.219971</td>\n",
              "      <td>1399.420044</td>\n",
              "      <td>1009000000</td>\n",
              "      <td>1399.420044</td>\n",
              "    </tr>\n",
              "    <tr>\n",
              "      <th>2000-01-05</th>\n",
              "      <td>1413.270020</td>\n",
              "      <td>1377.680054</td>\n",
              "      <td>1399.420044</td>\n",
              "      <td>1402.109985</td>\n",
              "      <td>1085500000</td>\n",
              "      <td>1402.109985</td>\n",
              "    </tr>\n",
              "    <tr>\n",
              "      <th>2000-01-06</th>\n",
              "      <td>1411.900024</td>\n",
              "      <td>1392.099976</td>\n",
              "      <td>1402.109985</td>\n",
              "      <td>1403.449951</td>\n",
              "      <td>1092300000</td>\n",
              "      <td>1403.449951</td>\n",
              "    </tr>\n",
              "    <tr>\n",
              "      <th>2000-01-07</th>\n",
              "      <td>1441.469971</td>\n",
              "      <td>1400.729980</td>\n",
              "      <td>1403.449951</td>\n",
              "      <td>1441.469971</td>\n",
              "      <td>1225200000</td>\n",
              "      <td>1441.469971</td>\n",
              "    </tr>\n",
              "    <tr>\n",
              "      <th>...</th>\n",
              "      <td>...</td>\n",
              "      <td>...</td>\n",
              "      <td>...</td>\n",
              "      <td>...</td>\n",
              "      <td>...</td>\n",
              "      <td>...</td>\n",
              "    </tr>\n",
              "    <tr>\n",
              "      <th>2022-08-25</th>\n",
              "      <td>4200.540039</td>\n",
              "      <td>4147.589844</td>\n",
              "      <td>4153.259766</td>\n",
              "      <td>4199.120117</td>\n",
              "      <td>2976050000</td>\n",
              "      <td>4199.120117</td>\n",
              "    </tr>\n",
              "    <tr>\n",
              "      <th>2022-08-26</th>\n",
              "      <td>4203.040039</td>\n",
              "      <td>4057.659912</td>\n",
              "      <td>4198.740234</td>\n",
              "      <td>4057.659912</td>\n",
              "      <td>3175260000</td>\n",
              "      <td>4057.659912</td>\n",
              "    </tr>\n",
              "    <tr>\n",
              "      <th>2022-08-29</th>\n",
              "      <td>4062.989990</td>\n",
              "      <td>4017.419922</td>\n",
              "      <td>4034.580078</td>\n",
              "      <td>4030.610107</td>\n",
              "      <td>2963020000</td>\n",
              "      <td>4030.610107</td>\n",
              "    </tr>\n",
              "    <tr>\n",
              "      <th>2022-08-30</th>\n",
              "      <td>4044.979980</td>\n",
              "      <td>3965.209961</td>\n",
              "      <td>4041.250000</td>\n",
              "      <td>3986.159912</td>\n",
              "      <td>3190580000</td>\n",
              "      <td>3986.159912</td>\n",
              "    </tr>\n",
              "    <tr>\n",
              "      <th>2022-08-31</th>\n",
              "      <td>4015.370117</td>\n",
              "      <td>3954.530029</td>\n",
              "      <td>4000.669922</td>\n",
              "      <td>3955.000000</td>\n",
              "      <td>3797860000</td>\n",
              "      <td>3955.000000</td>\n",
              "    </tr>\n",
              "  </tbody>\n",
              "</table>\n",
              "<p>5703 rows × 6 columns</p>\n",
              "</div>\n",
              "      <button class=\"colab-df-convert\" onclick=\"convertToInteractive('df-d7d91460-cc39-4dac-bfc6-566cd389d14b')\"\n",
              "              title=\"Convert this dataframe to an interactive table.\"\n",
              "              style=\"display:none;\">\n",
              "        \n",
              "  <svg xmlns=\"http://www.w3.org/2000/svg\" height=\"24px\"viewBox=\"0 0 24 24\"\n",
              "       width=\"24px\">\n",
              "    <path d=\"M0 0h24v24H0V0z\" fill=\"none\"/>\n",
              "    <path d=\"M18.56 5.44l.94 2.06.94-2.06 2.06-.94-2.06-.94-.94-2.06-.94 2.06-2.06.94zm-11 1L8.5 8.5l.94-2.06 2.06-.94-2.06-.94L8.5 2.5l-.94 2.06-2.06.94zm10 10l.94 2.06.94-2.06 2.06-.94-2.06-.94-.94-2.06-.94 2.06-2.06.94z\"/><path d=\"M17.41 7.96l-1.37-1.37c-.4-.4-.92-.59-1.43-.59-.52 0-1.04.2-1.43.59L10.3 9.45l-7.72 7.72c-.78.78-.78 2.05 0 2.83L4 21.41c.39.39.9.59 1.41.59.51 0 1.02-.2 1.41-.59l7.78-7.78 2.81-2.81c.8-.78.8-2.07 0-2.86zM5.41 20L4 18.59l7.72-7.72 1.47 1.35L5.41 20z\"/>\n",
              "  </svg>\n",
              "      </button>\n",
              "      \n",
              "  <style>\n",
              "    .colab-df-container {\n",
              "      display:flex;\n",
              "      flex-wrap:wrap;\n",
              "      gap: 12px;\n",
              "    }\n",
              "\n",
              "    .colab-df-convert {\n",
              "      background-color: #E8F0FE;\n",
              "      border: none;\n",
              "      border-radius: 50%;\n",
              "      cursor: pointer;\n",
              "      display: none;\n",
              "      fill: #1967D2;\n",
              "      height: 32px;\n",
              "      padding: 0 0 0 0;\n",
              "      width: 32px;\n",
              "    }\n",
              "\n",
              "    .colab-df-convert:hover {\n",
              "      background-color: #E2EBFA;\n",
              "      box-shadow: 0px 1px 2px rgba(60, 64, 67, 0.3), 0px 1px 3px 1px rgba(60, 64, 67, 0.15);\n",
              "      fill: #174EA6;\n",
              "    }\n",
              "\n",
              "    [theme=dark] .colab-df-convert {\n",
              "      background-color: #3B4455;\n",
              "      fill: #D2E3FC;\n",
              "    }\n",
              "\n",
              "    [theme=dark] .colab-df-convert:hover {\n",
              "      background-color: #434B5C;\n",
              "      box-shadow: 0px 1px 3px 1px rgba(0, 0, 0, 0.15);\n",
              "      filter: drop-shadow(0px 1px 2px rgba(0, 0, 0, 0.3));\n",
              "      fill: #FFFFFF;\n",
              "    }\n",
              "  </style>\n",
              "\n",
              "      <script>\n",
              "        const buttonEl =\n",
              "          document.querySelector('#df-d7d91460-cc39-4dac-bfc6-566cd389d14b button.colab-df-convert');\n",
              "        buttonEl.style.display =\n",
              "          google.colab.kernel.accessAllowed ? 'block' : 'none';\n",
              "\n",
              "        async function convertToInteractive(key) {\n",
              "          const element = document.querySelector('#df-d7d91460-cc39-4dac-bfc6-566cd389d14b');\n",
              "          const dataTable =\n",
              "            await google.colab.kernel.invokeFunction('convertToInteractive',\n",
              "                                                     [key], {});\n",
              "          if (!dataTable) return;\n",
              "\n",
              "          const docLinkHtml = 'Like what you see? Visit the ' +\n",
              "            '<a target=\"_blank\" href=https://colab.research.google.com/notebooks/data_table.ipynb>data table notebook</a>'\n",
              "            + ' to learn more about interactive tables.';\n",
              "          element.innerHTML = '';\n",
              "          dataTable['output_type'] = 'display_data';\n",
              "          await google.colab.output.renderOutput(dataTable, element);\n",
              "          const docLink = document.createElement('div');\n",
              "          docLink.innerHTML = docLinkHtml;\n",
              "          element.appendChild(docLink);\n",
              "        }\n",
              "      </script>\n",
              "    </div>\n",
              "  </div>\n",
              "  "
            ]
          },
          "metadata": {},
          "execution_count": 5
        }
      ]
    },
    {
      "cell_type": "code",
      "source": [
        "# récuperation des valeurs de la colonne Adj Close \n",
        "data = data_yahoo[[\"Adj Close\"]].values\n",
        "data"
      ],
      "metadata": {
        "colab": {
          "base_uri": "https://localhost:8080/"
        },
        "id": "K2M8xXzLVlP_",
        "outputId": "fcfdcbbb-1e4b-4b08-abf5-06d0ed551381"
      },
      "execution_count": null,
      "outputs": [
        {
          "output_type": "execute_result",
          "data": {
            "text/plain": [
              "array([[1455.2199707 ],\n",
              "       [1399.42004395],\n",
              "       [1402.10998535],\n",
              "       ...,\n",
              "       [4030.61010742],\n",
              "       [3986.15991211],\n",
              "       [3955.        ]])"
            ]
          },
          "metadata": {},
          "execution_count": 8
        }
      ]
    },
    {
      "cell_type": "markdown",
      "source": [
        "# Normalisation des données"
      ],
      "metadata": {
        "id": "tNaAmM5Ke_Pc"
      }
    },
    {
      "cell_type": "code",
      "source": [
        "# Normalisation des valeurs récupérer\n",
        "mms = MinMaxScaler()\n",
        "data_normalisee = mms.fit_transform(data)\n",
        "data_normalisee"
      ],
      "metadata": {
        "colab": {
          "base_uri": "https://localhost:8080/"
        },
        "id": "6jKwsf-IW-Fh",
        "outputId": "8809a66a-1b18-462b-bded-b4a65a9c63fe"
      },
      "execution_count": null,
      "outputs": [
        {
          "output_type": "execute_result",
          "data": {
            "text/plain": [
              "array([[0.18900104],\n",
              "       [0.17545746],\n",
              "       [0.17611036],\n",
              "       ...,\n",
              "       [0.81409117],\n",
              "       [0.80330237],\n",
              "       [0.79573934]])"
            ]
          },
          "metadata": {},
          "execution_count": 13
        }
      ]
    },
    {
      "cell_type": "code",
      "source": [
        "print(data_normalisee[0:1,0] ) \n",
        "print(data_normalisee[1,0])"
      ],
      "metadata": {
        "colab": {
          "base_uri": "https://localhost:8080/"
        },
        "id": "_gpv6d1GbQ-O",
        "outputId": "2fa078fa-164f-45fc-c0a7-e19ff671608d"
      },
      "execution_count": null,
      "outputs": [
        {
          "output_type": "stream",
          "name": "stdout",
          "text": [
            "[0.18900104]\n",
            "0.17545746256898181\n"
          ]
        }
      ]
    },
    {
      "cell_type": "markdown",
      "source": [
        "# Création de X_train, y_train, X_test et y_test"
      ],
      "metadata": {
        "id": "yEkD1CmUfG9y"
      }
    },
    {
      "cell_type": "code",
      "source": [
        "# Création de X_data et y_data\n",
        "X_data = []\n",
        "y_data = []\n",
        "const=1\n",
        "for i in range(len(data_normalisee)-1):\n",
        "  X_data.append(data_normalisee[i:i+const,0])\n",
        "  y_data.append(data_normalisee[i+const,0])"
      ],
      "metadata": {
        "id": "Ib9si3eVYE5v"
      },
      "execution_count": null,
      "outputs": []
    },
    {
      "cell_type": "code",
      "source": [
        "# Transformation de X_data et y_data en array\n",
        "X_data=np.array(X_data)\n",
        "y_data=np.array(y_data)\n",
        "\n",
        "X_data.shape,y_data.shape"
      ],
      "metadata": {
        "colab": {
          "base_uri": "https://localhost:8080/"
        },
        "id": "KkcpliLNbvGL",
        "outputId": "a5865b4c-cc0b-4010-b414-a369d6b76e2b"
      },
      "execution_count": null,
      "outputs": [
        {
          "output_type": "execute_result",
          "data": {
            "text/plain": [
              "((5702, 1), (5702,))"
            ]
          },
          "metadata": {},
          "execution_count": 18
        }
      ]
    },
    {
      "cell_type": "code",
      "source": [
        "# Redimensionnement de \"X_data\" en ajoutant une nouvelle dimension de shape \"1\"\n",
        "X_data=np.reshape(X_data,(X_data.shape[0],X_data.shape[1],1))\n",
        "X_data.shape"
      ],
      "metadata": {
        "colab": {
          "base_uri": "https://localhost:8080/"
        },
        "id": "X_kV5majcGT7",
        "outputId": "94200b76-d0c4-4cbd-8114-c50fe641a69f"
      },
      "execution_count": null,
      "outputs": [
        {
          "output_type": "execute_result",
          "data": {
            "text/plain": [
              "(5702, 1, 1)"
            ]
          },
          "metadata": {},
          "execution_count": 19
        }
      ]
    },
    {
      "cell_type": "code",
      "source": [
        "# Définition de X_train et y_train\n",
        "long_train = int(len(X_data)*0.70)\n",
        "X_train = X_data[0:long_train,:]\n",
        "y_train = y_data[0:long_train]"
      ],
      "metadata": {
        "id": "SxSWWl7xcQAG"
      },
      "execution_count": null,
      "outputs": []
    },
    {
      "cell_type": "code",
      "source": [
        "X_train.shape, y_train.shape"
      ],
      "metadata": {
        "colab": {
          "base_uri": "https://localhost:8080/"
        },
        "id": "eo-tS8imduhB",
        "outputId": "a6f4ce38-9cd1-4df2-e92c-3bc933c67c63"
      },
      "execution_count": null,
      "outputs": [
        {
          "output_type": "execute_result",
          "data": {
            "text/plain": [
              "((3991, 1, 1), (3991,))"
            ]
          },
          "metadata": {},
          "execution_count": 69
        }
      ]
    },
    {
      "cell_type": "code",
      "source": [
        "# Définition de X_test et y_test\n",
        "X_test = X_data[long_train:len(X_data),:]\n",
        "y_test = y_data[long_train:len(y_data)]"
      ],
      "metadata": {
        "id": "o9poTfVheDdc"
      },
      "execution_count": null,
      "outputs": []
    },
    {
      "cell_type": "code",
      "source": [
        "X_test.shape, y_test.shape"
      ],
      "metadata": {
        "colab": {
          "base_uri": "https://localhost:8080/"
        },
        "id": "jQaQJd0tef0-",
        "outputId": "37a5323f-2102-4057-d674-d644cf84911c"
      },
      "execution_count": null,
      "outputs": [
        {
          "output_type": "execute_result",
          "data": {
            "text/plain": [
              "((1711, 1, 1), (1711,))"
            ]
          },
          "metadata": {},
          "execution_count": 71
        }
      ]
    },
    {
      "cell_type": "markdown",
      "source": [
        "# Model RNN"
      ],
      "metadata": {
        "id": "C7lWUBPmewml"
      }
    },
    {
      "cell_type": "code",
      "source": [
        "# Architecture RNN\n",
        "def model_rnn(inputShape):\n",
        "  model_rnn = Sequential()\n",
        "  model_rnn.add(SimpleRNN(255,activation='relu',input_shape=inputShape,return_sequences=True))\n",
        "  model_rnn.add(SimpleRNN(200,activation='relu',return_sequences=True))\n",
        "  model_rnn.add(SimpleRNN(128,activation='relu',return_sequences=True))\n",
        "  model_rnn.add(SimpleRNN(56,activation='relu',return_sequences=True))\n",
        "  model_rnn.add(SimpleRNN(32,activation='relu',return_sequences=True))\n",
        "  model_rnn.add(SimpleRNN(16,activation='relu',return_sequences=True))\n",
        "  model_rnn.add(SimpleRNN(8,activation='relu',return_sequences=False))  \n",
        "  model_rnn.add(Dense(1,activation='sigmoid'))\n",
        "  return model_rnn"
      ],
      "metadata": {
        "id": "ZdPKR17nes8U"
      },
      "execution_count": null,
      "outputs": []
    },
    {
      "cell_type": "code",
      "source": [
        "model_rnn =model_rnn((X_train.shape[1],1))\n",
        "model_rnn.summary()"
      ],
      "metadata": {
        "colab": {
          "base_uri": "https://localhost:8080/"
        },
        "id": "904ZGYrqiO-z",
        "outputId": "60a3c71b-d40c-4204-8504-3207cc9e874e"
      },
      "execution_count": null,
      "outputs": [
        {
          "output_type": "stream",
          "name": "stdout",
          "text": [
            "Model: \"sequential_9\"\n",
            "_________________________________________________________________\n",
            " Layer (type)                Output Shape              Param #   \n",
            "=================================================================\n",
            " simple_rnn_29 (SimpleRNN)   (None, 1, 255)            65535     \n",
            "                                                                 \n",
            " simple_rnn_30 (SimpleRNN)   (None, 1, 200)            91200     \n",
            "                                                                 \n",
            " simple_rnn_31 (SimpleRNN)   (None, 1, 128)            42112     \n",
            "                                                                 \n",
            " simple_rnn_32 (SimpleRNN)   (None, 1, 56)             10360     \n",
            "                                                                 \n",
            " simple_rnn_33 (SimpleRNN)   (None, 1, 32)             2848      \n",
            "                                                                 \n",
            " simple_rnn_34 (SimpleRNN)   (None, 1, 16)             784       \n",
            "                                                                 \n",
            " simple_rnn_35 (SimpleRNN)   (None, 8)                 200       \n",
            "                                                                 \n",
            " dense_4 (Dense)             (None, 1)                 9         \n",
            "                                                                 \n",
            "=================================================================\n",
            "Total params: 213,048\n",
            "Trainable params: 213,048\n",
            "Non-trainable params: 0\n",
            "_________________________________________________________________\n"
          ]
        }
      ]
    },
    {
      "cell_type": "code",
      "source": [
        "# Compilation du modèle RNN\n",
        "model_rnn.compile(optimizer=\"adam\",loss=\"mean_squared_error\",metrics=\"RootMeanSquaredError\")\n",
        "model_rnn.fit(X_train,y_train,batch_size=32,epochs=100)"
      ],
      "metadata": {
        "colab": {
          "base_uri": "https://localhost:8080/"
        },
        "id": "FUYsGD0KjgaU",
        "outputId": "3fdc8332-8dc4-47ba-a00d-e92c412737eb"
      },
      "execution_count": null,
      "outputs": [
        {
          "output_type": "stream",
          "name": "stdout",
          "text": [
            "Epoch 1/100\n",
            "125/125 [==============================] - 6s 8ms/step - loss: 1.6535e-05 - root_mean_squared_error: 0.0041\n",
            "Epoch 2/100\n",
            "125/125 [==============================] - 1s 9ms/step - loss: 1.4247e-05 - root_mean_squared_error: 0.0038\n",
            "Epoch 3/100\n",
            "125/125 [==============================] - 1s 9ms/step - loss: 1.4950e-05 - root_mean_squared_error: 0.0039\n",
            "Epoch 4/100\n",
            "125/125 [==============================] - 1s 9ms/step - loss: 1.4952e-05 - root_mean_squared_error: 0.0039\n",
            "Epoch 5/100\n",
            "125/125 [==============================] - 1s 9ms/step - loss: 1.4430e-05 - root_mean_squared_error: 0.0038\n",
            "Epoch 6/100\n",
            "125/125 [==============================] - 1s 9ms/step - loss: 1.4478e-05 - root_mean_squared_error: 0.0038\n",
            "Epoch 7/100\n",
            "125/125 [==============================] - 1s 9ms/step - loss: 1.5010e-05 - root_mean_squared_error: 0.0039\n",
            "Epoch 8/100\n",
            "125/125 [==============================] - 1s 9ms/step - loss: 1.5540e-05 - root_mean_squared_error: 0.0039\n",
            "Epoch 9/100\n",
            "125/125 [==============================] - 1s 9ms/step - loss: 1.5356e-05 - root_mean_squared_error: 0.0039\n",
            "Epoch 10/100\n",
            "125/125 [==============================] - 1s 9ms/step - loss: 1.4636e-05 - root_mean_squared_error: 0.0038\n",
            "Epoch 11/100\n",
            "125/125 [==============================] - 1s 9ms/step - loss: 1.4430e-05 - root_mean_squared_error: 0.0038\n",
            "Epoch 12/100\n",
            "125/125 [==============================] - 1s 9ms/step - loss: 1.4790e-05 - root_mean_squared_error: 0.0038\n",
            "Epoch 13/100\n",
            "125/125 [==============================] - 1s 9ms/step - loss: 1.5192e-05 - root_mean_squared_error: 0.0039\n",
            "Epoch 14/100\n",
            "125/125 [==============================] - 1s 9ms/step - loss: 1.4704e-05 - root_mean_squared_error: 0.0038\n",
            "Epoch 15/100\n",
            "125/125 [==============================] - 1s 9ms/step - loss: 1.5025e-05 - root_mean_squared_error: 0.0039\n",
            "Epoch 16/100\n",
            "125/125 [==============================] - 1s 9ms/step - loss: 1.4439e-05 - root_mean_squared_error: 0.0038\n",
            "Epoch 17/100\n",
            "125/125 [==============================] - 1s 9ms/step - loss: 1.5838e-05 - root_mean_squared_error: 0.0040\n",
            "Epoch 18/100\n",
            "125/125 [==============================] - 1s 10ms/step - loss: 1.5457e-05 - root_mean_squared_error: 0.0039\n",
            "Epoch 19/100\n",
            "125/125 [==============================] - 1s 9ms/step - loss: 1.3918e-05 - root_mean_squared_error: 0.0037\n",
            "Epoch 20/100\n",
            "125/125 [==============================] - 1s 9ms/step - loss: 1.3754e-05 - root_mean_squared_error: 0.0037\n",
            "Epoch 21/100\n",
            "125/125 [==============================] - 1s 9ms/step - loss: 1.6894e-05 - root_mean_squared_error: 0.0041\n",
            "Epoch 22/100\n",
            "125/125 [==============================] - 1s 9ms/step - loss: 1.4314e-05 - root_mean_squared_error: 0.0038\n",
            "Epoch 23/100\n",
            "125/125 [==============================] - 1s 9ms/step - loss: 1.4384e-05 - root_mean_squared_error: 0.0038\n",
            "Epoch 24/100\n",
            "125/125 [==============================] - 1s 10ms/step - loss: 1.4389e-05 - root_mean_squared_error: 0.0038\n",
            "Epoch 25/100\n",
            "125/125 [==============================] - 1s 10ms/step - loss: 1.4881e-05 - root_mean_squared_error: 0.0039\n",
            "Epoch 26/100\n",
            "125/125 [==============================] - 1s 9ms/step - loss: 1.4583e-05 - root_mean_squared_error: 0.0038\n",
            "Epoch 27/100\n",
            "125/125 [==============================] - 1s 9ms/step - loss: 1.5238e-05 - root_mean_squared_error: 0.0039\n",
            "Epoch 28/100\n",
            "125/125 [==============================] - 1s 9ms/step - loss: 1.4959e-05 - root_mean_squared_error: 0.0039\n",
            "Epoch 29/100\n",
            "125/125 [==============================] - 1s 9ms/step - loss: 1.6460e-05 - root_mean_squared_error: 0.0041\n",
            "Epoch 30/100\n",
            "125/125 [==============================] - 2s 13ms/step - loss: 1.4394e-05 - root_mean_squared_error: 0.0038\n",
            "Epoch 31/100\n",
            "125/125 [==============================] - 2s 15ms/step - loss: 1.5941e-05 - root_mean_squared_error: 0.0040\n",
            "Epoch 32/100\n",
            "125/125 [==============================] - 1s 9ms/step - loss: 1.5142e-05 - root_mean_squared_error: 0.0039\n",
            "Epoch 33/100\n",
            "125/125 [==============================] - 1s 9ms/step - loss: 1.3900e-05 - root_mean_squared_error: 0.0037\n",
            "Epoch 34/100\n",
            "125/125 [==============================] - 1s 10ms/step - loss: 1.5623e-05 - root_mean_squared_error: 0.0040\n",
            "Epoch 35/100\n",
            "125/125 [==============================] - 1s 9ms/step - loss: 1.5371e-05 - root_mean_squared_error: 0.0039\n",
            "Epoch 36/100\n",
            "125/125 [==============================] - 1s 10ms/step - loss: 1.5216e-05 - root_mean_squared_error: 0.0039\n",
            "Epoch 37/100\n",
            "125/125 [==============================] - 1s 10ms/step - loss: 1.4323e-05 - root_mean_squared_error: 0.0038\n",
            "Epoch 38/100\n",
            "125/125 [==============================] - 1s 9ms/step - loss: 1.4561e-05 - root_mean_squared_error: 0.0038\n",
            "Epoch 39/100\n",
            "125/125 [==============================] - 1s 9ms/step - loss: 1.4703e-05 - root_mean_squared_error: 0.0038\n",
            "Epoch 40/100\n",
            "125/125 [==============================] - 1s 9ms/step - loss: 1.4874e-05 - root_mean_squared_error: 0.0039\n",
            "Epoch 41/100\n",
            "125/125 [==============================] - 1s 9ms/step - loss: 1.4575e-05 - root_mean_squared_error: 0.0038\n",
            "Epoch 42/100\n",
            "125/125 [==============================] - 1s 9ms/step - loss: 1.4550e-05 - root_mean_squared_error: 0.0038\n",
            "Epoch 43/100\n",
            "125/125 [==============================] - 1s 9ms/step - loss: 1.4611e-05 - root_mean_squared_error: 0.0038\n",
            "Epoch 44/100\n",
            "125/125 [==============================] - 1s 9ms/step - loss: 1.5689e-05 - root_mean_squared_error: 0.0040\n",
            "Epoch 45/100\n",
            "125/125 [==============================] - 1s 9ms/step - loss: 1.4707e-05 - root_mean_squared_error: 0.0038\n",
            "Epoch 46/100\n",
            "125/125 [==============================] - 1s 9ms/step - loss: 1.4584e-05 - root_mean_squared_error: 0.0038\n",
            "Epoch 47/100\n",
            "125/125 [==============================] - 1s 9ms/step - loss: 1.4777e-05 - root_mean_squared_error: 0.0038\n",
            "Epoch 48/100\n",
            "125/125 [==============================] - 1s 9ms/step - loss: 1.4385e-05 - root_mean_squared_error: 0.0038\n",
            "Epoch 49/100\n",
            "125/125 [==============================] - 1s 9ms/step - loss: 1.5174e-05 - root_mean_squared_error: 0.0039\n",
            "Epoch 50/100\n",
            "125/125 [==============================] - 1s 9ms/step - loss: 1.5545e-05 - root_mean_squared_error: 0.0039\n",
            "Epoch 51/100\n",
            "125/125 [==============================] - 1s 9ms/step - loss: 1.4457e-05 - root_mean_squared_error: 0.0038\n",
            "Epoch 52/100\n",
            "125/125 [==============================] - 1s 9ms/step - loss: 1.4764e-05 - root_mean_squared_error: 0.0038\n",
            "Epoch 53/100\n",
            "125/125 [==============================] - 1s 9ms/step - loss: 1.5278e-05 - root_mean_squared_error: 0.0039\n",
            "Epoch 54/100\n",
            "125/125 [==============================] - 1s 9ms/step - loss: 1.5092e-05 - root_mean_squared_error: 0.0039\n",
            "Epoch 55/100\n",
            "125/125 [==============================] - 1s 9ms/step - loss: 1.4977e-05 - root_mean_squared_error: 0.0039\n",
            "Epoch 56/100\n",
            "125/125 [==============================] - 1s 9ms/step - loss: 1.4218e-05 - root_mean_squared_error: 0.0038\n",
            "Epoch 57/100\n",
            "125/125 [==============================] - 1s 9ms/step - loss: 1.4348e-05 - root_mean_squared_error: 0.0038\n",
            "Epoch 58/100\n",
            "125/125 [==============================] - 1s 9ms/step - loss: 1.4763e-05 - root_mean_squared_error: 0.0038\n",
            "Epoch 59/100\n",
            "125/125 [==============================] - 1s 9ms/step - loss: 1.4280e-05 - root_mean_squared_error: 0.0038\n",
            "Epoch 60/100\n",
            "125/125 [==============================] - 1s 9ms/step - loss: 1.4161e-05 - root_mean_squared_error: 0.0038\n",
            "Epoch 61/100\n",
            "125/125 [==============================] - 1s 9ms/step - loss: 1.6222e-05 - root_mean_squared_error: 0.0040\n",
            "Epoch 62/100\n",
            "125/125 [==============================] - 1s 8ms/step - loss: 1.5033e-05 - root_mean_squared_error: 0.0039\n",
            "Epoch 63/100\n",
            "125/125 [==============================] - 1s 9ms/step - loss: 1.5374e-05 - root_mean_squared_error: 0.0039\n",
            "Epoch 64/100\n",
            "125/125 [==============================] - 1s 9ms/step - loss: 1.4347e-05 - root_mean_squared_error: 0.0038\n",
            "Epoch 65/100\n",
            "125/125 [==============================] - 1s 9ms/step - loss: 1.5079e-05 - root_mean_squared_error: 0.0039\n",
            "Epoch 66/100\n",
            "125/125 [==============================] - 1s 9ms/step - loss: 1.4302e-05 - root_mean_squared_error: 0.0038\n",
            "Epoch 67/100\n",
            "125/125 [==============================] - 1s 9ms/step - loss: 1.4848e-05 - root_mean_squared_error: 0.0039\n",
            "Epoch 68/100\n",
            "125/125 [==============================] - 1s 9ms/step - loss: 1.5156e-05 - root_mean_squared_error: 0.0039\n",
            "Epoch 69/100\n",
            "125/125 [==============================] - 1s 9ms/step - loss: 1.4536e-05 - root_mean_squared_error: 0.0038\n",
            "Epoch 70/100\n",
            "125/125 [==============================] - 1s 9ms/step - loss: 1.4756e-05 - root_mean_squared_error: 0.0038\n",
            "Epoch 71/100\n",
            "125/125 [==============================] - 1s 10ms/step - loss: 1.5011e-05 - root_mean_squared_error: 0.0039\n",
            "Epoch 72/100\n",
            "125/125 [==============================] - 1s 10ms/step - loss: 1.5113e-05 - root_mean_squared_error: 0.0039\n",
            "Epoch 73/100\n",
            "125/125 [==============================] - 1s 10ms/step - loss: 1.4458e-05 - root_mean_squared_error: 0.0038\n",
            "Epoch 74/100\n",
            "125/125 [==============================] - 1s 9ms/step - loss: 1.5069e-05 - root_mean_squared_error: 0.0039\n",
            "Epoch 75/100\n",
            "125/125 [==============================] - 1s 9ms/step - loss: 1.5934e-05 - root_mean_squared_error: 0.0040\n",
            "Epoch 76/100\n",
            "125/125 [==============================] - 1s 9ms/step - loss: 1.4795e-05 - root_mean_squared_error: 0.0038\n",
            "Epoch 77/100\n",
            "125/125 [==============================] - 1s 9ms/step - loss: 1.5254e-05 - root_mean_squared_error: 0.0039\n",
            "Epoch 78/100\n",
            "125/125 [==============================] - 1s 9ms/step - loss: 1.4318e-05 - root_mean_squared_error: 0.0038\n",
            "Epoch 79/100\n",
            "125/125 [==============================] - 1s 9ms/step - loss: 1.4567e-05 - root_mean_squared_error: 0.0038\n",
            "Epoch 80/100\n",
            "125/125 [==============================] - 1s 9ms/step - loss: 1.5406e-05 - root_mean_squared_error: 0.0039\n",
            "Epoch 81/100\n",
            "125/125 [==============================] - 1s 9ms/step - loss: 1.4674e-05 - root_mean_squared_error: 0.0038\n",
            "Epoch 82/100\n",
            "125/125 [==============================] - 1s 9ms/step - loss: 1.4709e-05 - root_mean_squared_error: 0.0038\n",
            "Epoch 83/100\n",
            "125/125 [==============================] - 1s 9ms/step - loss: 1.4666e-05 - root_mean_squared_error: 0.0038\n",
            "Epoch 84/100\n",
            "125/125 [==============================] - 1s 9ms/step - loss: 1.5208e-05 - root_mean_squared_error: 0.0039\n",
            "Epoch 85/100\n",
            "125/125 [==============================] - 1s 9ms/step - loss: 1.4578e-05 - root_mean_squared_error: 0.0038\n",
            "Epoch 86/100\n",
            "125/125 [==============================] - 1s 10ms/step - loss: 1.5224e-05 - root_mean_squared_error: 0.0039\n",
            "Epoch 87/100\n",
            "125/125 [==============================] - 1s 10ms/step - loss: 1.5295e-05 - root_mean_squared_error: 0.0039\n",
            "Epoch 88/100\n",
            "125/125 [==============================] - 1s 9ms/step - loss: 1.4303e-05 - root_mean_squared_error: 0.0038\n",
            "Epoch 89/100\n",
            "125/125 [==============================] - 1s 9ms/step - loss: 1.4504e-05 - root_mean_squared_error: 0.0038\n",
            "Epoch 90/100\n",
            "125/125 [==============================] - 1s 9ms/step - loss: 1.5011e-05 - root_mean_squared_error: 0.0039\n",
            "Epoch 91/100\n",
            "125/125 [==============================] - 1s 9ms/step - loss: 1.5351e-05 - root_mean_squared_error: 0.0039\n",
            "Epoch 92/100\n",
            "125/125 [==============================] - 1s 9ms/step - loss: 1.5218e-05 - root_mean_squared_error: 0.0039\n",
            "Epoch 93/100\n",
            "125/125 [==============================] - 1s 9ms/step - loss: 1.6198e-05 - root_mean_squared_error: 0.0040\n",
            "Epoch 94/100\n",
            "125/125 [==============================] - 1s 9ms/step - loss: 1.5433e-05 - root_mean_squared_error: 0.0039\n",
            "Epoch 95/100\n",
            "125/125 [==============================] - 1s 9ms/step - loss: 1.4629e-05 - root_mean_squared_error: 0.0038\n",
            "Epoch 96/100\n",
            "125/125 [==============================] - 1s 9ms/step - loss: 1.4433e-05 - root_mean_squared_error: 0.0038\n",
            "Epoch 97/100\n",
            "125/125 [==============================] - 1s 9ms/step - loss: 1.4470e-05 - root_mean_squared_error: 0.0038\n",
            "Epoch 98/100\n",
            "125/125 [==============================] - 1s 9ms/step - loss: 1.3969e-05 - root_mean_squared_error: 0.0037\n",
            "Epoch 99/100\n",
            "125/125 [==============================] - 1s 9ms/step - loss: 1.4507e-05 - root_mean_squared_error: 0.0038\n",
            "Epoch 100/100\n",
            "125/125 [==============================] - 1s 9ms/step - loss: 1.5812e-05 - root_mean_squared_error: 0.0040\n"
          ]
        },
        {
          "output_type": "execute_result",
          "data": {
            "text/plain": [
              "<keras.callbacks.History at 0x7f13050fe950>"
            ]
          },
          "metadata": {},
          "execution_count": 81
        }
      ]
    },
    {
      "cell_type": "code",
      "source": [
        "model_rnn.evaluate(X_test,y_test)"
      ],
      "metadata": {
        "colab": {
          "base_uri": "https://localhost:8080/"
        },
        "id": "rFSGUMKZjj94",
        "outputId": "ea6f2752-5cd7-41ff-ded7-f024cfa5c411"
      },
      "execution_count": null,
      "outputs": [
        {
          "output_type": "stream",
          "name": "stdout",
          "text": [
            "54/54 [==============================] - 1s 4ms/step - loss: 0.0888 - root_mean_squared_error: 0.2980\n"
          ]
        },
        {
          "output_type": "execute_result",
          "data": {
            "text/plain": [
              "[0.08878833055496216, 0.29797372221946716]"
            ]
          },
          "metadata": {},
          "execution_count": 82
        }
      ]
    }
  ]
}