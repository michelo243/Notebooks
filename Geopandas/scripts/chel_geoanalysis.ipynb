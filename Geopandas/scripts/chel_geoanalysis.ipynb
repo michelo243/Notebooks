{
 "cells": [
  {
   "cell_type": "code",
   "execution_count": 10,
   "id": "448ef73b",
   "metadata": {
    "pycharm": {
     "name": "#%%\n"
    }
   },
   "outputs": [
    {
     "name": "stdout",
     "output_type": "stream",
     "text": [
      "Requirement already satisfied: fiona in /Library/Frameworks/Python.framework/Versions/3.10/lib/python3.10/site-packages (1.8.21)\n",
      "Requirement already satisfied: munch in /Library/Frameworks/Python.framework/Versions/3.10/lib/python3.10/site-packages (from fiona) (2.5.0)\n",
      "Requirement already satisfied: click-plugins>=1.0 in /Library/Frameworks/Python.framework/Versions/3.10/lib/python3.10/site-packages (from fiona) (1.1.1)\n",
      "Requirement already satisfied: attrs>=17 in /Library/Frameworks/Python.framework/Versions/3.10/lib/python3.10/site-packages (from fiona) (21.4.0)\n",
      "Requirement already satisfied: setuptools in /Library/Frameworks/Python.framework/Versions/3.10/lib/python3.10/site-packages (from fiona) (58.1.0)\n",
      "Requirement already satisfied: cligj>=0.5 in /Library/Frameworks/Python.framework/Versions/3.10/lib/python3.10/site-packages (from fiona) (0.7.2)\n",
      "Requirement already satisfied: certifi in /Library/Frameworks/Python.framework/Versions/3.10/lib/python3.10/site-packages (from fiona) (2022.6.15)\n",
      "Requirement already satisfied: six>=1.7 in /Library/Frameworks/Python.framework/Versions/3.10/lib/python3.10/site-packages (from fiona) (1.16.0)\n",
      "Requirement already satisfied: click>=4.0 in /Library/Frameworks/Python.framework/Versions/3.10/lib/python3.10/site-packages (from fiona) (8.1.3)\n"
     ]
    }
   ],
   "source": [
    "!pip3 install descartes --quiet\n",
    "!pip3 install geopandas --quiet\n",
    "!pip3 install pyogrio --quiet\n",
    "!pip3 install fiona\n",
    "\n",
    "# conda install --channel conda-forge geopandas \n",
    "# conda install pandas fiona shapely pyproj rtree"
   ]
  },
  {
   "cell_type": "code",
   "execution_count": 8,
   "id": "923866ab",
   "metadata": {
    "execution": {
     "iopub.execute_input": "2022-09-01T22:40:27.178375Z",
     "iopub.status.busy": "2022-09-01T22:40:27.177929Z",
     "iopub.status.idle": "2022-09-01T22:40:28.723386Z",
     "shell.execute_reply": "2022-09-01T22:40:28.722205Z"
    },
    "id": "923866ab",
    "papermill": {
     "duration": 1.556375,
     "end_time": "2022-09-01T22:40:28.726407",
     "exception": false,
     "start_time": "2022-09-01T22:40:27.170032",
     "status": "completed"
    },
    "pycharm": {
     "name": "#%%\n"
    },
    "tags": []
   },
   "outputs": [],
   "source": [
    "import pandas as pd\n",
    "import geopandas as gd # https://geopandas.org/en/stable/\n"
   ]
  },
  {
   "cell_type": "code",
   "execution_count": 9,
   "id": "1630ed53",
   "metadata": {},
   "outputs": [
    {
     "ename": "ImportError",
     "evalue": "The 'read_file' function requires the 'pyogrio' or 'fiona' package, but neither is installed or imports correctly.\nImporting fiona resulted in: dlopen(/Library/Frameworks/Python.framework/Versions/3.10/lib/python3.10/site-packages/fiona/ogrext.cpython-310-darwin.so, 0x0002): symbol not found in flat namespace (_CPLCheckForFile)\nImporting pyogrio resulted in: No module named 'pyogrio'",
     "output_type": "error",
     "traceback": [
      "\u001b[0;31m---------------------------------------------------------------------------\u001b[0m",
      "\u001b[0;31mImportError\u001b[0m                               Traceback (most recent call last)",
      "\u001b[1;32m/Users/michelo/Documents/_Notebooks/Geopandas/scripts/chel_geoanalysis.ipynb Cell 3\u001b[0m in \u001b[0;36m<cell line: 2>\u001b[0;34m()\u001b[0m\n\u001b[1;32m      <a href='vscode-notebook-cell:/Users/michelo/Documents/_Notebooks/Geopandas/scripts/chel_geoanalysis.ipynb#W2sZmlsZQ%3D%3D?line=0'>1</a>\u001b[0m \u001b[39m# Read in the data\u001b[39;00m\n\u001b[0;32m----> <a href='vscode-notebook-cell:/Users/michelo/Documents/_Notebooks/Geopandas/scripts/chel_geoanalysis.ipynb#W2sZmlsZQ%3D%3D?line=1'>2</a>\u001b[0m geo_df \u001b[39m=\u001b[39m gd\u001b[39m.\u001b[39;49mread_file(\u001b[39m\"\u001b[39;49m\u001b[39m../shapefiles/NER_adm03_feb2018.shp\u001b[39;49m\u001b[39m\"\u001b[39;49m)\n\u001b[1;32m      <a href='vscode-notebook-cell:/Users/michelo/Documents/_Notebooks/Geopandas/scripts/chel_geoanalysis.ipynb#W2sZmlsZQ%3D%3D?line=2'>3</a>\u001b[0m \u001b[39m# View the first five rows of the data\u001b[39;00m\n\u001b[1;32m      <a href='vscode-notebook-cell:/Users/michelo/Documents/_Notebooks/Geopandas/scripts/chel_geoanalysis.ipynb#W2sZmlsZQ%3D%3D?line=3'>4</a>\u001b[0m geo_df\u001b[39m.\u001b[39mhead()\n",
      "File \u001b[0;32m/Library/Frameworks/Python.framework/Versions/3.10/lib/python3.10/site-packages/geopandas/io/file.py:236\u001b[0m, in \u001b[0;36m_read_file\u001b[0;34m(filename, bbox, mask, rows, engine, **kwargs)\u001b[0m\n\u001b[1;32m    167\u001b[0m \u001b[39mdef\u001b[39;00m \u001b[39m_read_file\u001b[39m(filename, bbox\u001b[39m=\u001b[39m\u001b[39mNone\u001b[39;00m, mask\u001b[39m=\u001b[39m\u001b[39mNone\u001b[39;00m, rows\u001b[39m=\u001b[39m\u001b[39mNone\u001b[39;00m, engine\u001b[39m=\u001b[39m\u001b[39mNone\u001b[39;00m, \u001b[39m*\u001b[39m\u001b[39m*\u001b[39mkwargs):\n\u001b[1;32m    168\u001b[0m     \u001b[39m\"\"\"\u001b[39;00m\n\u001b[1;32m    169\u001b[0m \u001b[39m    Returns a GeoDataFrame from a file or URL.\u001b[39;00m\n\u001b[1;32m    170\u001b[0m \n\u001b[0;32m   (...)\u001b[0m\n\u001b[1;32m    234\u001b[0m \u001b[39m    by using the encoding keyword parameter, e.g. ``encoding='utf-8'``.\u001b[39;00m\n\u001b[1;32m    235\u001b[0m \u001b[39m    \"\"\"\u001b[39;00m\n\u001b[0;32m--> 236\u001b[0m     engine \u001b[39m=\u001b[39m _check_engine(engine, \u001b[39m\"\u001b[39;49m\u001b[39m'\u001b[39;49m\u001b[39mread_file\u001b[39;49m\u001b[39m'\u001b[39;49m\u001b[39m function\u001b[39;49m\u001b[39m\"\u001b[39;49m)\n\u001b[1;32m    238\u001b[0m     filename \u001b[39m=\u001b[39m _expand_user(filename)\n\u001b[1;32m    240\u001b[0m     from_bytes \u001b[39m=\u001b[39m \u001b[39mFalse\u001b[39;00m\n",
      "File \u001b[0;32m/Library/Frameworks/Python.framework/Versions/3.10/lib/python3.10/site-packages/geopandas/io/file.py:107\u001b[0m, in \u001b[0;36m_check_engine\u001b[0;34m(engine, func)\u001b[0m\n\u001b[1;32m    105\u001b[0m     _check_pyogrio(func)\n\u001b[1;32m    106\u001b[0m \u001b[39melif\u001b[39;00m engine \u001b[39mis\u001b[39;00m \u001b[39mNone\u001b[39;00m:\n\u001b[0;32m--> 107\u001b[0m     \u001b[39mraise\u001b[39;00m \u001b[39mImportError\u001b[39;00m(\n\u001b[1;32m    108\u001b[0m         \u001b[39mf\u001b[39m\u001b[39m\"\u001b[39m\u001b[39mThe \u001b[39m\u001b[39m{\u001b[39;00mfunc\u001b[39m}\u001b[39;00m\u001b[39m requires the \u001b[39m\u001b[39m'\u001b[39m\u001b[39mpyogrio\u001b[39m\u001b[39m'\u001b[39m\u001b[39m or \u001b[39m\u001b[39m'\u001b[39m\u001b[39mfiona\u001b[39m\u001b[39m'\u001b[39m\u001b[39m package, \u001b[39m\u001b[39m\"\u001b[39m\n\u001b[1;32m    109\u001b[0m         \u001b[39m\"\u001b[39m\u001b[39mbut neither is installed or imports correctly.\u001b[39m\u001b[39m\"\u001b[39m\n\u001b[1;32m    110\u001b[0m         \u001b[39mf\u001b[39m\u001b[39m\"\u001b[39m\u001b[39m\\n\u001b[39;00m\u001b[39mImporting fiona resulted in: \u001b[39m\u001b[39m{\u001b[39;00mfiona_import_error\u001b[39m}\u001b[39;00m\u001b[39m\"\u001b[39m\n\u001b[1;32m    111\u001b[0m         \u001b[39mf\u001b[39m\u001b[39m\"\u001b[39m\u001b[39m\\n\u001b[39;00m\u001b[39mImporting pyogrio resulted in: \u001b[39m\u001b[39m{\u001b[39;00mpyogrio_import_error\u001b[39m}\u001b[39;00m\u001b[39m\"\u001b[39m\n\u001b[1;32m    112\u001b[0m     )\n\u001b[1;32m    114\u001b[0m \u001b[39mreturn\u001b[39;00m engine\n",
      "\u001b[0;31mImportError\u001b[0m: The 'read_file' function requires the 'pyogrio' or 'fiona' package, but neither is installed or imports correctly.\nImporting fiona resulted in: dlopen(/Library/Frameworks/Python.framework/Versions/3.10/lib/python3.10/site-packages/fiona/ogrext.cpython-310-darwin.so, 0x0002): symbol not found in flat namespace (_CPLCheckForFile)\nImporting pyogrio resulted in: No module named 'pyogrio'"
     ]
    }
   ],
   "source": [
    "# Read in the data\n",
    "geo_df = gd.read_file(\"../shapefiles/NER_adm03_feb2018.shp\")\n",
    "# View the first five rows of the data\n",
    "geo_df.head()"
   ]
  }
 ],
 "metadata": {
  "colab": {
   "provenance": []
  },
  "kernelspec": {
   "display_name": "Python 3.10.5 64-bit",
   "language": "python",
   "name": "python3"
  },
  "language_info": {
   "codemirror_mode": {
    "name": "ipython",
    "version": 3
   },
   "file_extension": ".py",
   "mimetype": "text/x-python",
   "name": "python",
   "nbconvert_exporter": "python",
   "pygments_lexer": "ipython3",
   "version": "3.10.5"
  },
  "papermill": {
   "default_parameters": {},
   "duration": 24.410486,
   "end_time": "2022-09-01T22:40:42.424093",
   "environment_variables": {},
   "exception": null,
   "input_path": "__notebook__.ipynb",
   "output_path": "__notebook__.ipynb",
   "parameters": {},
   "start_time": "2022-09-01T22:40:18.013607",
   "version": "2.3.4"
  },
  "vscode": {
   "interpreter": {
    "hash": "aee8b7b246df8f9039afb4144a1f6fd8d2ca17a180786b69acc140d282b71a49"
   }
  }
 },
 "nbformat": 4,
 "nbformat_minor": 5
}
