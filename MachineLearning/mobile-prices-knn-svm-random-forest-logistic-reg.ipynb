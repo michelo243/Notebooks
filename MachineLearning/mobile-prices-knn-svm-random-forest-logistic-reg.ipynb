{
 "cells": [
  {
   "cell_type": "markdown",
   "id": "edab38be",
   "metadata": {
    "papermill": {
     "duration": 0.017423,
     "end_time": "2022-08-31T16:15:22.668125",
     "exception": false,
     "start_time": "2022-08-31T16:15:22.650702",
     "status": "completed"
    },
    "tags": []
   },
   "source": [
    "# MOBILE Price Classification"
   ]
  },
  {
   "cell_type": "code",
   "execution_count": 1,
   "id": "02cc5e58",
   "metadata": {
    "execution": {
     "iopub.execute_input": "2022-08-31T16:15:22.703313Z",
     "iopub.status.busy": "2022-08-31T16:15:22.702842Z",
     "iopub.status.idle": "2022-08-31T16:15:22.719996Z",
     "shell.execute_reply": "2022-08-31T16:15:22.718741Z"
    },
    "papermill": {
     "duration": 0.036641,
     "end_time": "2022-08-31T16:15:22.722603",
     "exception": false,
     "start_time": "2022-08-31T16:15:22.685962",
     "status": "completed"
    },
    "tags": []
   },
   "outputs": [
    {
     "data": {
      "text/html": [
       "<img src=\"https://m-cdn.phonearena.com/images/article/64576-wide-two_940/The-Best-Phones-in-2022-updated-August\" width=\"1000\" height=\"800\"/>"
      ],
      "text/plain": [
       "<IPython.core.display.Image object>"
      ]
     },
     "execution_count": 1,
     "metadata": {},
     "output_type": "execute_result"
    }
   ],
   "source": [
    "from IPython.display import Image\n",
    "Image(url='https://m-cdn.phonearena.com/images/article/64576-wide-two_940/The-Best-Phones-in-2022-updated-August', width=1000, height=800)"
   ]
  },
  {
   "cell_type": "markdown",
   "id": "70e996be",
   "metadata": {
    "papermill": {
     "duration": 0.015481,
     "end_time": "2022-08-31T16:15:22.754106",
     "exception": false,
     "start_time": "2022-08-31T16:15:22.738625",
     "status": "completed"
    },
    "tags": []
   },
   "source": [
    "\n",
    "<span style=\"color:blue\"> *\n",
    "    CONTEXT: \n",
    "    Bob has started his own mobile company. He wants to give tough fight to big companies like Apple,Samsung etc.\n",
    "He does not know how to estimate price of mobiles his company creates. In this competitive mobile phone market you cannot simply assume things. To solve this problem he collects sales data of mobile phones of various companies.\n",
    "Bob wants to find out some relation between features of a mobile phone(eg:- RAM,Internal Memory etc) and its selling price. But he is not so good at Machine Learning. So he needs your help to solve this problem.\n",
    "In this problem you do not have to predict actual price but a price range indicating how high the price is*</span>"
   ]
  },
  {
   "cell_type": "markdown",
   "id": "b8103750",
   "metadata": {
    "papermill": {
     "duration": 0.015237,
     "end_time": "2022-08-31T16:15:22.785408",
     "exception": false,
     "start_time": "2022-08-31T16:15:22.770171",
     "status": "completed"
    },
    "tags": []
   },
   "source": [
    "# Import libraries"
   ]
  },
  {
   "cell_type": "code",
   "execution_count": 2,
   "id": "09e12a2e",
   "metadata": {
    "execution": {
     "iopub.execute_input": "2022-08-31T16:15:22.818400Z",
     "iopub.status.busy": "2022-08-31T16:15:22.818001Z",
     "iopub.status.idle": "2022-08-31T16:15:24.309850Z",
     "shell.execute_reply": "2022-08-31T16:15:24.308610Z"
    },
    "papermill": {
     "duration": 1.511879,
     "end_time": "2022-08-31T16:15:24.312703",
     "exception": false,
     "start_time": "2022-08-31T16:15:22.800824",
     "status": "completed"
    },
    "tags": []
   },
   "outputs": [],
   "source": [
    "import pandas as pd\n",
    "import numpy as np\n",
    "import warnings\n",
    "warnings.filterwarnings('ignore')\n",
    "from sklearn.model_selection import train_test_split\n",
    "from sklearn.linear_model import LogisticRegression\n",
    "import sklearn.metrics as metrics\n",
    "from sklearn.ensemble import RandomForestClassifier\n",
    "import matplotlib.pyplot as plt\n",
    "import seaborn as sns"
   ]
  },
  {
   "cell_type": "markdown",
   "id": "cc20883f",
   "metadata": {
    "papermill": {
     "duration": 0.015508,
     "end_time": "2022-08-31T16:15:24.343786",
     "exception": false,
     "start_time": "2022-08-31T16:15:24.328278",
     "status": "completed"
    },
    "tags": []
   },
   "source": [
    "Extracting data"
   ]
  },
  {
   "cell_type": "code",
   "execution_count": 3,
   "id": "6b2122d8",
   "metadata": {
    "execution": {
     "iopub.execute_input": "2022-08-31T16:15:24.376727Z",
     "iopub.status.busy": "2022-08-31T16:15:24.376306Z",
     "iopub.status.idle": "2022-08-31T16:15:24.404043Z",
     "shell.execute_reply": "2022-08-31T16:15:24.402868Z"
    },
    "papermill": {
     "duration": 0.047405,
     "end_time": "2022-08-31T16:15:24.406729",
     "exception": false,
     "start_time": "2022-08-31T16:15:24.359324",
     "status": "completed"
    },
    "tags": []
   },
   "outputs": [],
   "source": [
    "df = pd.read_csv('/kaggle/input/mobile-price-classification/train.csv')"
   ]
  },
  {
   "cell_type": "markdown",
   "id": "26813438",
   "metadata": {
    "papermill": {
     "duration": 0.015119,
     "end_time": "2022-08-31T16:15:24.438780",
     "exception": false,
     "start_time": "2022-08-31T16:15:24.423661",
     "status": "completed"
    },
    "tags": []
   },
   "source": [
    "Let's see how many columnss and rows we have"
   ]
  },
  {
   "cell_type": "code",
   "execution_count": 4,
   "id": "e0d5364f",
   "metadata": {
    "execution": {
     "iopub.execute_input": "2022-08-31T16:15:24.472701Z",
     "iopub.status.busy": "2022-08-31T16:15:24.472250Z",
     "iopub.status.idle": "2022-08-31T16:15:24.479141Z",
     "shell.execute_reply": "2022-08-31T16:15:24.478087Z"
    },
    "papermill": {
     "duration": 0.026323,
     "end_time": "2022-08-31T16:15:24.481288",
     "exception": false,
     "start_time": "2022-08-31T16:15:24.454965",
     "status": "completed"
    },
    "tags": []
   },
   "outputs": [
    {
     "data": {
      "text/plain": [
       "(2000, 21)"
      ]
     },
     "execution_count": 4,
     "metadata": {},
     "output_type": "execute_result"
    }
   ],
   "source": [
    "df.shape"
   ]
  },
  {
   "cell_type": "code",
   "execution_count": 5,
   "id": "89fb021e",
   "metadata": {
    "execution": {
     "iopub.execute_input": "2022-08-31T16:15:24.515052Z",
     "iopub.status.busy": "2022-08-31T16:15:24.514238Z",
     "iopub.status.idle": "2022-08-31T16:15:24.543573Z",
     "shell.execute_reply": "2022-08-31T16:15:24.542343Z"
    },
    "papermill": {
     "duration": 0.048865,
     "end_time": "2022-08-31T16:15:24.546198",
     "exception": false,
     "start_time": "2022-08-31T16:15:24.497333",
     "status": "completed"
    },
    "tags": []
   },
   "outputs": [
    {
     "data": {
      "text/html": [
       "<div>\n",
       "<style scoped>\n",
       "    .dataframe tbody tr th:only-of-type {\n",
       "        vertical-align: middle;\n",
       "    }\n",
       "\n",
       "    .dataframe tbody tr th {\n",
       "        vertical-align: top;\n",
       "    }\n",
       "\n",
       "    .dataframe thead th {\n",
       "        text-align: right;\n",
       "    }\n",
       "</style>\n",
       "<table border=\"1\" class=\"dataframe\">\n",
       "  <thead>\n",
       "    <tr style=\"text-align: right;\">\n",
       "      <th></th>\n",
       "      <th>battery_power</th>\n",
       "      <th>blue</th>\n",
       "      <th>clock_speed</th>\n",
       "      <th>dual_sim</th>\n",
       "      <th>fc</th>\n",
       "      <th>four_g</th>\n",
       "      <th>int_memory</th>\n",
       "      <th>m_dep</th>\n",
       "      <th>mobile_wt</th>\n",
       "      <th>n_cores</th>\n",
       "      <th>...</th>\n",
       "      <th>px_height</th>\n",
       "      <th>px_width</th>\n",
       "      <th>ram</th>\n",
       "      <th>sc_h</th>\n",
       "      <th>sc_w</th>\n",
       "      <th>talk_time</th>\n",
       "      <th>three_g</th>\n",
       "      <th>touch_screen</th>\n",
       "      <th>wifi</th>\n",
       "      <th>price_range</th>\n",
       "    </tr>\n",
       "  </thead>\n",
       "  <tbody>\n",
       "    <tr>\n",
       "      <th>0</th>\n",
       "      <td>842</td>\n",
       "      <td>0</td>\n",
       "      <td>2.2</td>\n",
       "      <td>0</td>\n",
       "      <td>1</td>\n",
       "      <td>0</td>\n",
       "      <td>7</td>\n",
       "      <td>0.6</td>\n",
       "      <td>188</td>\n",
       "      <td>2</td>\n",
       "      <td>...</td>\n",
       "      <td>20</td>\n",
       "      <td>756</td>\n",
       "      <td>2549</td>\n",
       "      <td>9</td>\n",
       "      <td>7</td>\n",
       "      <td>19</td>\n",
       "      <td>0</td>\n",
       "      <td>0</td>\n",
       "      <td>1</td>\n",
       "      <td>1</td>\n",
       "    </tr>\n",
       "    <tr>\n",
       "      <th>1</th>\n",
       "      <td>1021</td>\n",
       "      <td>1</td>\n",
       "      <td>0.5</td>\n",
       "      <td>1</td>\n",
       "      <td>0</td>\n",
       "      <td>1</td>\n",
       "      <td>53</td>\n",
       "      <td>0.7</td>\n",
       "      <td>136</td>\n",
       "      <td>3</td>\n",
       "      <td>...</td>\n",
       "      <td>905</td>\n",
       "      <td>1988</td>\n",
       "      <td>2631</td>\n",
       "      <td>17</td>\n",
       "      <td>3</td>\n",
       "      <td>7</td>\n",
       "      <td>1</td>\n",
       "      <td>1</td>\n",
       "      <td>0</td>\n",
       "      <td>2</td>\n",
       "    </tr>\n",
       "  </tbody>\n",
       "</table>\n",
       "<p>2 rows × 21 columns</p>\n",
       "</div>"
      ],
      "text/plain": [
       "   battery_power  blue  clock_speed  dual_sim  fc  four_g  int_memory  m_dep  \\\n",
       "0            842     0          2.2         0   1       0           7    0.6   \n",
       "1           1021     1          0.5         1   0       1          53    0.7   \n",
       "\n",
       "   mobile_wt  n_cores  ...  px_height  px_width   ram  sc_h  sc_w  talk_time  \\\n",
       "0        188        2  ...         20       756  2549     9     7         19   \n",
       "1        136        3  ...        905      1988  2631    17     3          7   \n",
       "\n",
       "   three_g  touch_screen  wifi  price_range  \n",
       "0        0             0     1            1  \n",
       "1        1             1     0            2  \n",
       "\n",
       "[2 rows x 21 columns]"
      ]
     },
     "execution_count": 5,
     "metadata": {},
     "output_type": "execute_result"
    }
   ],
   "source": [
    "df.head(2)"
   ]
  },
  {
   "cell_type": "code",
   "execution_count": 6,
   "id": "27f5b22d",
   "metadata": {
    "execution": {
     "iopub.execute_input": "2022-08-31T16:15:24.580396Z",
     "iopub.status.busy": "2022-08-31T16:15:24.579584Z",
     "iopub.status.idle": "2022-08-31T16:15:24.605471Z",
     "shell.execute_reply": "2022-08-31T16:15:24.603474Z"
    },
    "papermill": {
     "duration": 0.046093,
     "end_time": "2022-08-31T16:15:24.608228",
     "exception": false,
     "start_time": "2022-08-31T16:15:24.562135",
     "status": "completed"
    },
    "tags": []
   },
   "outputs": [
    {
     "name": "stdout",
     "output_type": "stream",
     "text": [
      "<class 'pandas.core.frame.DataFrame'>\n",
      "RangeIndex: 2000 entries, 0 to 1999\n",
      "Data columns (total 21 columns):\n",
      " #   Column         Non-Null Count  Dtype  \n",
      "---  ------         --------------  -----  \n",
      " 0   battery_power  2000 non-null   int64  \n",
      " 1   blue           2000 non-null   int64  \n",
      " 2   clock_speed    2000 non-null   float64\n",
      " 3   dual_sim       2000 non-null   int64  \n",
      " 4   fc             2000 non-null   int64  \n",
      " 5   four_g         2000 non-null   int64  \n",
      " 6   int_memory     2000 non-null   int64  \n",
      " 7   m_dep          2000 non-null   float64\n",
      " 8   mobile_wt      2000 non-null   int64  \n",
      " 9   n_cores        2000 non-null   int64  \n",
      " 10  pc             2000 non-null   int64  \n",
      " 11  px_height      2000 non-null   int64  \n",
      " 12  px_width       2000 non-null   int64  \n",
      " 13  ram            2000 non-null   int64  \n",
      " 14  sc_h           2000 non-null   int64  \n",
      " 15  sc_w           2000 non-null   int64  \n",
      " 16  talk_time      2000 non-null   int64  \n",
      " 17  three_g        2000 non-null   int64  \n",
      " 18  touch_screen   2000 non-null   int64  \n",
      " 19  wifi           2000 non-null   int64  \n",
      " 20  price_range    2000 non-null   int64  \n",
      "dtypes: float64(2), int64(19)\n",
      "memory usage: 328.2 KB\n"
     ]
    }
   ],
   "source": [
    "df.info()    #we can see data types in here"
   ]
  },
  {
   "cell_type": "markdown",
   "id": "7967ef97",
   "metadata": {
    "papermill": {
     "duration": 0.016023,
     "end_time": "2022-08-31T16:15:24.640920",
     "exception": false,
     "start_time": "2022-08-31T16:15:24.624897",
     "status": "completed"
    },
    "tags": []
   },
   "source": [
    "as wee see there are no categorical columns"
   ]
  },
  {
   "cell_type": "code",
   "execution_count": 7,
   "id": "4491babc",
   "metadata": {
    "execution": {
     "iopub.execute_input": "2022-08-31T16:15:24.676370Z",
     "iopub.status.busy": "2022-08-31T16:15:24.675289Z",
     "iopub.status.idle": "2022-08-31T16:15:24.749786Z",
     "shell.execute_reply": "2022-08-31T16:15:24.748626Z"
    },
    "papermill": {
     "duration": 0.095153,
     "end_time": "2022-08-31T16:15:24.752489",
     "exception": false,
     "start_time": "2022-08-31T16:15:24.657336",
     "status": "completed"
    },
    "tags": []
   },
   "outputs": [
    {
     "data": {
      "text/html": [
       "<div>\n",
       "<style scoped>\n",
       "    .dataframe tbody tr th:only-of-type {\n",
       "        vertical-align: middle;\n",
       "    }\n",
       "\n",
       "    .dataframe tbody tr th {\n",
       "        vertical-align: top;\n",
       "    }\n",
       "\n",
       "    .dataframe thead th {\n",
       "        text-align: right;\n",
       "    }\n",
       "</style>\n",
       "<table border=\"1\" class=\"dataframe\">\n",
       "  <thead>\n",
       "    <tr style=\"text-align: right;\">\n",
       "      <th></th>\n",
       "      <th>battery_power</th>\n",
       "      <th>blue</th>\n",
       "      <th>clock_speed</th>\n",
       "      <th>dual_sim</th>\n",
       "      <th>fc</th>\n",
       "      <th>four_g</th>\n",
       "      <th>int_memory</th>\n",
       "      <th>m_dep</th>\n",
       "      <th>mobile_wt</th>\n",
       "      <th>n_cores</th>\n",
       "      <th>...</th>\n",
       "      <th>px_height</th>\n",
       "      <th>px_width</th>\n",
       "      <th>ram</th>\n",
       "      <th>sc_h</th>\n",
       "      <th>sc_w</th>\n",
       "      <th>talk_time</th>\n",
       "      <th>three_g</th>\n",
       "      <th>touch_screen</th>\n",
       "      <th>wifi</th>\n",
       "      <th>price_range</th>\n",
       "    </tr>\n",
       "  </thead>\n",
       "  <tbody>\n",
       "    <tr>\n",
       "      <th>count</th>\n",
       "      <td>2000.000000</td>\n",
       "      <td>2000.0000</td>\n",
       "      <td>2000.000000</td>\n",
       "      <td>2000.000000</td>\n",
       "      <td>2000.000000</td>\n",
       "      <td>2000.000000</td>\n",
       "      <td>2000.000000</td>\n",
       "      <td>2000.000000</td>\n",
       "      <td>2000.000000</td>\n",
       "      <td>2000.000000</td>\n",
       "      <td>...</td>\n",
       "      <td>2000.000000</td>\n",
       "      <td>2000.000000</td>\n",
       "      <td>2000.000000</td>\n",
       "      <td>2000.000000</td>\n",
       "      <td>2000.000000</td>\n",
       "      <td>2000.000000</td>\n",
       "      <td>2000.000000</td>\n",
       "      <td>2000.000000</td>\n",
       "      <td>2000.000000</td>\n",
       "      <td>2000.000000</td>\n",
       "    </tr>\n",
       "    <tr>\n",
       "      <th>mean</th>\n",
       "      <td>1238.518500</td>\n",
       "      <td>0.4950</td>\n",
       "      <td>1.522250</td>\n",
       "      <td>0.509500</td>\n",
       "      <td>4.309500</td>\n",
       "      <td>0.521500</td>\n",
       "      <td>32.046500</td>\n",
       "      <td>0.501750</td>\n",
       "      <td>140.249000</td>\n",
       "      <td>4.520500</td>\n",
       "      <td>...</td>\n",
       "      <td>645.108000</td>\n",
       "      <td>1251.515500</td>\n",
       "      <td>2124.213000</td>\n",
       "      <td>12.306500</td>\n",
       "      <td>5.767000</td>\n",
       "      <td>11.011000</td>\n",
       "      <td>0.761500</td>\n",
       "      <td>0.503000</td>\n",
       "      <td>0.507000</td>\n",
       "      <td>1.500000</td>\n",
       "    </tr>\n",
       "    <tr>\n",
       "      <th>std</th>\n",
       "      <td>439.418206</td>\n",
       "      <td>0.5001</td>\n",
       "      <td>0.816004</td>\n",
       "      <td>0.500035</td>\n",
       "      <td>4.341444</td>\n",
       "      <td>0.499662</td>\n",
       "      <td>18.145715</td>\n",
       "      <td>0.288416</td>\n",
       "      <td>35.399655</td>\n",
       "      <td>2.287837</td>\n",
       "      <td>...</td>\n",
       "      <td>443.780811</td>\n",
       "      <td>432.199447</td>\n",
       "      <td>1084.732044</td>\n",
       "      <td>4.213245</td>\n",
       "      <td>4.356398</td>\n",
       "      <td>5.463955</td>\n",
       "      <td>0.426273</td>\n",
       "      <td>0.500116</td>\n",
       "      <td>0.500076</td>\n",
       "      <td>1.118314</td>\n",
       "    </tr>\n",
       "    <tr>\n",
       "      <th>min</th>\n",
       "      <td>501.000000</td>\n",
       "      <td>0.0000</td>\n",
       "      <td>0.500000</td>\n",
       "      <td>0.000000</td>\n",
       "      <td>0.000000</td>\n",
       "      <td>0.000000</td>\n",
       "      <td>2.000000</td>\n",
       "      <td>0.100000</td>\n",
       "      <td>80.000000</td>\n",
       "      <td>1.000000</td>\n",
       "      <td>...</td>\n",
       "      <td>0.000000</td>\n",
       "      <td>500.000000</td>\n",
       "      <td>256.000000</td>\n",
       "      <td>5.000000</td>\n",
       "      <td>0.000000</td>\n",
       "      <td>2.000000</td>\n",
       "      <td>0.000000</td>\n",
       "      <td>0.000000</td>\n",
       "      <td>0.000000</td>\n",
       "      <td>0.000000</td>\n",
       "    </tr>\n",
       "    <tr>\n",
       "      <th>25%</th>\n",
       "      <td>851.750000</td>\n",
       "      <td>0.0000</td>\n",
       "      <td>0.700000</td>\n",
       "      <td>0.000000</td>\n",
       "      <td>1.000000</td>\n",
       "      <td>0.000000</td>\n",
       "      <td>16.000000</td>\n",
       "      <td>0.200000</td>\n",
       "      <td>109.000000</td>\n",
       "      <td>3.000000</td>\n",
       "      <td>...</td>\n",
       "      <td>282.750000</td>\n",
       "      <td>874.750000</td>\n",
       "      <td>1207.500000</td>\n",
       "      <td>9.000000</td>\n",
       "      <td>2.000000</td>\n",
       "      <td>6.000000</td>\n",
       "      <td>1.000000</td>\n",
       "      <td>0.000000</td>\n",
       "      <td>0.000000</td>\n",
       "      <td>0.750000</td>\n",
       "    </tr>\n",
       "    <tr>\n",
       "      <th>50%</th>\n",
       "      <td>1226.000000</td>\n",
       "      <td>0.0000</td>\n",
       "      <td>1.500000</td>\n",
       "      <td>1.000000</td>\n",
       "      <td>3.000000</td>\n",
       "      <td>1.000000</td>\n",
       "      <td>32.000000</td>\n",
       "      <td>0.500000</td>\n",
       "      <td>141.000000</td>\n",
       "      <td>4.000000</td>\n",
       "      <td>...</td>\n",
       "      <td>564.000000</td>\n",
       "      <td>1247.000000</td>\n",
       "      <td>2146.500000</td>\n",
       "      <td>12.000000</td>\n",
       "      <td>5.000000</td>\n",
       "      <td>11.000000</td>\n",
       "      <td>1.000000</td>\n",
       "      <td>1.000000</td>\n",
       "      <td>1.000000</td>\n",
       "      <td>1.500000</td>\n",
       "    </tr>\n",
       "    <tr>\n",
       "      <th>75%</th>\n",
       "      <td>1615.250000</td>\n",
       "      <td>1.0000</td>\n",
       "      <td>2.200000</td>\n",
       "      <td>1.000000</td>\n",
       "      <td>7.000000</td>\n",
       "      <td>1.000000</td>\n",
       "      <td>48.000000</td>\n",
       "      <td>0.800000</td>\n",
       "      <td>170.000000</td>\n",
       "      <td>7.000000</td>\n",
       "      <td>...</td>\n",
       "      <td>947.250000</td>\n",
       "      <td>1633.000000</td>\n",
       "      <td>3064.500000</td>\n",
       "      <td>16.000000</td>\n",
       "      <td>9.000000</td>\n",
       "      <td>16.000000</td>\n",
       "      <td>1.000000</td>\n",
       "      <td>1.000000</td>\n",
       "      <td>1.000000</td>\n",
       "      <td>2.250000</td>\n",
       "    </tr>\n",
       "    <tr>\n",
       "      <th>max</th>\n",
       "      <td>1998.000000</td>\n",
       "      <td>1.0000</td>\n",
       "      <td>3.000000</td>\n",
       "      <td>1.000000</td>\n",
       "      <td>19.000000</td>\n",
       "      <td>1.000000</td>\n",
       "      <td>64.000000</td>\n",
       "      <td>1.000000</td>\n",
       "      <td>200.000000</td>\n",
       "      <td>8.000000</td>\n",
       "      <td>...</td>\n",
       "      <td>1960.000000</td>\n",
       "      <td>1998.000000</td>\n",
       "      <td>3998.000000</td>\n",
       "      <td>19.000000</td>\n",
       "      <td>18.000000</td>\n",
       "      <td>20.000000</td>\n",
       "      <td>1.000000</td>\n",
       "      <td>1.000000</td>\n",
       "      <td>1.000000</td>\n",
       "      <td>3.000000</td>\n",
       "    </tr>\n",
       "  </tbody>\n",
       "</table>\n",
       "<p>8 rows × 21 columns</p>\n",
       "</div>"
      ],
      "text/plain": [
       "       battery_power       blue  clock_speed     dual_sim           fc  \\\n",
       "count    2000.000000  2000.0000  2000.000000  2000.000000  2000.000000   \n",
       "mean     1238.518500     0.4950     1.522250     0.509500     4.309500   \n",
       "std       439.418206     0.5001     0.816004     0.500035     4.341444   \n",
       "min       501.000000     0.0000     0.500000     0.000000     0.000000   \n",
       "25%       851.750000     0.0000     0.700000     0.000000     1.000000   \n",
       "50%      1226.000000     0.0000     1.500000     1.000000     3.000000   \n",
       "75%      1615.250000     1.0000     2.200000     1.000000     7.000000   \n",
       "max      1998.000000     1.0000     3.000000     1.000000    19.000000   \n",
       "\n",
       "            four_g   int_memory        m_dep    mobile_wt      n_cores  ...  \\\n",
       "count  2000.000000  2000.000000  2000.000000  2000.000000  2000.000000  ...   \n",
       "mean      0.521500    32.046500     0.501750   140.249000     4.520500  ...   \n",
       "std       0.499662    18.145715     0.288416    35.399655     2.287837  ...   \n",
       "min       0.000000     2.000000     0.100000    80.000000     1.000000  ...   \n",
       "25%       0.000000    16.000000     0.200000   109.000000     3.000000  ...   \n",
       "50%       1.000000    32.000000     0.500000   141.000000     4.000000  ...   \n",
       "75%       1.000000    48.000000     0.800000   170.000000     7.000000  ...   \n",
       "max       1.000000    64.000000     1.000000   200.000000     8.000000  ...   \n",
       "\n",
       "         px_height     px_width          ram         sc_h         sc_w  \\\n",
       "count  2000.000000  2000.000000  2000.000000  2000.000000  2000.000000   \n",
       "mean    645.108000  1251.515500  2124.213000    12.306500     5.767000   \n",
       "std     443.780811   432.199447  1084.732044     4.213245     4.356398   \n",
       "min       0.000000   500.000000   256.000000     5.000000     0.000000   \n",
       "25%     282.750000   874.750000  1207.500000     9.000000     2.000000   \n",
       "50%     564.000000  1247.000000  2146.500000    12.000000     5.000000   \n",
       "75%     947.250000  1633.000000  3064.500000    16.000000     9.000000   \n",
       "max    1960.000000  1998.000000  3998.000000    19.000000    18.000000   \n",
       "\n",
       "         talk_time      three_g  touch_screen         wifi  price_range  \n",
       "count  2000.000000  2000.000000   2000.000000  2000.000000  2000.000000  \n",
       "mean     11.011000     0.761500      0.503000     0.507000     1.500000  \n",
       "std       5.463955     0.426273      0.500116     0.500076     1.118314  \n",
       "min       2.000000     0.000000      0.000000     0.000000     0.000000  \n",
       "25%       6.000000     1.000000      0.000000     0.000000     0.750000  \n",
       "50%      11.000000     1.000000      1.000000     1.000000     1.500000  \n",
       "75%      16.000000     1.000000      1.000000     1.000000     2.250000  \n",
       "max      20.000000     1.000000      1.000000     1.000000     3.000000  \n",
       "\n",
       "[8 rows x 21 columns]"
      ]
     },
     "execution_count": 7,
     "metadata": {},
     "output_type": "execute_result"
    }
   ],
   "source": [
    "df.describe() # describing data help us to see min and max values"
   ]
  },
  {
   "cell_type": "code",
   "execution_count": 8,
   "id": "7885ab75",
   "metadata": {
    "execution": {
     "iopub.execute_input": "2022-08-31T16:15:24.788189Z",
     "iopub.status.busy": "2022-08-31T16:15:24.787743Z",
     "iopub.status.idle": "2022-08-31T16:15:24.796440Z",
     "shell.execute_reply": "2022-08-31T16:15:24.795264Z"
    },
    "papermill": {
     "duration": 0.029298,
     "end_time": "2022-08-31T16:15:24.798894",
     "exception": false,
     "start_time": "2022-08-31T16:15:24.769596",
     "status": "completed"
    },
    "tags": []
   },
   "outputs": [
    {
     "data": {
      "text/plain": [
       "array([ 842, 1021,  563, ..., 1139, 1467,  858])"
      ]
     },
     "execution_count": 8,
     "metadata": {},
     "output_type": "execute_result"
    }
   ],
   "source": [
    "df['battery_power'].unique()"
   ]
  },
  {
   "cell_type": "markdown",
   "id": "65c9e241",
   "metadata": {
    "papermill": {
     "duration": 0.016254,
     "end_time": "2022-08-31T16:15:24.831945",
     "exception": false,
     "start_time": "2022-08-31T16:15:24.815691",
     "status": "completed"
    },
    "tags": []
   },
   "source": [
    "is there have any null values? as wee see the data is clean"
   ]
  },
  {
   "cell_type": "code",
   "execution_count": 9,
   "id": "5c04028e",
   "metadata": {
    "execution": {
     "iopub.execute_input": "2022-08-31T16:15:24.867796Z",
     "iopub.status.busy": "2022-08-31T16:15:24.867335Z",
     "iopub.status.idle": "2022-08-31T16:15:24.878840Z",
     "shell.execute_reply": "2022-08-31T16:15:24.877893Z"
    },
    "papermill": {
     "duration": 0.032596,
     "end_time": "2022-08-31T16:15:24.881289",
     "exception": false,
     "start_time": "2022-08-31T16:15:24.848693",
     "status": "completed"
    },
    "tags": []
   },
   "outputs": [
    {
     "data": {
      "text/plain": [
       "battery_power    0\n",
       "blue             0\n",
       "clock_speed      0\n",
       "dual_sim         0\n",
       "fc               0\n",
       "four_g           0\n",
       "int_memory       0\n",
       "m_dep            0\n",
       "mobile_wt        0\n",
       "n_cores          0\n",
       "pc               0\n",
       "px_height        0\n",
       "px_width         0\n",
       "ram              0\n",
       "sc_h             0\n",
       "sc_w             0\n",
       "talk_time        0\n",
       "three_g          0\n",
       "touch_screen     0\n",
       "wifi             0\n",
       "price_range      0\n",
       "dtype: int64"
      ]
     },
     "execution_count": 9,
     "metadata": {},
     "output_type": "execute_result"
    }
   ],
   "source": [
    "df.isnull().sum()"
   ]
  },
  {
   "cell_type": "code",
   "execution_count": 10,
   "id": "9818f26d",
   "metadata": {
    "execution": {
     "iopub.execute_input": "2022-08-31T16:15:24.917433Z",
     "iopub.status.busy": "2022-08-31T16:15:24.916624Z",
     "iopub.status.idle": "2022-08-31T16:15:24.926063Z",
     "shell.execute_reply": "2022-08-31T16:15:24.925034Z"
    },
    "papermill": {
     "duration": 0.030447,
     "end_time": "2022-08-31T16:15:24.928692",
     "exception": false,
     "start_time": "2022-08-31T16:15:24.898245",
     "status": "completed"
    },
    "tags": []
   },
   "outputs": [],
   "source": [
    "cat_features=list()\n",
    "num_features=list()\n",
    "for column_name in df.columns:\n",
    "    unique_values = len(df[column_name].unique())\n",
    "    if unique_values<30:\n",
    "      cat_features.append(column_name)\n",
    "    else:\n",
    "      num_features.append(column_name)"
   ]
  },
  {
   "cell_type": "code",
   "execution_count": 11,
   "id": "e4820822",
   "metadata": {
    "execution": {
     "iopub.execute_input": "2022-08-31T16:15:24.965936Z",
     "iopub.status.busy": "2022-08-31T16:15:24.965069Z",
     "iopub.status.idle": "2022-08-31T16:15:30.026932Z",
     "shell.execute_reply": "2022-08-31T16:15:30.025554Z"
    },
    "papermill": {
     "duration": 5.084411,
     "end_time": "2022-08-31T16:15:30.030568",
     "exception": false,
     "start_time": "2022-08-31T16:15:24.946157",
     "status": "completed"
    },
    "tags": []
   },
   "outputs": [
    {
     "data": {
      "image/png": "[encoded data removed]",
      "text/plain": [
       "<Figure size 1080x1800 with 15 Axes>"
      ]
     },
     "metadata": {
      "needs_background": "light"
     },
     "output_type": "display_data"
    }
   ],
   "source": [
    "i = 1\n",
    "plt.figure(figsize = (15,25))\n",
    "for feature in cat_features:\n",
    "    plt.subplot(6,3,i)\n",
    "    sns.countplot(x = feature , data = df,hue='price_range')\n",
    "    i +=1"
   ]
  },
  {
   "cell_type": "code",
   "execution_count": 12,
   "id": "c83b0efb",
   "metadata": {
    "execution": {
     "iopub.execute_input": "2022-08-31T16:15:30.070709Z",
     "iopub.status.busy": "2022-08-31T16:15:30.070238Z",
     "iopub.status.idle": "2022-08-31T16:15:32.041743Z",
     "shell.execute_reply": "2022-08-31T16:15:32.040236Z"
    },
    "papermill": {
     "duration": 1.994812,
     "end_time": "2022-08-31T16:15:32.044961",
     "exception": false,
     "start_time": "2022-08-31T16:15:30.050149",
     "status": "completed"
    },
    "tags": []
   },
   "outputs": [
    {
     "data": {
      "image/png": "[encoded data removed]",
      "text/plain": [
       "<Figure size 504x504 with 1 Axes>"
      ]
     },
     "metadata": {
      "needs_background": "light"
     },
     "output_type": "display_data"
    },
    {
     "data": {
      "image/png": "[encoded data removed]",
      "text/plain": [
       "<Figure size 504x504 with 1 Axes>"
      ]
     },
     "metadata": {
      "needs_background": "light"
     },
     "output_type": "display_data"
    },
    {
     "data": {
      "image/png": "[encoded data removed]",
      "text/plain": [
       "<Figure size 504x504 with 1 Axes>"
      ]
     },
     "metadata": {
      "needs_background": "light"
     },
     "output_type": "display_data"
    },
    {
     "data": {
      "image/png": "[encoded data removed]",
      "text/plain": [
       "<Figure size 504x504 with 1 Axes>"
      ]
     },
     "metadata": {
      "needs_background": "light"
     },
     "output_type": "display_data"
    },
    {
     "data": {
      "image/png": "[encoded data removed]",
      "text/plain": [
       "<Figure size 504x504 with 1 Axes>"
      ]
     },
     "metadata": {
      "needs_background": "light"
     },
     "output_type": "display_data"
    },
    {
     "data": {
      "image/png": "[encoded data removed]",
      "text/plain": [
       "<Figure size 504x504 with 1 Axes>"
      ]
     },
     "metadata": {
      "needs_background": "light"
     },
     "output_type": "display_data"
    }
   ],
   "source": [
    "for column_name in num_features:\n",
    "  plt.figure(figsize=(7, 7))\n",
    "  plt.title(\"{column_name} Distribution\".format(column_name = column_name))\n",
    "  sns.histplot(df[column_name], stat='density')\n",
    "  sns.kdeplot(df[column_name], color='blue')\n",
    "  plt.axvline(df[column_name].mean(), color='red', linestyle='--', linewidth=0.8)\n",
    "  min_ylim, max_ylim = plt.ylim()\n",
    "  plt.text(df[column_name].mean()*1.05, max_ylim*0.96, 'Mean (μ): {:.2f}'.format(df[column_name].mean()))\n",
    "  plt.xlabel(\"Score\")\n",
    "  plt.ylabel(\"Density\")\n",
    "  plt.show()"
   ]
  },
  {
   "cell_type": "markdown",
   "id": "9bacd14f",
   "metadata": {
    "papermill": {
     "duration": 0.021426,
     "end_time": "2022-08-31T16:15:32.088570",
     "exception": false,
     "start_time": "2022-08-31T16:15:32.067144",
     "status": "completed"
    },
    "tags": []
   },
   "source": [
    "Let's split data to test and training data"
   ]
  },
  {
   "cell_type": "code",
   "execution_count": 13,
   "id": "a1255a78",
   "metadata": {
    "execution": {
     "iopub.execute_input": "2022-08-31T16:15:32.134769Z",
     "iopub.status.busy": "2022-08-31T16:15:32.133931Z",
     "iopub.status.idle": "2022-08-31T16:15:32.141095Z",
     "shell.execute_reply": "2022-08-31T16:15:32.139919Z"
    },
    "papermill": {
     "duration": 0.033276,
     "end_time": "2022-08-31T16:15:32.143696",
     "exception": false,
     "start_time": "2022-08-31T16:15:32.110420",
     "status": "completed"
    },
    "tags": []
   },
   "outputs": [],
   "source": [
    "y = df['price_range']\n",
    "X = df.drop('price_range', axis = 1)"
   ]
  },
  {
   "cell_type": "code",
   "execution_count": 14,
   "id": "eea912a2",
   "metadata": {
    "execution": {
     "iopub.execute_input": "2022-08-31T16:15:32.189751Z",
     "iopub.status.busy": "2022-08-31T16:15:32.188907Z",
     "iopub.status.idle": "2022-08-31T16:15:32.196368Z",
     "shell.execute_reply": "2022-08-31T16:15:32.195412Z"
    },
    "papermill": {
     "duration": 0.033613,
     "end_time": "2022-08-31T16:15:32.198987",
     "exception": false,
     "start_time": "2022-08-31T16:15:32.165374",
     "status": "completed"
    },
    "tags": []
   },
   "outputs": [],
   "source": [
    "X_train, X_test, y_train, y_test = train_test_split(X,y, test_size = 0.25)"
   ]
  },
  {
   "cell_type": "markdown",
   "id": "c16f67ba",
   "metadata": {
    "papermill": {
     "duration": 0.023477,
     "end_time": "2022-08-31T16:15:32.244249",
     "exception": false,
     "start_time": "2022-08-31T16:15:32.220772",
     "status": "completed"
    },
    "tags": []
   },
   "source": [
    "# Logistic regression"
   ]
  },
  {
   "cell_type": "code",
   "execution_count": 15,
   "id": "60017061",
   "metadata": {
    "execution": {
     "iopub.execute_input": "2022-08-31T16:15:32.292036Z",
     "iopub.status.busy": "2022-08-31T16:15:32.291639Z",
     "iopub.status.idle": "2022-08-31T16:15:32.296883Z",
     "shell.execute_reply": "2022-08-31T16:15:32.295747Z"
    },
    "papermill": {
     "duration": 0.030974,
     "end_time": "2022-08-31T16:15:32.299198",
     "exception": false,
     "start_time": "2022-08-31T16:15:32.268224",
     "status": "completed"
    },
    "tags": []
   },
   "outputs": [],
   "source": [
    "lr = LogisticRegression(random_state = 42)"
   ]
  },
  {
   "cell_type": "code",
   "execution_count": 16,
   "id": "ae88419d",
   "metadata": {
    "execution": {
     "iopub.execute_input": "2022-08-31T16:15:32.344300Z",
     "iopub.status.busy": "2022-08-31T16:15:32.343445Z",
     "iopub.status.idle": "2022-08-31T16:15:32.448229Z",
     "shell.execute_reply": "2022-08-31T16:15:32.446809Z"
    },
    "papermill": {
     "duration": 0.130574,
     "end_time": "2022-08-31T16:15:32.451090",
     "exception": false,
     "start_time": "2022-08-31T16:15:32.320516",
     "status": "completed"
    },
    "tags": []
   },
   "outputs": [
    {
     "data": {
      "text/plain": [
       "LogisticRegression(random_state=42)"
      ]
     },
     "execution_count": 16,
     "metadata": {},
     "output_type": "execute_result"
    }
   ],
   "source": [
    "lr.fit(X_train, y_train)"
   ]
  },
  {
   "cell_type": "code",
   "execution_count": 17,
   "id": "1ab2cc6f",
   "metadata": {
    "execution": {
     "iopub.execute_input": "2022-08-31T16:15:32.500023Z",
     "iopub.status.busy": "2022-08-31T16:15:32.499628Z",
     "iopub.status.idle": "2022-08-31T16:15:32.507102Z",
     "shell.execute_reply": "2022-08-31T16:15:32.505960Z"
    },
    "papermill": {
     "duration": 0.035128,
     "end_time": "2022-08-31T16:15:32.509559",
     "exception": false,
     "start_time": "2022-08-31T16:15:32.474431",
     "status": "completed"
    },
    "tags": []
   },
   "outputs": [],
   "source": [
    "y_pred_lr = lr.predict(X_test)"
   ]
  },
  {
   "cell_type": "code",
   "execution_count": 18,
   "id": "49629f88",
   "metadata": {
    "execution": {
     "iopub.execute_input": "2022-08-31T16:15:32.556122Z",
     "iopub.status.busy": "2022-08-31T16:15:32.554988Z",
     "iopub.status.idle": "2022-08-31T16:15:32.562111Z",
     "shell.execute_reply": "2022-08-31T16:15:32.560901Z"
    },
    "papermill": {
     "duration": 0.033738,
     "end_time": "2022-08-31T16:15:32.565257",
     "exception": false,
     "start_time": "2022-08-31T16:15:32.531519",
     "status": "completed"
    },
    "tags": []
   },
   "outputs": [],
   "source": [
    "accuracy = metrics.accuracy_score(y_test, y_pred_lr)"
   ]
  },
  {
   "cell_type": "code",
   "execution_count": 19,
   "id": "c73595e8",
   "metadata": {
    "execution": {
     "iopub.execute_input": "2022-08-31T16:15:32.613515Z",
     "iopub.status.busy": "2022-08-31T16:15:32.613047Z",
     "iopub.status.idle": "2022-08-31T16:15:32.621163Z",
     "shell.execute_reply": "2022-08-31T16:15:32.619900Z"
    },
    "papermill": {
     "duration": 0.035503,
     "end_time": "2022-08-31T16:15:32.623671",
     "exception": false,
     "start_time": "2022-08-31T16:15:32.588168",
     "status": "completed"
    },
    "tags": []
   },
   "outputs": [
    {
     "data": {
      "text/plain": [
       "0.64"
      ]
     },
     "execution_count": 19,
     "metadata": {},
     "output_type": "execute_result"
    }
   ],
   "source": [
    "accuracy"
   ]
  },
  {
   "cell_type": "code",
   "execution_count": 20,
   "id": "99cf1631",
   "metadata": {
    "execution": {
     "iopub.execute_input": "2022-08-31T16:15:32.669930Z",
     "iopub.status.busy": "2022-08-31T16:15:32.669097Z",
     "iopub.status.idle": "2022-08-31T16:15:32.676710Z",
     "shell.execute_reply": "2022-08-31T16:15:32.675607Z"
    },
    "papermill": {
     "duration": 0.03334,
     "end_time": "2022-08-31T16:15:32.679009",
     "exception": false,
     "start_time": "2022-08-31T16:15:32.645669",
     "status": "completed"
    },
    "tags": []
   },
   "outputs": [
    {
     "data": {
      "text/plain": [
       "500"
      ]
     },
     "execution_count": 20,
     "metadata": {},
     "output_type": "execute_result"
    }
   ],
   "source": [
    "len(df[df['price_range']==1])"
   ]
  },
  {
   "cell_type": "code",
   "execution_count": 21,
   "id": "63ee01a2",
   "metadata": {
    "execution": {
     "iopub.execute_input": "2022-08-31T16:15:32.727608Z",
     "iopub.status.busy": "2022-08-31T16:15:32.726771Z",
     "iopub.status.idle": "2022-08-31T16:15:32.735855Z",
     "shell.execute_reply": "2022-08-31T16:15:32.734466Z"
    },
    "papermill": {
     "duration": 0.036581,
     "end_time": "2022-08-31T16:15:32.738381",
     "exception": false,
     "start_time": "2022-08-31T16:15:32.701800",
     "status": "completed"
    },
    "tags": []
   },
   "outputs": [
    {
     "data": {
      "text/plain": [
       "500"
      ]
     },
     "execution_count": 21,
     "metadata": {},
     "output_type": "execute_result"
    }
   ],
   "source": [
    "len(df[df['price_range']==0])"
   ]
  },
  {
   "cell_type": "code",
   "execution_count": 22,
   "id": "67a8bed2",
   "metadata": {
    "execution": {
     "iopub.execute_input": "2022-08-31T16:15:32.789993Z",
     "iopub.status.busy": "2022-08-31T16:15:32.789534Z",
     "iopub.status.idle": "2022-08-31T16:15:32.799809Z",
     "shell.execute_reply": "2022-08-31T16:15:32.798870Z"
    },
    "papermill": {
     "duration": 0.04179,
     "end_time": "2022-08-31T16:15:32.802660",
     "exception": false,
     "start_time": "2022-08-31T16:15:32.760870",
     "status": "completed"
    },
    "tags": []
   },
   "outputs": [
    {
     "data": {
      "text/plain": [
       "500"
      ]
     },
     "execution_count": 22,
     "metadata": {},
     "output_type": "execute_result"
    }
   ],
   "source": [
    "len(df[df['price_range']==2])"
   ]
  },
  {
   "cell_type": "code",
   "execution_count": 23,
   "id": "8cbc3cbc",
   "metadata": {
    "execution": {
     "iopub.execute_input": "2022-08-31T16:15:32.870355Z",
     "iopub.status.busy": "2022-08-31T16:15:32.868983Z",
     "iopub.status.idle": "2022-08-31T16:15:32.879796Z",
     "shell.execute_reply": "2022-08-31T16:15:32.878381Z"
    },
    "papermill": {
     "duration": 0.047366,
     "end_time": "2022-08-31T16:15:32.882475",
     "exception": false,
     "start_time": "2022-08-31T16:15:32.835109",
     "status": "completed"
    },
    "tags": []
   },
   "outputs": [
    {
     "data": {
      "text/plain": [
       "500"
      ]
     },
     "execution_count": 23,
     "metadata": {},
     "output_type": "execute_result"
    }
   ],
   "source": [
    "len(df[df['price_range']==3])"
   ]
  },
  {
   "cell_type": "markdown",
   "id": "041938db",
   "metadata": {
    "papermill": {
     "duration": 0.02313,
     "end_time": "2022-08-31T16:15:32.928613",
     "exception": false,
     "start_time": "2022-08-31T16:15:32.905483",
     "status": "completed"
    },
    "tags": []
   },
   "source": [
    "# Confusion matrix"
   ]
  },
  {
   "cell_type": "code",
   "execution_count": 24,
   "id": "f7e6db50",
   "metadata": {
    "execution": {
     "iopub.execute_input": "2022-08-31T16:15:32.978955Z",
     "iopub.status.busy": "2022-08-31T16:15:32.977742Z",
     "iopub.status.idle": "2022-08-31T16:15:33.277592Z",
     "shell.execute_reply": "2022-08-31T16:15:33.276188Z"
    },
    "papermill": {
     "duration": 0.32833,
     "end_time": "2022-08-31T16:15:33.280451",
     "exception": false,
     "start_time": "2022-08-31T16:15:32.952121",
     "status": "completed"
    },
    "tags": []
   },
   "outputs": [
    {
     "data": {
      "text/plain": [
       "<sklearn.metrics._plot.confusion_matrix.ConfusionMatrixDisplay at 0x7f8975b90e90>"
      ]
     },
     "execution_count": 24,
     "metadata": {},
     "output_type": "execute_result"
    },
    {
     "data": {
      "image/png": "[encoded data removed]",
      "text/plain": [
       "<Figure size 432x288 with 2 Axes>"
      ]
     },
     "metadata": {
      "needs_background": "light"
     },
     "output_type": "display_data"
    }
   ],
   "source": [
    "metrics.plot_confusion_matrix(lr,X_test, y_test)"
   ]
  },
  {
   "cell_type": "code",
   "execution_count": 25,
   "id": "58954c8f",
   "metadata": {
    "execution": {
     "iopub.execute_input": "2022-08-31T16:15:33.328442Z",
     "iopub.status.busy": "2022-08-31T16:15:33.327582Z",
     "iopub.status.idle": "2022-08-31T16:15:33.335188Z",
     "shell.execute_reply": "2022-08-31T16:15:33.333906Z"
    },
    "papermill": {
     "duration": 0.03427,
     "end_time": "2022-08-31T16:15:33.337612",
     "exception": false,
     "start_time": "2022-08-31T16:15:33.303342",
     "status": "completed"
    },
    "tags": []
   },
   "outputs": [
    {
     "data": {
      "text/plain": [
       "500"
      ]
     },
     "execution_count": 25,
     "metadata": {},
     "output_type": "execute_result"
    }
   ],
   "source": [
    "91+65+62+85+30+1+27+31+11+1+29+40+27"
   ]
  },
  {
   "cell_type": "markdown",
   "id": "0e601b93",
   "metadata": {
    "papermill": {
     "duration": 0.022571,
     "end_time": "2022-08-31T16:15:33.383065",
     "exception": false,
     "start_time": "2022-08-31T16:15:33.360494",
     "status": "completed"
    },
    "tags": []
   },
   "source": [
    "# Random Forest"
   ]
  },
  {
   "cell_type": "code",
   "execution_count": 26,
   "id": "4a2a1c7d",
   "metadata": {
    "execution": {
     "iopub.execute_input": "2022-08-31T16:15:33.430747Z",
     "iopub.status.busy": "2022-08-31T16:15:33.429482Z",
     "iopub.status.idle": "2022-08-31T16:15:33.435279Z",
     "shell.execute_reply": "2022-08-31T16:15:33.434192Z"
    },
    "papermill": {
     "duration": 0.031975,
     "end_time": "2022-08-31T16:15:33.437443",
     "exception": false,
     "start_time": "2022-08-31T16:15:33.405468",
     "status": "completed"
    },
    "tags": []
   },
   "outputs": [],
   "source": [
    "rc = RandomForestClassifier(random_state = 42)"
   ]
  },
  {
   "cell_type": "code",
   "execution_count": 27,
   "id": "2a8fe890",
   "metadata": {
    "execution": {
     "iopub.execute_input": "2022-08-31T16:15:33.486056Z",
     "iopub.status.busy": "2022-08-31T16:15:33.484785Z",
     "iopub.status.idle": "2022-08-31T16:15:33.901574Z",
     "shell.execute_reply": "2022-08-31T16:15:33.900277Z"
    },
    "papermill": {
     "duration": 0.443497,
     "end_time": "2022-08-31T16:15:33.904200",
     "exception": false,
     "start_time": "2022-08-31T16:15:33.460703",
     "status": "completed"
    },
    "tags": []
   },
   "outputs": [
    {
     "data": {
      "text/plain": [
       "RandomForestClassifier(random_state=42)"
      ]
     },
     "execution_count": 27,
     "metadata": {},
     "output_type": "execute_result"
    }
   ],
   "source": [
    "rc.fit(X_train,y_train)"
   ]
  },
  {
   "cell_type": "code",
   "execution_count": 28,
   "id": "fa19727b",
   "metadata": {
    "execution": {
     "iopub.execute_input": "2022-08-31T16:15:33.954686Z",
     "iopub.status.busy": "2022-08-31T16:15:33.953690Z",
     "iopub.status.idle": "2022-08-31T16:15:33.989074Z",
     "shell.execute_reply": "2022-08-31T16:15:33.987761Z"
    },
    "papermill": {
     "duration": 0.063721,
     "end_time": "2022-08-31T16:15:33.992020",
     "exception": false,
     "start_time": "2022-08-31T16:15:33.928299",
     "status": "completed"
    },
    "tags": []
   },
   "outputs": [],
   "source": [
    "y_pred_rc = rc.predict(X_test)"
   ]
  },
  {
   "cell_type": "code",
   "execution_count": 29,
   "id": "0ff5378d",
   "metadata": {
    "execution": {
     "iopub.execute_input": "2022-08-31T16:15:34.041421Z",
     "iopub.status.busy": "2022-08-31T16:15:34.040990Z",
     "iopub.status.idle": "2022-08-31T16:15:34.047316Z",
     "shell.execute_reply": "2022-08-31T16:15:34.046045Z"
    },
    "papermill": {
     "duration": 0.033366,
     "end_time": "2022-08-31T16:15:34.049684",
     "exception": false,
     "start_time": "2022-08-31T16:15:34.016318",
     "status": "completed"
    },
    "tags": []
   },
   "outputs": [],
   "source": [
    "accuracy = metrics.accuracy_score(y_test, y_pred_rc)"
   ]
  },
  {
   "cell_type": "code",
   "execution_count": 30,
   "id": "e6510297",
   "metadata": {
    "execution": {
     "iopub.execute_input": "2022-08-31T16:15:34.097981Z",
     "iopub.status.busy": "2022-08-31T16:15:34.097516Z",
     "iopub.status.idle": "2022-08-31T16:15:34.104383Z",
     "shell.execute_reply": "2022-08-31T16:15:34.103400Z"
    },
    "papermill": {
     "duration": 0.035118,
     "end_time": "2022-08-31T16:15:34.107369",
     "exception": false,
     "start_time": "2022-08-31T16:15:34.072251",
     "status": "completed"
    },
    "tags": []
   },
   "outputs": [
    {
     "data": {
      "text/plain": [
       "0.928"
      ]
     },
     "execution_count": 30,
     "metadata": {},
     "output_type": "execute_result"
    }
   ],
   "source": [
    "accuracy"
   ]
  },
  {
   "cell_type": "code",
   "execution_count": 31,
   "id": "bfa0d7ec",
   "metadata": {
    "execution": {
     "iopub.execute_input": "2022-08-31T16:15:34.157926Z",
     "iopub.status.busy": "2022-08-31T16:15:34.157125Z",
     "iopub.status.idle": "2022-08-31T16:15:34.498665Z",
     "shell.execute_reply": "2022-08-31T16:15:34.497713Z"
    },
    "papermill": {
     "duration": 0.368639,
     "end_time": "2022-08-31T16:15:34.501395",
     "exception": false,
     "start_time": "2022-08-31T16:15:34.132756",
     "status": "completed"
    },
    "tags": []
   },
   "outputs": [
    {
     "data": {
      "text/plain": [
       "<sklearn.metrics._plot.confusion_matrix.ConfusionMatrixDisplay at 0x7f8975267bd0>"
      ]
     },
     "execution_count": 31,
     "metadata": {},
     "output_type": "execute_result"
    },
    {
     "data": {
      "image/png": "[encoded data removed]",
      "text/plain": [
       "<Figure size 432x288 with 2 Axes>"
      ]
     },
     "metadata": {
      "needs_background": "light"
     },
     "output_type": "display_data"
    }
   ],
   "source": [
    "metrics.plot_confusion_matrix(rc,X_test, y_test)"
   ]
  },
  {
   "cell_type": "markdown",
   "id": "7959ce9d",
   "metadata": {
    "papermill": {
     "duration": 0.023175,
     "end_time": "2022-08-31T16:15:34.550630",
     "exception": false,
     "start_time": "2022-08-31T16:15:34.527455",
     "status": "completed"
    },
    "tags": []
   },
   "source": [
    "# Support vector machines"
   ]
  },
  {
   "cell_type": "code",
   "execution_count": 32,
   "id": "b1fc93c0",
   "metadata": {
    "execution": {
     "iopub.execute_input": "2022-08-31T16:15:34.601519Z",
     "iopub.status.busy": "2022-08-31T16:15:34.601027Z",
     "iopub.status.idle": "2022-08-31T16:15:34.606413Z",
     "shell.execute_reply": "2022-08-31T16:15:34.605119Z"
    },
    "papermill": {
     "duration": 0.034838,
     "end_time": "2022-08-31T16:15:34.608901",
     "exception": false,
     "start_time": "2022-08-31T16:15:34.574063",
     "status": "completed"
    },
    "tags": []
   },
   "outputs": [],
   "source": [
    "from sklearn.svm import SVC"
   ]
  },
  {
   "cell_type": "code",
   "execution_count": 33,
   "id": "832f0c41",
   "metadata": {
    "execution": {
     "iopub.execute_input": "2022-08-31T16:15:34.662809Z",
     "iopub.status.busy": "2022-08-31T16:15:34.661571Z",
     "iopub.status.idle": "2022-08-31T16:15:34.667397Z",
     "shell.execute_reply": "2022-08-31T16:15:34.666606Z"
    },
    "papermill": {
     "duration": 0.035089,
     "end_time": "2022-08-31T16:15:34.669805",
     "exception": false,
     "start_time": "2022-08-31T16:15:34.634716",
     "status": "completed"
    },
    "tags": []
   },
   "outputs": [],
   "source": [
    "svc = SVC()"
   ]
  },
  {
   "cell_type": "code",
   "execution_count": 34,
   "id": "d27c7c8f",
   "metadata": {
    "execution": {
     "iopub.execute_input": "2022-08-31T16:15:34.718719Z",
     "iopub.status.busy": "2022-08-31T16:15:34.717399Z",
     "iopub.status.idle": "2022-08-31T16:15:34.763087Z",
     "shell.execute_reply": "2022-08-31T16:15:34.761784Z"
    },
    "papermill": {
     "duration": 0.073102,
     "end_time": "2022-08-31T16:15:34.765906",
     "exception": false,
     "start_time": "2022-08-31T16:15:34.692804",
     "status": "completed"
    },
    "tags": []
   },
   "outputs": [
    {
     "data": {
      "text/plain": [
       "SVC()"
      ]
     },
     "execution_count": 34,
     "metadata": {},
     "output_type": "execute_result"
    }
   ],
   "source": [
    "svc.fit(X_train, y_train)"
   ]
  },
  {
   "cell_type": "code",
   "execution_count": 35,
   "id": "d6246326",
   "metadata": {
    "execution": {
     "iopub.execute_input": "2022-08-31T16:15:34.817630Z",
     "iopub.status.busy": "2022-08-31T16:15:34.816904Z",
     "iopub.status.idle": "2022-08-31T16:15:34.849283Z",
     "shell.execute_reply": "2022-08-31T16:15:34.847894Z"
    },
    "papermill": {
     "duration": 0.060701,
     "end_time": "2022-08-31T16:15:34.852286",
     "exception": false,
     "start_time": "2022-08-31T16:15:34.791585",
     "status": "completed"
    },
    "tags": []
   },
   "outputs": [],
   "source": [
    "y_pred_svc = svc.predict(X_test)"
   ]
  },
  {
   "cell_type": "code",
   "execution_count": 36,
   "id": "017c1072",
   "metadata": {
    "execution": {
     "iopub.execute_input": "2022-08-31T16:15:34.904148Z",
     "iopub.status.busy": "2022-08-31T16:15:34.903181Z",
     "iopub.status.idle": "2022-08-31T16:15:34.910354Z",
     "shell.execute_reply": "2022-08-31T16:15:34.909191Z"
    },
    "papermill": {
     "duration": 0.035796,
     "end_time": "2022-08-31T16:15:34.912936",
     "exception": false,
     "start_time": "2022-08-31T16:15:34.877140",
     "status": "completed"
    },
    "tags": []
   },
   "outputs": [],
   "source": [
    "accuracy_svc = metrics.accuracy_score(y_test, y_pred_svc)"
   ]
  },
  {
   "cell_type": "code",
   "execution_count": 37,
   "id": "d15c61c7",
   "metadata": {
    "execution": {
     "iopub.execute_input": "2022-08-31T16:15:34.963829Z",
     "iopub.status.busy": "2022-08-31T16:15:34.962744Z",
     "iopub.status.idle": "2022-08-31T16:15:34.971162Z",
     "shell.execute_reply": "2022-08-31T16:15:34.970233Z"
    },
    "papermill": {
     "duration": 0.037075,
     "end_time": "2022-08-31T16:15:34.974042",
     "exception": false,
     "start_time": "2022-08-31T16:15:34.936967",
     "status": "completed"
    },
    "tags": []
   },
   "outputs": [
    {
     "data": {
      "text/plain": [
       "0.96"
      ]
     },
     "execution_count": 37,
     "metadata": {},
     "output_type": "execute_result"
    }
   ],
   "source": [
    "accuracy_svc"
   ]
  },
  {
   "cell_type": "code",
   "execution_count": 38,
   "id": "ea3005f9",
   "metadata": {
    "execution": {
     "iopub.execute_input": "2022-08-31T16:15:35.030156Z",
     "iopub.status.busy": "2022-08-31T16:15:35.029108Z",
     "iopub.status.idle": "2022-08-31T16:15:35.616078Z",
     "shell.execute_reply": "2022-08-31T16:15:35.614793Z"
    },
    "papermill": {
     "duration": 0.618043,
     "end_time": "2022-08-31T16:15:35.618836",
     "exception": false,
     "start_time": "2022-08-31T16:15:35.000793",
     "status": "completed"
    },
    "tags": []
   },
   "outputs": [
    {
     "data": {
      "text/plain": [
       "<sklearn.metrics._plot.confusion_matrix.ConfusionMatrixDisplay at 0x7f8975017b90>"
      ]
     },
     "execution_count": 38,
     "metadata": {},
     "output_type": "execute_result"
    },
    {
     "data": {
      "image/png": "[encoded data removed]",
      "text/plain": [
       "<Figure size 432x288 with 2 Axes>"
      ]
     },
     "metadata": {
      "needs_background": "light"
     },
     "output_type": "display_data"
    }
   ],
   "source": [
    "metrics.plot_confusion_matrix(svc,X_test, y_test)"
   ]
  },
  {
   "cell_type": "markdown",
   "id": "24783255",
   "metadata": {
    "papermill": {
     "duration": 0.035444,
     "end_time": "2022-08-31T16:15:35.679150",
     "exception": false,
     "start_time": "2022-08-31T16:15:35.643706",
     "status": "completed"
    },
    "tags": []
   },
   "source": [
    "writing functions for these three algorithms"
   ]
  },
  {
   "cell_type": "code",
   "execution_count": 39,
   "id": "0acbf4df",
   "metadata": {
    "execution": {
     "iopub.execute_input": "2022-08-31T16:15:35.732597Z",
     "iopub.status.busy": "2022-08-31T16:15:35.732057Z",
     "iopub.status.idle": "2022-08-31T16:15:35.738090Z",
     "shell.execute_reply": "2022-08-31T16:15:35.737114Z"
    },
    "papermill": {
     "duration": 0.035263,
     "end_time": "2022-08-31T16:15:35.740612",
     "exception": false,
     "start_time": "2022-08-31T16:15:35.705349",
     "status": "completed"
    },
    "tags": []
   },
   "outputs": [],
   "source": [
    "def preprocess(name):\n",
    "    df = pd.read_csv(name)\n",
    "    y = df['price_range']\n",
    "    X = df.drop('price_range', axis = 1)\n",
    "    X_train, X_test, y_train, y_test = train_test_split(X,y, test_size = 0.25)\n",
    "    return X_train, X_test, y_train, y_test"
   ]
  },
  {
   "cell_type": "code",
   "execution_count": 40,
   "id": "9bec4f44",
   "metadata": {
    "execution": {
     "iopub.execute_input": "2022-08-31T16:15:35.794251Z",
     "iopub.status.busy": "2022-08-31T16:15:35.793474Z",
     "iopub.status.idle": "2022-08-31T16:15:35.810024Z",
     "shell.execute_reply": "2022-08-31T16:15:35.808924Z"
    },
    "papermill": {
     "duration": 0.046766,
     "end_time": "2022-08-31T16:15:35.812926",
     "exception": false,
     "start_time": "2022-08-31T16:15:35.766160",
     "status": "completed"
    },
    "tags": []
   },
   "outputs": [],
   "source": [
    "X_train, X_test, y_train, y_test = preprocess('/kaggle/input/mobile-price-classification/train.csv')"
   ]
  },
  {
   "cell_type": "code",
   "execution_count": 41,
   "id": "92c6d3ae",
   "metadata": {
    "execution": {
     "iopub.execute_input": "2022-08-31T16:15:35.867620Z",
     "iopub.status.busy": "2022-08-31T16:15:35.866235Z",
     "iopub.status.idle": "2022-08-31T16:15:35.876284Z",
     "shell.execute_reply": "2022-08-31T16:15:35.875084Z"
    },
    "papermill": {
     "duration": 0.039894,
     "end_time": "2022-08-31T16:15:35.879055",
     "exception": false,
     "start_time": "2022-08-31T16:15:35.839161",
     "status": "completed"
    },
    "tags": []
   },
   "outputs": [],
   "source": [
    "def modelling(x1, x2, y1, y2):\n",
    "    \n",
    "    \n",
    "    lr = LogisticRegression(random_state = 42)\n",
    "    rc =  RandomForestClassifier(random_state = 42)\n",
    "    svc = SVC()\n",
    "    \n",
    "    lr.fit(X_train, y_train)\n",
    "    rc.fit(X_train, y_train)\n",
    "    svc.fit(X_train, y_train)\n",
    "    \n",
    "    y_pred_lr = lr.predict(X_test)\n",
    "    y_pred_rc = rc.predict(X_test)\n",
    "    y_pred_svc = svc.predict(X_test)\n",
    "    \n",
    "    accuracy_lr = metrics.accuracy_score(y_test, y_pred_lr)\n",
    "    accuracy_rc = metrics.accuracy_score(y_test, y_pred_rc)\n",
    "    accuracy_svc = metrics.accuracy_score(y_test, y_pred_svc)\n",
    "    \n",
    "    accuracy_list = [accuracy_lr, accuracy_rc, accuracy_svc]\n",
    "    \n",
    "    final = max(accuracy_list)\n",
    "        \n",
    "    return final"
   ]
  },
  {
   "cell_type": "code",
   "execution_count": 42,
   "id": "6288b615",
   "metadata": {
    "execution": {
     "iopub.execute_input": "2022-08-31T16:15:35.933799Z",
     "iopub.status.busy": "2022-08-31T16:15:35.932973Z",
     "iopub.status.idle": "2022-08-31T16:15:36.509458Z",
     "shell.execute_reply": "2022-08-31T16:15:36.508188Z"
    },
    "papermill": {
     "duration": 0.607436,
     "end_time": "2022-08-31T16:15:36.512508",
     "exception": false,
     "start_time": "2022-08-31T16:15:35.905072",
     "status": "completed"
    },
    "tags": []
   },
   "outputs": [],
   "source": [
    "final = modelling(X_train, X_test, y_train, y_test)"
   ]
  },
  {
   "cell_type": "code",
   "execution_count": 43,
   "id": "3c558bf1",
   "metadata": {
    "execution": {
     "iopub.execute_input": "2022-08-31T16:15:36.563009Z",
     "iopub.status.busy": "2022-08-31T16:15:36.562198Z",
     "iopub.status.idle": "2022-08-31T16:15:36.569286Z",
     "shell.execute_reply": "2022-08-31T16:15:36.568403Z"
    },
    "papermill": {
     "duration": 0.034853,
     "end_time": "2022-08-31T16:15:36.571628",
     "exception": false,
     "start_time": "2022-08-31T16:15:36.536775",
     "status": "completed"
    },
    "tags": []
   },
   "outputs": [
    {
     "data": {
      "text/plain": [
       "0.95"
      ]
     },
     "execution_count": 43,
     "metadata": {},
     "output_type": "execute_result"
    }
   ],
   "source": [
    "final"
   ]
  },
  {
   "cell_type": "markdown",
   "id": "09004353",
   "metadata": {
    "papermill": {
     "duration": 0.023602,
     "end_time": "2022-08-31T16:15:36.619250",
     "exception": false,
     "start_time": "2022-08-31T16:15:36.595648",
     "status": "completed"
    },
    "tags": []
   },
   "source": [
    "creating class for our functions"
   ]
  },
  {
   "cell_type": "code",
   "execution_count": 44,
   "id": "727206d1",
   "metadata": {
    "execution": {
     "iopub.execute_input": "2022-08-31T16:15:36.669767Z",
     "iopub.status.busy": "2022-08-31T16:15:36.668914Z",
     "iopub.status.idle": "2022-08-31T16:15:36.679040Z",
     "shell.execute_reply": "2022-08-31T16:15:36.678068Z"
    },
    "papermill": {
     "duration": 0.038269,
     "end_time": "2022-08-31T16:15:36.681644",
     "exception": false,
     "start_time": "2022-08-31T16:15:36.643375",
     "status": "completed"
    },
    "tags": []
   },
   "outputs": [],
   "source": [
    "class mine:\n",
    "    \n",
    "    def processs(name):\n",
    "        df = pd.read_csv(name)\n",
    "        y = df['price_range']\n",
    "        X = df.drop('price_range', axis = 1)\n",
    "        X_train, X_test, y_train, y_test = train_test_split(X,y, test_size = 0.25)\n",
    "        return X_train, X_test, y_train, y_test\n",
    "    \n",
    "    def modeling(x1, x2, y1, y2):\n",
    "    \n",
    "    \n",
    "        lr = LogisticRegression(random_state = 42)\n",
    "        rc =  RandomForestClassifier(random_state = 42)\n",
    "        svc = SVC()\n",
    "    \n",
    "        lr.fit(X_train, y_train)\n",
    "        rc.fit(X_train, y_train)\n",
    "        svc.fit(X_train, y_train)\n",
    "    \n",
    "        y_pred_lr = lr.predict(X_test)\n",
    "        y_pred_rc = rc.predict(X_test)\n",
    "        y_pred_svc = svc.predict(X_test)\n",
    "    \n",
    "        accuracy_lr = metrics.accuracy_score(y_test, y_pred_lr)\n",
    "        accuracy_rc = metrics.accuracy_score(y_test, y_pred_rc)\n",
    "        accuracy_svc = metrics.accuracy_score(y_test, y_pred_svc)\n",
    "    \n",
    "        accuracy_list = [accuracy_lr, accuracy_rc, accuracy_svc]\n",
    "    \n",
    "        final = max(accuracy_list)\n",
    "        \n",
    "        return final"
   ]
  },
  {
   "cell_type": "code",
   "execution_count": 45,
   "id": "f4cf92e5",
   "metadata": {
    "execution": {
     "iopub.execute_input": "2022-08-31T16:15:36.732004Z",
     "iopub.status.busy": "2022-08-31T16:15:36.731109Z",
     "iopub.status.idle": "2022-08-31T16:15:36.745880Z",
     "shell.execute_reply": "2022-08-31T16:15:36.744878Z"
    },
    "papermill": {
     "duration": 0.042975,
     "end_time": "2022-08-31T16:15:36.748535",
     "exception": false,
     "start_time": "2022-08-31T16:15:36.705560",
     "status": "completed"
    },
    "tags": []
   },
   "outputs": [],
   "source": [
    "X_train, X_test, y_train, y_test = mine.processs('/kaggle/input/mobile-price-classification/train.csv')"
   ]
  },
  {
   "cell_type": "code",
   "execution_count": 46,
   "id": "e1f50191",
   "metadata": {
    "execution": {
     "iopub.execute_input": "2022-08-31T16:15:36.799184Z",
     "iopub.status.busy": "2022-08-31T16:15:36.798783Z",
     "iopub.status.idle": "2022-08-31T16:15:37.379705Z",
     "shell.execute_reply": "2022-08-31T16:15:37.378556Z"
    },
    "papermill": {
     "duration": 0.60921,
     "end_time": "2022-08-31T16:15:37.382585",
     "exception": false,
     "start_time": "2022-08-31T16:15:36.773375",
     "status": "completed"
    },
    "tags": []
   },
   "outputs": [],
   "source": [
    "final = mine.modeling(X_train, X_test, y_train, y_test)"
   ]
  },
  {
   "cell_type": "code",
   "execution_count": 47,
   "id": "daa5c46c",
   "metadata": {
    "execution": {
     "iopub.execute_input": "2022-08-31T16:15:37.433275Z",
     "iopub.status.busy": "2022-08-31T16:15:37.432504Z",
     "iopub.status.idle": "2022-08-31T16:15:37.441228Z",
     "shell.execute_reply": "2022-08-31T16:15:37.440165Z"
    },
    "papermill": {
     "duration": 0.03699,
     "end_time": "2022-08-31T16:15:37.443615",
     "exception": false,
     "start_time": "2022-08-31T16:15:37.406625",
     "status": "completed"
    },
    "tags": []
   },
   "outputs": [
    {
     "data": {
      "text/plain": [
       "0.956"
      ]
     },
     "execution_count": 47,
     "metadata": {},
     "output_type": "execute_result"
    }
   ],
   "source": [
    "final"
   ]
  },
  {
   "cell_type": "code",
   "execution_count": 48,
   "id": "535422ce",
   "metadata": {
    "execution": {
     "iopub.execute_input": "2022-08-31T16:15:37.495685Z",
     "iopub.status.busy": "2022-08-31T16:15:37.494236Z",
     "iopub.status.idle": "2022-08-31T16:15:37.516808Z",
     "shell.execute_reply": "2022-08-31T16:15:37.515462Z"
    },
    "papermill": {
     "duration": 0.051464,
     "end_time": "2022-08-31T16:15:37.519480",
     "exception": false,
     "start_time": "2022-08-31T16:15:37.468016",
     "status": "completed"
    },
    "tags": []
   },
   "outputs": [
    {
     "data": {
      "text/html": [
       "<div>\n",
       "<style scoped>\n",
       "    .dataframe tbody tr th:only-of-type {\n",
       "        vertical-align: middle;\n",
       "    }\n",
       "\n",
       "    .dataframe tbody tr th {\n",
       "        vertical-align: top;\n",
       "    }\n",
       "\n",
       "    .dataframe thead th {\n",
       "        text-align: right;\n",
       "    }\n",
       "</style>\n",
       "<table border=\"1\" class=\"dataframe\">\n",
       "  <thead>\n",
       "    <tr style=\"text-align: right;\">\n",
       "      <th></th>\n",
       "      <th>battery_power</th>\n",
       "      <th>blue</th>\n",
       "      <th>clock_speed</th>\n",
       "      <th>dual_sim</th>\n",
       "      <th>fc</th>\n",
       "      <th>four_g</th>\n",
       "      <th>int_memory</th>\n",
       "      <th>m_dep</th>\n",
       "      <th>mobile_wt</th>\n",
       "      <th>n_cores</th>\n",
       "      <th>...</th>\n",
       "      <th>px_height</th>\n",
       "      <th>px_width</th>\n",
       "      <th>ram</th>\n",
       "      <th>sc_h</th>\n",
       "      <th>sc_w</th>\n",
       "      <th>talk_time</th>\n",
       "      <th>three_g</th>\n",
       "      <th>touch_screen</th>\n",
       "      <th>wifi</th>\n",
       "      <th>price_range</th>\n",
       "    </tr>\n",
       "  </thead>\n",
       "  <tbody>\n",
       "    <tr>\n",
       "      <th>0</th>\n",
       "      <td>842</td>\n",
       "      <td>0</td>\n",
       "      <td>2.2</td>\n",
       "      <td>0</td>\n",
       "      <td>1</td>\n",
       "      <td>0</td>\n",
       "      <td>7</td>\n",
       "      <td>0.6</td>\n",
       "      <td>188</td>\n",
       "      <td>2</td>\n",
       "      <td>...</td>\n",
       "      <td>20</td>\n",
       "      <td>756</td>\n",
       "      <td>2549</td>\n",
       "      <td>9</td>\n",
       "      <td>7</td>\n",
       "      <td>19</td>\n",
       "      <td>0</td>\n",
       "      <td>0</td>\n",
       "      <td>1</td>\n",
       "      <td>1</td>\n",
       "    </tr>\n",
       "    <tr>\n",
       "      <th>1</th>\n",
       "      <td>1021</td>\n",
       "      <td>1</td>\n",
       "      <td>0.5</td>\n",
       "      <td>1</td>\n",
       "      <td>0</td>\n",
       "      <td>1</td>\n",
       "      <td>53</td>\n",
       "      <td>0.7</td>\n",
       "      <td>136</td>\n",
       "      <td>3</td>\n",
       "      <td>...</td>\n",
       "      <td>905</td>\n",
       "      <td>1988</td>\n",
       "      <td>2631</td>\n",
       "      <td>17</td>\n",
       "      <td>3</td>\n",
       "      <td>7</td>\n",
       "      <td>1</td>\n",
       "      <td>1</td>\n",
       "      <td>0</td>\n",
       "      <td>2</td>\n",
       "    </tr>\n",
       "    <tr>\n",
       "      <th>2</th>\n",
       "      <td>563</td>\n",
       "      <td>1</td>\n",
       "      <td>0.5</td>\n",
       "      <td>1</td>\n",
       "      <td>2</td>\n",
       "      <td>1</td>\n",
       "      <td>41</td>\n",
       "      <td>0.9</td>\n",
       "      <td>145</td>\n",
       "      <td>5</td>\n",
       "      <td>...</td>\n",
       "      <td>1263</td>\n",
       "      <td>1716</td>\n",
       "      <td>2603</td>\n",
       "      <td>11</td>\n",
       "      <td>2</td>\n",
       "      <td>9</td>\n",
       "      <td>1</td>\n",
       "      <td>1</td>\n",
       "      <td>0</td>\n",
       "      <td>2</td>\n",
       "    </tr>\n",
       "    <tr>\n",
       "      <th>3</th>\n",
       "      <td>615</td>\n",
       "      <td>1</td>\n",
       "      <td>2.5</td>\n",
       "      <td>0</td>\n",
       "      <td>0</td>\n",
       "      <td>0</td>\n",
       "      <td>10</td>\n",
       "      <td>0.8</td>\n",
       "      <td>131</td>\n",
       "      <td>6</td>\n",
       "      <td>...</td>\n",
       "      <td>1216</td>\n",
       "      <td>1786</td>\n",
       "      <td>2769</td>\n",
       "      <td>16</td>\n",
       "      <td>8</td>\n",
       "      <td>11</td>\n",
       "      <td>1</td>\n",
       "      <td>0</td>\n",
       "      <td>0</td>\n",
       "      <td>2</td>\n",
       "    </tr>\n",
       "    <tr>\n",
       "      <th>4</th>\n",
       "      <td>1821</td>\n",
       "      <td>1</td>\n",
       "      <td>1.2</td>\n",
       "      <td>0</td>\n",
       "      <td>13</td>\n",
       "      <td>1</td>\n",
       "      <td>44</td>\n",
       "      <td>0.6</td>\n",
       "      <td>141</td>\n",
       "      <td>2</td>\n",
       "      <td>...</td>\n",
       "      <td>1208</td>\n",
       "      <td>1212</td>\n",
       "      <td>1411</td>\n",
       "      <td>8</td>\n",
       "      <td>2</td>\n",
       "      <td>15</td>\n",
       "      <td>1</td>\n",
       "      <td>1</td>\n",
       "      <td>0</td>\n",
       "      <td>1</td>\n",
       "    </tr>\n",
       "  </tbody>\n",
       "</table>\n",
       "<p>5 rows × 21 columns</p>\n",
       "</div>"
      ],
      "text/plain": [
       "   battery_power  blue  clock_speed  dual_sim  fc  four_g  int_memory  m_dep  \\\n",
       "0            842     0          2.2         0   1       0           7    0.6   \n",
       "1           1021     1          0.5         1   0       1          53    0.7   \n",
       "2            563     1          0.5         1   2       1          41    0.9   \n",
       "3            615     1          2.5         0   0       0          10    0.8   \n",
       "4           1821     1          1.2         0  13       1          44    0.6   \n",
       "\n",
       "   mobile_wt  n_cores  ...  px_height  px_width   ram  sc_h  sc_w  talk_time  \\\n",
       "0        188        2  ...         20       756  2549     9     7         19   \n",
       "1        136        3  ...        905      1988  2631    17     3          7   \n",
       "2        145        5  ...       1263      1716  2603    11     2          9   \n",
       "3        131        6  ...       1216      1786  2769    16     8         11   \n",
       "4        141        2  ...       1208      1212  1411     8     2         15   \n",
       "\n",
       "   three_g  touch_screen  wifi  price_range  \n",
       "0        0             0     1            1  \n",
       "1        1             1     0            2  \n",
       "2        1             1     0            2  \n",
       "3        1             0     0            2  \n",
       "4        1             1     0            1  \n",
       "\n",
       "[5 rows x 21 columns]"
      ]
     },
     "execution_count": 48,
     "metadata": {},
     "output_type": "execute_result"
    }
   ],
   "source": [
    "df.head()"
   ]
  },
  {
   "cell_type": "markdown",
   "id": "ee4f0004",
   "metadata": {
    "papermill": {
     "duration": 0.024185,
     "end_time": "2022-08-31T16:15:37.568787",
     "exception": false,
     "start_time": "2022-08-31T16:15:37.544602",
     "status": "completed"
    },
    "tags": []
   },
   "source": [
    "as we saw before,this data must be scaled"
   ]
  },
  {
   "cell_type": "markdown",
   "id": "4b3c9ab8",
   "metadata": {
    "papermill": {
     "duration": 0.024333,
     "end_time": "2022-08-31T16:15:37.617659",
     "exception": false,
     "start_time": "2022-08-31T16:15:37.593326",
     "status": "completed"
    },
    "tags": []
   },
   "source": [
    "# Standard scaler"
   ]
  },
  {
   "cell_type": "code",
   "execution_count": 49,
   "id": "4220991f",
   "metadata": {
    "execution": {
     "iopub.execute_input": "2022-08-31T16:15:37.669756Z",
     "iopub.status.busy": "2022-08-31T16:15:37.668344Z",
     "iopub.status.idle": "2022-08-31T16:15:37.681818Z",
     "shell.execute_reply": "2022-08-31T16:15:37.680904Z"
    },
    "papermill": {
     "duration": 0.042221,
     "end_time": "2022-08-31T16:15:37.684371",
     "exception": false,
     "start_time": "2022-08-31T16:15:37.642150",
     "status": "completed"
    },
    "tags": []
   },
   "outputs": [],
   "source": [
    "from sklearn.preprocessing import StandardScaler\n",
    "\n",
    "# Normalize Training Data \n",
    "scaler = StandardScaler().fit(X_train)\n",
    "X_train_std = scaler.transform(X_train)\n",
    "X_test_std = scaler.transform(X_test)\n",
    "\n",
    "#Converting numpy array to dataframe\n",
    "X_train_std_df = pd.DataFrame(X_train_std, index=X_train.index, columns=X_train.columns)\n",
    "X_test_std_df = pd.DataFrame(X_test_std, index=X_test.index, columns=X_test.columns) "
   ]
  },
  {
   "cell_type": "code",
   "execution_count": 50,
   "id": "4e760200",
   "metadata": {
    "execution": {
     "iopub.execute_input": "2022-08-31T16:15:37.736016Z",
     "iopub.status.busy": "2022-08-31T16:15:37.735182Z",
     "iopub.status.idle": "2022-08-31T16:15:37.759788Z",
     "shell.execute_reply": "2022-08-31T16:15:37.758487Z"
    },
    "papermill": {
     "duration": 0.053622,
     "end_time": "2022-08-31T16:15:37.762564",
     "exception": false,
     "start_time": "2022-08-31T16:15:37.708942",
     "status": "completed"
    },
    "tags": []
   },
   "outputs": [
    {
     "data": {
      "text/html": [
       "<div>\n",
       "<style scoped>\n",
       "    .dataframe tbody tr th:only-of-type {\n",
       "        vertical-align: middle;\n",
       "    }\n",
       "\n",
       "    .dataframe tbody tr th {\n",
       "        vertical-align: top;\n",
       "    }\n",
       "\n",
       "    .dataframe thead th {\n",
       "        text-align: right;\n",
       "    }\n",
       "</style>\n",
       "<table border=\"1\" class=\"dataframe\">\n",
       "  <thead>\n",
       "    <tr style=\"text-align: right;\">\n",
       "      <th></th>\n",
       "      <th>battery_power</th>\n",
       "      <th>blue</th>\n",
       "      <th>clock_speed</th>\n",
       "      <th>dual_sim</th>\n",
       "      <th>fc</th>\n",
       "      <th>four_g</th>\n",
       "      <th>int_memory</th>\n",
       "      <th>m_dep</th>\n",
       "      <th>mobile_wt</th>\n",
       "      <th>n_cores</th>\n",
       "      <th>pc</th>\n",
       "      <th>px_height</th>\n",
       "      <th>px_width</th>\n",
       "      <th>ram</th>\n",
       "      <th>sc_h</th>\n",
       "      <th>sc_w</th>\n",
       "      <th>talk_time</th>\n",
       "      <th>three_g</th>\n",
       "      <th>touch_screen</th>\n",
       "      <th>wifi</th>\n",
       "    </tr>\n",
       "  </thead>\n",
       "  <tbody>\n",
       "    <tr>\n",
       "      <th>911</th>\n",
       "      <td>0.125582</td>\n",
       "      <td>1.025663</td>\n",
       "      <td>1.561327</td>\n",
       "      <td>0.989390</td>\n",
       "      <td>-0.997548</td>\n",
       "      <td>-1.047808</td>\n",
       "      <td>-1.217038</td>\n",
       "      <td>1.388157</td>\n",
       "      <td>0.397492</td>\n",
       "      <td>-1.100320</td>\n",
       "      <td>0.682961</td>\n",
       "      <td>-1.090481</td>\n",
       "      <td>-1.695925</td>\n",
       "      <td>0.059355</td>\n",
       "      <td>0.891820</td>\n",
       "      <td>-0.866810</td>\n",
       "      <td>-0.362002</td>\n",
       "      <td>-1.786041</td>\n",
       "      <td>0.989390</td>\n",
       "      <td>0.980196</td>\n",
       "    </tr>\n",
       "    <tr>\n",
       "      <th>225</th>\n",
       "      <td>0.922942</td>\n",
       "      <td>1.025663</td>\n",
       "      <td>-0.152086</td>\n",
       "      <td>-1.010724</td>\n",
       "      <td>-0.764367</td>\n",
       "      <td>0.954373</td>\n",
       "      <td>-0.832490</td>\n",
       "      <td>-1.053734</td>\n",
       "      <td>1.660349</td>\n",
       "      <td>-1.100320</td>\n",
       "      <td>-0.794835</td>\n",
       "      <td>0.723222</td>\n",
       "      <td>0.986669</td>\n",
       "      <td>0.818813</td>\n",
       "      <td>-0.288669</td>\n",
       "      <td>0.066414</td>\n",
       "      <td>-0.914583</td>\n",
       "      <td>0.559897</td>\n",
       "      <td>0.989390</td>\n",
       "      <td>0.980196</td>\n",
       "    </tr>\n",
       "    <tr>\n",
       "      <th>523</th>\n",
       "      <td>0.419466</td>\n",
       "      <td>-0.974980</td>\n",
       "      <td>-1.253565</td>\n",
       "      <td>0.989390</td>\n",
       "      <td>0.168357</td>\n",
       "      <td>-1.047808</td>\n",
       "      <td>1.035312</td>\n",
       "      <td>-0.704893</td>\n",
       "      <td>-0.668922</td>\n",
       "      <td>0.216202</td>\n",
       "      <td>0.190362</td>\n",
       "      <td>-1.029573</td>\n",
       "      <td>-1.693614</td>\n",
       "      <td>1.139352</td>\n",
       "      <td>0.891820</td>\n",
       "      <td>-0.166892</td>\n",
       "      <td>-1.651357</td>\n",
       "      <td>-1.786041</td>\n",
       "      <td>-1.010724</td>\n",
       "      <td>-1.020204</td>\n",
       "    </tr>\n",
       "    <tr>\n",
       "      <th>522</th>\n",
       "      <td>1.182653</td>\n",
       "      <td>-0.974980</td>\n",
       "      <td>0.215074</td>\n",
       "      <td>0.989390</td>\n",
       "      <td>0.401537</td>\n",
       "      <td>0.954373</td>\n",
       "      <td>-0.997296</td>\n",
       "      <td>-0.007209</td>\n",
       "      <td>0.144920</td>\n",
       "      <td>-0.661479</td>\n",
       "      <td>-0.466436</td>\n",
       "      <td>0.486358</td>\n",
       "      <td>-0.036922</td>\n",
       "      <td>1.672065</td>\n",
       "      <td>0.891820</td>\n",
       "      <td>1.466251</td>\n",
       "      <td>-1.467164</td>\n",
       "      <td>0.559897</td>\n",
       "      <td>-1.010724</td>\n",
       "      <td>0.980196</td>\n",
       "    </tr>\n",
       "    <tr>\n",
       "      <th>103</th>\n",
       "      <td>1.617784</td>\n",
       "      <td>1.025663</td>\n",
       "      <td>1.561327</td>\n",
       "      <td>0.989390</td>\n",
       "      <td>-0.997548</td>\n",
       "      <td>0.954373</td>\n",
       "      <td>1.255053</td>\n",
       "      <td>0.341632</td>\n",
       "      <td>1.632286</td>\n",
       "      <td>-0.222639</td>\n",
       "      <td>0.026162</td>\n",
       "      <td>-0.729545</td>\n",
       "      <td>-1.686682</td>\n",
       "      <td>-0.987860</td>\n",
       "      <td>0.419624</td>\n",
       "      <td>0.999639</td>\n",
       "      <td>1.295741</td>\n",
       "      <td>0.559897</td>\n",
       "      <td>0.989390</td>\n",
       "      <td>-1.020204</td>\n",
       "    </tr>\n",
       "  </tbody>\n",
       "</table>\n",
       "</div>"
      ],
      "text/plain": [
       "     battery_power      blue  clock_speed  dual_sim        fc    four_g  \\\n",
       "911       0.125582  1.025663     1.561327  0.989390 -0.997548 -1.047808   \n",
       "225       0.922942  1.025663    -0.152086 -1.010724 -0.764367  0.954373   \n",
       "523       0.419466 -0.974980    -1.253565  0.989390  0.168357 -1.047808   \n",
       "522       1.182653 -0.974980     0.215074  0.989390  0.401537  0.954373   \n",
       "103       1.617784  1.025663     1.561327  0.989390 -0.997548  0.954373   \n",
       "\n",
       "     int_memory     m_dep  mobile_wt   n_cores        pc  px_height  px_width  \\\n",
       "911   -1.217038  1.388157   0.397492 -1.100320  0.682961  -1.090481 -1.695925   \n",
       "225   -0.832490 -1.053734   1.660349 -1.100320 -0.794835   0.723222  0.986669   \n",
       "523    1.035312 -0.704893  -0.668922  0.216202  0.190362  -1.029573 -1.693614   \n",
       "522   -0.997296 -0.007209   0.144920 -0.661479 -0.466436   0.486358 -0.036922   \n",
       "103    1.255053  0.341632   1.632286 -0.222639  0.026162  -0.729545 -1.686682   \n",
       "\n",
       "          ram      sc_h      sc_w  talk_time   three_g  touch_screen      wifi  \n",
       "911  0.059355  0.891820 -0.866810  -0.362002 -1.786041      0.989390  0.980196  \n",
       "225  0.818813 -0.288669  0.066414  -0.914583  0.559897      0.989390  0.980196  \n",
       "523  1.139352  0.891820 -0.166892  -1.651357 -1.786041     -1.010724 -1.020204  \n",
       "522  1.672065  0.891820  1.466251  -1.467164  0.559897     -1.010724  0.980196  \n",
       "103 -0.987860  0.419624  0.999639   1.295741  0.559897      0.989390 -1.020204  "
      ]
     },
     "execution_count": 50,
     "metadata": {},
     "output_type": "execute_result"
    }
   ],
   "source": [
    "X_train_std_df.head()"
   ]
  },
  {
   "cell_type": "markdown",
   "id": "f2db67c2",
   "metadata": {
    "papermill": {
     "duration": 0.02441,
     "end_time": "2022-08-31T16:15:37.811641",
     "exception": false,
     "start_time": "2022-08-31T16:15:37.787231",
     "status": "completed"
    },
    "tags": []
   },
   "source": [
    "# K-neighbors"
   ]
  },
  {
   "cell_type": "code",
   "execution_count": 51,
   "id": "99ef0123",
   "metadata": {
    "execution": {
     "iopub.execute_input": "2022-08-31T16:15:37.865018Z",
     "iopub.status.busy": "2022-08-31T16:15:37.864346Z",
     "iopub.status.idle": "2022-08-31T16:15:37.962612Z",
     "shell.execute_reply": "2022-08-31T16:15:37.960831Z"
    },
    "papermill": {
     "duration": 0.130416,
     "end_time": "2022-08-31T16:15:37.967488",
     "exception": false,
     "start_time": "2022-08-31T16:15:37.837072",
     "status": "completed"
    },
    "tags": []
   },
   "outputs": [],
   "source": [
    "from sklearn.neighbors import KNeighborsClassifier\n",
    "\n",
    "model = KNeighborsClassifier()\n",
    "\n",
    "model.fit(X_train,y_train)\n",
    "\n",
    "predicted= model.predict(X_test)"
   ]
  },
  {
   "cell_type": "code",
   "execution_count": 52,
   "id": "221a420a",
   "metadata": {
    "execution": {
     "iopub.execute_input": "2022-08-31T16:15:38.042659Z",
     "iopub.status.busy": "2022-08-31T16:15:38.042194Z",
     "iopub.status.idle": "2022-08-31T16:15:38.051535Z",
     "shell.execute_reply": "2022-08-31T16:15:38.050467Z"
    },
    "papermill": {
     "duration": 0.037837,
     "end_time": "2022-08-31T16:15:38.053934",
     "exception": false,
     "start_time": "2022-08-31T16:15:38.016097",
     "status": "completed"
    },
    "tags": []
   },
   "outputs": [
    {
     "data": {
      "text/plain": [
       "0.92"
      ]
     },
     "execution_count": 52,
     "metadata": {},
     "output_type": "execute_result"
    }
   ],
   "source": [
    "from sklearn.metrics import accuracy_score\n",
    "\n",
    "accuracy = accuracy_score(y_test,predicted)\n",
    "accuracy"
   ]
  },
  {
   "cell_type": "markdown",
   "id": "773eb8bb",
   "metadata": {
    "papermill": {
     "duration": 0.024263,
     "end_time": "2022-08-31T16:15:38.103312",
     "exception": false,
     "start_time": "2022-08-31T16:15:38.079049",
     "status": "completed"
    },
    "tags": []
   },
   "source": [
    "# Decision Tree"
   ]
  },
  {
   "cell_type": "code",
   "execution_count": 53,
   "id": "94665698",
   "metadata": {
    "execution": {
     "iopub.execute_input": "2022-08-31T16:15:38.156407Z",
     "iopub.status.busy": "2022-08-31T16:15:38.155519Z",
     "iopub.status.idle": "2022-08-31T16:15:38.160971Z",
     "shell.execute_reply": "2022-08-31T16:15:38.160004Z"
    },
    "papermill": {
     "duration": 0.034831,
     "end_time": "2022-08-31T16:15:38.163406",
     "exception": false,
     "start_time": "2022-08-31T16:15:38.128575",
     "status": "completed"
    },
    "tags": []
   },
   "outputs": [],
   "source": [
    "from sklearn.tree import DecisionTreeClassifier"
   ]
  },
  {
   "cell_type": "code",
   "execution_count": 54,
   "id": "a01f0c5f",
   "metadata": {
    "execution": {
     "iopub.execute_input": "2022-08-31T16:15:38.215734Z",
     "iopub.status.busy": "2022-08-31T16:15:38.215283Z",
     "iopub.status.idle": "2022-08-31T16:15:38.239461Z",
     "shell.execute_reply": "2022-08-31T16:15:38.238351Z"
    },
    "papermill": {
     "duration": 0.053566,
     "end_time": "2022-08-31T16:15:38.242003",
     "exception": false,
     "start_time": "2022-08-31T16:15:38.188437",
     "status": "completed"
    },
    "tags": []
   },
   "outputs": [
    {
     "data": {
      "text/plain": [
       "0.85"
      ]
     },
     "execution_count": 54,
     "metadata": {},
     "output_type": "execute_result"
    }
   ],
   "source": [
    "first_tree = DecisionTreeClassifier()\n",
    "first_tree.fit(X_train, y_train)\n",
    "y_pred=first_tree.predict(X_test)\n",
    "accuracy = accuracy_score(y_test,y_pred)\n",
    "accuracy"
   ]
  },
  {
   "cell_type": "code",
   "execution_count": 55,
   "id": "c6ca6c8d",
   "metadata": {
    "execution": {
     "iopub.execute_input": "2022-08-31T16:15:38.295060Z",
     "iopub.status.busy": "2022-08-31T16:15:38.293817Z",
     "iopub.status.idle": "2022-08-31T16:15:38.303390Z",
     "shell.execute_reply": "2022-08-31T16:15:38.302603Z"
    },
    "papermill": {
     "duration": 0.038801,
     "end_time": "2022-08-31T16:15:38.305919",
     "exception": false,
     "start_time": "2022-08-31T16:15:38.267118",
     "status": "completed"
    },
    "tags": []
   },
   "outputs": [],
   "source": [
    "class func:\n",
    "    def process(data_name):\n",
    "        df=pd.read_csv(data_name)\n",
    "        y = df['price_range']\n",
    "        X = df.drop('price_range', axis = 1)\n",
    "        X_train, X_test, y_train, y_test = train_test_split(X,y, test_size = 0.25)\n",
    "        return X_train, X_test, y_train, y_test\n",
    "\n",
    "    def model(x1,x2,y1,y2):\n",
    "        dt=DecisionTreeClassifier(random_state=42)\n",
    "        knn=KNeighborsClassifier()\n",
    "    \n",
    "        dt.fit(X_train,y_train)\n",
    "        knn.fit(X_train,y_train)\n",
    "    \n",
    "        y_pred_dt=dt.predict(X_test)\n",
    "        y_pred_knn=knn.predict(X_test)\n",
    "    \n",
    "        accuracy_dt=metrics.accuracy_score(y_test,y_pred_dt)\n",
    "        accuracy_knn=metrics.accuracy_score(y_test,y_pred_knn)\n",
    "    \n",
    "        accuracy_list=[accuracy_dt ,accuracy_knn]\n",
    "        \n",
    "        final = max(accuracy_list)\n",
    "        \n",
    "        return final"
   ]
  },
  {
   "cell_type": "code",
   "execution_count": 56,
   "id": "c1f56eb3",
   "metadata": {
    "execution": {
     "iopub.execute_input": "2022-08-31T16:15:38.358345Z",
     "iopub.status.busy": "2022-08-31T16:15:38.357499Z",
     "iopub.status.idle": "2022-08-31T16:15:38.371627Z",
     "shell.execute_reply": "2022-08-31T16:15:38.370644Z"
    },
    "papermill": {
     "duration": 0.043392,
     "end_time": "2022-08-31T16:15:38.374368",
     "exception": false,
     "start_time": "2022-08-31T16:15:38.330976",
     "status": "completed"
    },
    "tags": []
   },
   "outputs": [],
   "source": [
    "X_train, X_test, y_train, y_test = func.process('/kaggle/input/mobile-price-classification/train.csv')"
   ]
  },
  {
   "cell_type": "code",
   "execution_count": 57,
   "id": "d6a803b6",
   "metadata": {
    "execution": {
     "iopub.execute_input": "2022-08-31T16:15:38.426433Z",
     "iopub.status.busy": "2022-08-31T16:15:38.425632Z",
     "iopub.status.idle": "2022-08-31T16:15:38.516766Z",
     "shell.execute_reply": "2022-08-31T16:15:38.514865Z"
    },
    "papermill": {
     "duration": 0.121835,
     "end_time": "2022-08-31T16:15:38.521199",
     "exception": false,
     "start_time": "2022-08-31T16:15:38.399364",
     "status": "completed"
    },
    "tags": []
   },
   "outputs": [],
   "source": [
    "final = func.model(X_train, X_test, y_train, y_test)"
   ]
  },
  {
   "cell_type": "code",
   "execution_count": 58,
   "id": "ed686abd",
   "metadata": {
    "execution": {
     "iopub.execute_input": "2022-08-31T16:15:38.604551Z",
     "iopub.status.busy": "2022-08-31T16:15:38.604026Z",
     "iopub.status.idle": "2022-08-31T16:15:38.611555Z",
     "shell.execute_reply": "2022-08-31T16:15:38.610368Z"
    },
    "papermill": {
     "duration": 0.036464,
     "end_time": "2022-08-31T16:15:38.613822",
     "exception": false,
     "start_time": "2022-08-31T16:15:38.577358",
     "status": "completed"
    },
    "tags": []
   },
   "outputs": [
    {
     "data": {
      "text/plain": [
       "0.928"
      ]
     },
     "execution_count": 58,
     "metadata": {},
     "output_type": "execute_result"
    }
   ],
   "source": [
    "final"
   ]
  }
 ],
 "metadata": {
  "kernelspec": {
   "display_name": "Python 3.10.5 64-bit",
   "language": "python",
   "name": "python3"
  },
  "language_info": {
   "codemirror_mode": {
    "name": "ipython",
    "version": 3
   },
   "file_extension": ".py",
   "mimetype": "text/x-python",
   "name": "python",
   "nbconvert_exporter": "python",
   "pygments_lexer": "ipython3",
   "version": "3.10.5"
  },
  "papermill": {
   "default_parameters": {},
   "duration": 27.162383,
   "end_time": "2022-08-31T16:15:39.461646",
   "environment_variables": {},
   "exception": null,
   "input_path": "__notebook__.ipynb",
   "output_path": "__notebook__.ipynb",
   "parameters": {},
   "start_time": "2022-08-31T16:15:12.299263",
   "version": "2.3.4"
  },
  "vscode": {
   "interpreter": {
    "hash": "aee8b7b246df8f9039afb4144a1f6fd8d2ca17a180786b69acc140d282b71a49"
   }
  }
 },
 "nbformat": 4,
 "nbformat_minor": 5
}
