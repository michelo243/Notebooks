{
  "nbformat": 4,
  "nbformat_minor": 0,
  "metadata": {
    "colab": {
      "provenance": []
    },
    "kernelspec": {
      "name": "python3",
      "display_name": "Python 3"
    },
    "language_info": {
      "name": "python"
    }
  },
  "cells": [
    {
      "cell_type": "markdown",
      "source": [
        "# Analyse des sentiments / RNN"
      ],
      "metadata": {
        "id": "doeEZPEoitsa"
      }
    },
    {
      "cell_type": "code",
      "execution_count": 1,
      "metadata": {
        "id": "AbAgLEz-inUW"
      },
      "outputs": [],
      "source": [
        "# importation des librairies\n",
        "import numpy as np"
      ]
    },
    {
      "cell_type": "code",
      "source": [
        "w =np.random.randn(3,4) # la valeur magique (poids)\n",
        "w"
      ],
      "metadata": {
        "colab": {
          "base_uri": "https://localhost:8080/"
        },
        "id": "HpnDUfr9jgpX",
        "outputId": "5e3bc8d8-b1b0-4926-ecde-3b7ee28a1951"
      },
      "execution_count": 2,
      "outputs": [
        {
          "output_type": "execute_result",
          "data": {
            "text/plain": [
              "array([[ 1.91646014e+00,  3.32090061e-05, -9.92933612e-01,\n",
              "        -3.90390348e-01],\n",
              "       [ 6.32737267e-02,  7.57153075e-01,  6.92512433e-01,\n",
              "        -1.35460664e+00],\n",
              "       [ 1.41670205e-01,  1.37350980e+00,  2.31704735e-01,\n",
              "         2.44302641e-01]])"
            ]
          },
          "metadata": {},
          "execution_count": 2
        }
      ]
    },
    {
      "cell_type": "code",
      "source": [
        "b= np.random.randn(4) # bias (regulateur)\n",
        "b"
      ],
      "metadata": {
        "colab": {
          "base_uri": "https://localhost:8080/"
        },
        "id": "JnvUl5ggj0zY",
        "outputId": "24855137-3c9a-4ccd-ebc0-0b71f24b9c18"
      },
      "execution_count": 3,
      "outputs": [
        {
          "output_type": "execute_result",
          "data": {
            "text/plain": [
              "array([ 0.98922637,  1.15375727, -0.4279091 ,  0.14978265])"
            ]
          },
          "metadata": {},
          "execution_count": 3
        }
      ]
    },
    {
      "cell_type": "code",
      "source": [
        "X= np.random.randn(3)\n",
        "X"
      ],
      "metadata": {
        "colab": {
          "base_uri": "https://localhost:8080/"
        },
        "id": "WeUcxtxNj3oE",
        "outputId": "93d0fe42-bbfb-45f0-9ca6-4e287e200a6c"
      },
      "execution_count": 4,
      "outputs": [
        {
          "output_type": "execute_result",
          "data": {
            "text/plain": [
              "array([ 0.87115722, -0.20040827,  0.08048825])"
            ]
          },
          "metadata": {},
          "execution_count": 4
        }
      ]
    },
    {
      "cell_type": "code",
      "source": [
        "def sigmoid(x):\n",
        "  z= 1/(1+np.exp(-x))\n",
        "  return z"
      ],
      "metadata": {
        "id": "rf-u1A6ej6NT"
      },
      "execution_count": 5,
      "outputs": []
    },
    {
      "cell_type": "markdown",
      "source": [
        "# Traitements\n",
        "  * _Elimination des stop word_ : Eliminer les articles, les pronoms, adverbes, ponctuations ... pour éviter au modele d'apprendre plus sur cela\n",
        "  * _Encodage_ : on cree notre vocabulaire (NLP natural language preprocessing) cad l'ensemble des mots qui constituent notre document ou tout nos commentaires ou notre test d'analyse des sentiments, sans repetition. </br>\n",
        "    - puis on vas le remplacer selon un encodage\n",
        "    - nous aurons donc des données labelisées"
      ],
      "metadata": {
        "id": "SAqnOuH2kQ77"
      }
    },
    {
      "cell_type": "code",
      "source": [
        "!pip3 install keras --quiet\n",
        "# import tensorflow as tf\n",
        "from tensorflow.keras.datasets import imdb"
      ],
      "metadata": {
        "id": "lF00rL8JrEiC"
      },
      "execution_count": 11,
      "outputs": []
    },
    {
      "cell_type": "code",
      "source": [
        "(X_train,y_train),(X_test,y_test)=imdb.load_data(num_words=10000)\n",
        "\n",
        "X_train.shape, y_train.shape, X_test.shape,y_test.shape"
      ],
      "metadata": {
        "colab": {
          "base_uri": "https://localhost:8080/"
        },
        "id": "Cb1sZxiFr9go",
        "outputId": "b5b29401-2f30-4a2a-8186-f07ce13a293c"
      },
      "execution_count": 9,
      "outputs": [
        {
          "output_type": "stream",
          "name": "stdout",
          "text": [
            "Downloading data from https://storage.googleapis.com/tensorflow/tf-keras-datasets/imdb.npz\n",
            "17465344/17464789 [==============================] - 0s 0us/step\n",
            "17473536/17464789 [==============================] - 0s 0us/step\n"
          ]
        },
        {
          "output_type": "execute_result",
          "data": {
            "text/plain": [
              "((25000,), (25000,), (25000,), (25000,))"
            ]
          },
          "metadata": {},
          "execution_count": 9
        }
      ]
    },
    {
      "cell_type": "code",
      "source": [
        "len(X_train[1]) # les commentaires n'ont pas la meme taille car il s'agit des avis differents"
      ],
      "metadata": {
        "colab": {
          "base_uri": "https://localhost:8080/"
        },
        "id": "X5mzMwystPX2",
        "outputId": "973a82f0-f2d4-4142-b10d-9ae1f9e09304"
      },
      "execution_count": 12,
      "outputs": [
        {
          "output_type": "execute_result",
          "data": {
            "text/plain": [
              "189"
            ]
          },
          "metadata": {},
          "execution_count": 12
        }
      ]
    },
    {
      "cell_type": "code",
      "source": [
        "from tensorflow.keras.preprocessing import sequence"
      ],
      "metadata": {
        "id": "YoKStEuMuMN8"
      },
      "execution_count": 14,
      "outputs": []
    },
    {
      "cell_type": "code",
      "source": [
        "# il vas prendre les commentaires, et check tout les commentaires qui n'atteingnet pas la taille de 1000, value signifie taille vide, 1 constitue deja un mot\n",
        "# chaque commentaire aura donc 1000 mot\n",
        "X_train = sequence.pad_sequences(X_train, value = 0, padding=\"post\", maxlen=1000) "
      ],
      "metadata": {
        "id": "AyKDA_sOuRE6"
      },
      "execution_count": 15,
      "outputs": []
    },
    {
      "cell_type": "code",
      "source": [
        "X_train[0]"
      ],
      "metadata": {
        "id": "_137WbqfvrOv"
      },
      "execution_count": null,
      "outputs": []
    },
    {
      "cell_type": "code",
      "source": [
        "X_test = sequence.pad_sequences(X_test, value = 0, padding=\"post\", maxlen=1000) "
      ],
      "metadata": {
        "id": "dW8eOEjQvx9N"
      },
      "execution_count": 17,
      "outputs": []
    },
    {
      "cell_type": "markdown",
      "source": [
        "# Creation du modele RNN"
      ],
      "metadata": {
        "id": "P1G7Nj3twDY5"
      }
    },
    {
      "cell_type": "code",
      "source": [
        "from tensorflow.keras import Sequential\n",
        "from tensorflow.keras.layers import Embedding, SimpleRNN, Dense"
      ],
      "metadata": {
        "id": "OST87rDOv-9x"
      },
      "execution_count": 18,
      "outputs": []
    },
    {
      "cell_type": "code",
      "source": [
        "# on creer l'architecture avec les couches RNN d'abord, puis apres les couches denses (qui utilisent des vecteurs)\n",
        "def model_rnn(vocab_size):\n",
        "  model = Sequential()\n",
        "  model.add(Embedding(input_dim=vocab_size,output_dim=32,input_length=1000)) # 32 = 32 sequences pour le Simple RNN, ceci cree la couche qui transforme les données en des sequences, imput_dim = taille du vocabulaire\n",
        "  model.add(SimpleRNN(32, activation='relu', return_sequences=True)) # couche RNN qui renvois des sequences, 32 = 32 neurones. Nombres des sequences doivent etre egale au nombre des neurones a recevoir\n",
        "  model.add(SimpleRNN(12, activation='relu', return_sequences=False)) # couche RNN qui renvoie des vecteurs\n",
        "  model.add(Dense(1, activation='sigmoid')) # il renvois un sigmoid\n",
        "  return model"
      ],
      "metadata": {
        "id": "NK3ZKH0YwW0Z"
      },
      "execution_count": 19,
      "outputs": []
    },
    {
      "cell_type": "code",
      "source": [
        "model = model_rnn(10000)"
      ],
      "metadata": {
        "id": "VvMl-w4r0vAc"
      },
      "execution_count": 20,
      "outputs": []
    },
    {
      "cell_type": "code",
      "source": [
        "model.summary()"
      ],
      "metadata": {
        "colab": {
          "base_uri": "https://localhost:8080/"
        },
        "id": "OjN4OTC801nQ",
        "outputId": "3dfa0572-2a3b-44e6-e97b-432c42e76683"
      },
      "execution_count": 22,
      "outputs": [
        {
          "output_type": "stream",
          "name": "stdout",
          "text": [
            "Model: \"sequential\"\n",
            "_________________________________________________________________\n",
            " Layer (type)                Output Shape              Param #   \n",
            "=================================================================\n",
            " embedding (Embedding)       (None, 1000, 32)          320000    \n",
            "                                                                 \n",
            " simple_rnn (SimpleRNN)      (None, 1000, 32)          2080      \n",
            "                                                                 \n",
            " simple_rnn_1 (SimpleRNN)    (None, 16)                784       \n",
            "                                                                 \n",
            " dense (Dense)               (None, 1)                 17        \n",
            "                                                                 \n",
            "=================================================================\n",
            "Total params: 322,881\n",
            "Trainable params: 322,881\n",
            "Non-trainable params: 0\n",
            "_________________________________________________________________\n"
          ]
        }
      ]
    },
    {
      "cell_type": "code",
      "source": [
        "# on entraine, avat on compile\n",
        "model.compile(optimizer='adam',loss='binary_crossentropy',metrics=['accuracy']) # adam = function d'optimization pour atteindre le bon resultat le plus rapidement, binary_crossentropy = "
      ],
      "metadata": {
        "id": "-PTeIHCL1BDN"
      },
      "execution_count": 23,
      "outputs": []
    },
    {
      "cell_type": "code",
      "source": [
        "model.fit(X_train,y_train,batch_size=32,epochs=5,validation_data=(X_test,y_test))"
      ],
      "metadata": {
        "colab": {
          "base_uri": "https://localhost:8080/"
        },
        "id": "qK5h4IV91p1k",
        "outputId": "053c974b-175d-469b-b693-67e971cf398e"
      },
      "execution_count": 24,
      "outputs": [
        {
          "output_type": "stream",
          "name": "stdout",
          "text": [
            "Epoch 1/5\n",
            "782/782 [==============================] - 467s 594ms/step - loss: 0.6934 - accuracy: 0.4975 - val_loss: 0.6931 - val_accuracy: 0.5000\n",
            "Epoch 2/5\n",
            "782/782 [==============================] - 464s 593ms/step - loss: 114392236032.0000 - accuracy: 0.5035 - val_loss: 0.6932 - val_accuracy: 0.5002\n",
            "Epoch 3/5\n",
            "782/782 [==============================] - 464s 594ms/step - loss: 0.6928 - accuracy: 0.5030 - val_loss: 0.6931 - val_accuracy: 0.4999\n",
            "Epoch 4/5\n",
            "782/782 [==============================] - 461s 589ms/step - loss: 0.6921 - accuracy: 0.5011 - val_loss: 0.6933 - val_accuracy: 0.5000\n",
            "Epoch 5/5\n",
            "782/782 [==============================] - 461s 590ms/step - loss: 0.6911 - accuracy: 0.5045 - val_loss: 0.6936 - val_accuracy: 0.5000\n"
          ]
        },
        {
          "output_type": "execute_result",
          "data": {
            "text/plain": [
              "<keras.callbacks.History at 0x7f43e8408b50>"
            ]
          },
          "metadata": {},
          "execution_count": 24
        }
      ]
    }
  ]
}