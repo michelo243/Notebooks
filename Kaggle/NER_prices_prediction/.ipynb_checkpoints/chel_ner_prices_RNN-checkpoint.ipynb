{
  "cells": [
    {
      "cell_type": "code",
      "execution_count": 2,
      "id": "923866ab",
      "metadata": {
        "execution": {
          "iopub.execute_input": "2022-09-01T22:40:27.178375Z",
          "iopub.status.busy": "2022-09-01T22:40:27.177929Z",
          "iopub.status.idle": "2022-09-01T22:40:28.723386Z",
          "shell.execute_reply": "2022-09-01T22:40:28.722205Z"
        },
        "papermill": {
          "duration": 1.556375,
          "end_time": "2022-09-01T22:40:28.726407",
          "exception": false,
          "start_time": "2022-09-01T22:40:27.170032",
          "status": "completed"
        },
        "tags": [],
        "id": "923866ab"
      },
      "outputs": [],
      "source": [
        "import pandas as pd\n",
        "import numpy as np\n",
        "import seaborn as sbn\n",
        "\n",
        "import os\n",
        "import math\n",
        "\n",
        "from sklearn.model_selection import train_test_split\n",
        "from sklearn import preprocessing\n",
        "\n",
        "from sklearn.preprocessing import StandardScaler,MinMaxScaler\n",
        "\n",
        "# visualization\n",
        "import matplotlib as mpl\n",
        "import matplotlib.pyplot as plt\n",
        "import plotly.express as px\n",
        "\n",
        "# styling\n",
        "%matplotlib inline\n",
        "\n",
        "pd.set_option('display.max_columns', None)\n"
      ]
    },
    {
      "cell_type": "code",
      "execution_count": 3,
      "id": "d2bec0e1",
      "metadata": {
        "execution": {
          "iopub.execute_input": "2022-09-01T22:40:28.742018Z",
          "iopub.status.busy": "2022-09-01T22:40:28.741544Z",
          "iopub.status.idle": "2022-09-01T22:40:28.997650Z",
          "shell.execute_reply": "2022-09-01T22:40:28.996440Z"
        },
        "papermill": {
          "duration": 0.267303,
          "end_time": "2022-09-01T22:40:29.000667",
          "exception": false,
          "start_time": "2022-09-01T22:40:28.733364",
          "status": "completed"
        },
        "tags": [],
        "colab": {
          "base_uri": "https://localhost:8080/",
          "height": 206
        },
        "id": "d2bec0e1",
        "outputId": "22346666-60af-433e-c140-4c3b14134aaf"
      },
      "outputs": [
        {
          "output_type": "execute_result",
          "data": {
            "text/plain": [
              "        date  price\n",
              "0  1/15/1990   63.0\n",
              "1  1/15/1990  200.0\n",
              "2  1/15/1990   56.0\n",
              "3  1/15/1990   73.0\n",
              "4  1/15/1990  200.0"
            ],
            "text/html": [
              "\n",
              "  <div id=\"df-789b5aa0-3988-4c4d-b6f1-e532cf7b5153\">\n",
              "    <div class=\"colab-df-container\">\n",
              "      <div>\n",
              "<style scoped>\n",
              "    .dataframe tbody tr th:only-of-type {\n",
              "        vertical-align: middle;\n",
              "    }\n",
              "\n",
              "    .dataframe tbody tr th {\n",
              "        vertical-align: top;\n",
              "    }\n",
              "\n",
              "    .dataframe thead th {\n",
              "        text-align: right;\n",
              "    }\n",
              "</style>\n",
              "<table border=\"1\" class=\"dataframe\">\n",
              "  <thead>\n",
              "    <tr style=\"text-align: right;\">\n",
              "      <th></th>\n",
              "      <th>date</th>\n",
              "      <th>price</th>\n",
              "    </tr>\n",
              "  </thead>\n",
              "  <tbody>\n",
              "    <tr>\n",
              "      <th>0</th>\n",
              "      <td>1/15/1990</td>\n",
              "      <td>63.0</td>\n",
              "    </tr>\n",
              "    <tr>\n",
              "      <th>1</th>\n",
              "      <td>1/15/1990</td>\n",
              "      <td>200.0</td>\n",
              "    </tr>\n",
              "    <tr>\n",
              "      <th>2</th>\n",
              "      <td>1/15/1990</td>\n",
              "      <td>56.0</td>\n",
              "    </tr>\n",
              "    <tr>\n",
              "      <th>3</th>\n",
              "      <td>1/15/1990</td>\n",
              "      <td>73.0</td>\n",
              "    </tr>\n",
              "    <tr>\n",
              "      <th>4</th>\n",
              "      <td>1/15/1990</td>\n",
              "      <td>200.0</td>\n",
              "    </tr>\n",
              "  </tbody>\n",
              "</table>\n",
              "</div>\n",
              "      <button class=\"colab-df-convert\" onclick=\"convertToInteractive('df-789b5aa0-3988-4c4d-b6f1-e532cf7b5153')\"\n",
              "              title=\"Convert this dataframe to an interactive table.\"\n",
              "              style=\"display:none;\">\n",
              "        \n",
              "  <svg xmlns=\"http://www.w3.org/2000/svg\" height=\"24px\"viewBox=\"0 0 24 24\"\n",
              "       width=\"24px\">\n",
              "    <path d=\"M0 0h24v24H0V0z\" fill=\"none\"/>\n",
              "    <path d=\"M18.56 5.44l.94 2.06.94-2.06 2.06-.94-2.06-.94-.94-2.06-.94 2.06-2.06.94zm-11 1L8.5 8.5l.94-2.06 2.06-.94-2.06-.94L8.5 2.5l-.94 2.06-2.06.94zm10 10l.94 2.06.94-2.06 2.06-.94-2.06-.94-.94-2.06-.94 2.06-2.06.94z\"/><path d=\"M17.41 7.96l-1.37-1.37c-.4-.4-.92-.59-1.43-.59-.52 0-1.04.2-1.43.59L10.3 9.45l-7.72 7.72c-.78.78-.78 2.05 0 2.83L4 21.41c.39.39.9.59 1.41.59.51 0 1.02-.2 1.41-.59l7.78-7.78 2.81-2.81c.8-.78.8-2.07 0-2.86zM5.41 20L4 18.59l7.72-7.72 1.47 1.35L5.41 20z\"/>\n",
              "  </svg>\n",
              "      </button>\n",
              "      \n",
              "  <style>\n",
              "    .colab-df-container {\n",
              "      display:flex;\n",
              "      flex-wrap:wrap;\n",
              "      gap: 12px;\n",
              "    }\n",
              "\n",
              "    .colab-df-convert {\n",
              "      background-color: #E8F0FE;\n",
              "      border: none;\n",
              "      border-radius: 50%;\n",
              "      cursor: pointer;\n",
              "      display: none;\n",
              "      fill: #1967D2;\n",
              "      height: 32px;\n",
              "      padding: 0 0 0 0;\n",
              "      width: 32px;\n",
              "    }\n",
              "\n",
              "    .colab-df-convert:hover {\n",
              "      background-color: #E2EBFA;\n",
              "      box-shadow: 0px 1px 2px rgba(60, 64, 67, 0.3), 0px 1px 3px 1px rgba(60, 64, 67, 0.15);\n",
              "      fill: #174EA6;\n",
              "    }\n",
              "\n",
              "    [theme=dark] .colab-df-convert {\n",
              "      background-color: #3B4455;\n",
              "      fill: #D2E3FC;\n",
              "    }\n",
              "\n",
              "    [theme=dark] .colab-df-convert:hover {\n",
              "      background-color: #434B5C;\n",
              "      box-shadow: 0px 1px 3px 1px rgba(0, 0, 0, 0.15);\n",
              "      filter: drop-shadow(0px 1px 2px rgba(0, 0, 0, 0.3));\n",
              "      fill: #FFFFFF;\n",
              "    }\n",
              "  </style>\n",
              "\n",
              "      <script>\n",
              "        const buttonEl =\n",
              "          document.querySelector('#df-789b5aa0-3988-4c4d-b6f1-e532cf7b5153 button.colab-df-convert');\n",
              "        buttonEl.style.display =\n",
              "          google.colab.kernel.accessAllowed ? 'block' : 'none';\n",
              "\n",
              "        async function convertToInteractive(key) {\n",
              "          const element = document.querySelector('#df-789b5aa0-3988-4c4d-b6f1-e532cf7b5153');\n",
              "          const dataTable =\n",
              "            await google.colab.kernel.invokeFunction('convertToInteractive',\n",
              "                                                     [key], {});\n",
              "          if (!dataTable) return;\n",
              "\n",
              "          const docLinkHtml = 'Like what you see? Visit the ' +\n",
              "            '<a target=\"_blank\" href=https://colab.research.google.com/notebooks/data_table.ipynb>data table notebook</a>'\n",
              "            + ' to learn more about interactive tables.';\n",
              "          element.innerHTML = '';\n",
              "          dataTable['output_type'] = 'display_data';\n",
              "          await google.colab.output.renderOutput(dataTable, element);\n",
              "          const docLink = document.createElement('div');\n",
              "          docLink.innerHTML = docLinkHtml;\n",
              "          element.appendChild(docLink);\n",
              "        }\n",
              "      </script>\n",
              "    </div>\n",
              "  </div>\n",
              "  "
            ]
          },
          "metadata": {},
          "execution_count": 3
        }
      ],
      "source": [
        "useco = ['date','price']\n",
        "df_ner = pd.read_csv('/content/sample_data/wfp_food_prices_niger.csv', usecols=useco)\n",
        "df_ner.head()"
      ]
    },
    {
      "cell_type": "code",
      "execution_count": 4,
      "id": "3b10e9cd",
      "metadata": {
        "execution": {
          "iopub.execute_input": "2022-09-01T22:40:29.031324Z",
          "iopub.status.busy": "2022-09-01T22:40:29.030887Z",
          "iopub.status.idle": "2022-09-01T22:40:29.037616Z",
          "shell.execute_reply": "2022-09-01T22:40:29.036430Z"
        },
        "papermill": {
          "duration": 0.017795,
          "end_time": "2022-09-01T22:40:29.040070",
          "exception": false,
          "start_time": "2022-09-01T22:40:29.022275",
          "status": "completed"
        },
        "tags": [],
        "colab": {
          "base_uri": "https://localhost:8080/"
        },
        "id": "3b10e9cd",
        "outputId": "da72ac1a-56e4-4282-de85-413c4a602a73"
      },
      "outputs": [
        {
          "output_type": "execute_result",
          "data": {
            "text/plain": [
              "(57606, 2)"
            ]
          },
          "metadata": {},
          "execution_count": 4
        }
      ],
      "source": [
        "df_ner.shape"
      ]
    },
    {
      "cell_type": "code",
      "execution_count": 5,
      "id": "6aed21c6",
      "metadata": {
        "colab": {
          "base_uri": "https://localhost:8080/"
        },
        "id": "6aed21c6",
        "outputId": "d2fb857b-bf34-4e4e-b5f2-876776aa2fbe"
      },
      "outputs": [
        {
          "output_type": "execute_result",
          "data": {
            "text/plain": [
              "array([[ 63.],\n",
              "       [200.],\n",
              "       [ 56.],\n",
              "       ...,\n",
              "       [311.],\n",
              "       [510.],\n",
              "       [296.]])"
            ]
          },
          "metadata": {},
          "execution_count": 5
        }
      ],
      "source": [
        "data = df_ner[['price']].values\n",
        "data"
      ]
    },
    {
      "cell_type": "code",
      "execution_count": 6,
      "id": "e033382f",
      "metadata": {
        "colab": {
          "base_uri": "https://localhost:8080/"
        },
        "id": "e033382f",
        "outputId": "5a6a06f8-dbcc-4301-ccf1-c4751e1d0c6c"
      },
      "outputs": [
        {
          "output_type": "execute_result",
          "data": {
            "text/plain": [
              "(57606, 1)"
            ]
          },
          "metadata": {},
          "execution_count": 6
        }
      ],
      "source": [
        "data.shape"
      ]
    },
    {
      "cell_type": "code",
      "execution_count": 7,
      "id": "df5d626b",
      "metadata": {
        "colab": {
          "base_uri": "https://localhost:8080/"
        },
        "id": "df5d626b",
        "outputId": "c77edcd7-29b9-42f1-9f32-e44052efc78d"
      },
      "outputs": [
        {
          "output_type": "execute_result",
          "data": {
            "text/plain": [
              "array([[0.00056396],\n",
              "       [0.00305632],\n",
              "       [0.00043662],\n",
              "       ...,\n",
              "       [0.00507568],\n",
              "       [0.00869597],\n",
              "       [0.00480279]])"
            ]
          },
          "metadata": {},
          "execution_count": 7
        }
      ],
      "source": [
        "ms = MinMaxScaler()\n",
        "data_norm = ms.fit_transform(data)\n",
        "data_norm"
      ]
    },
    {
      "cell_type": "code",
      "execution_count": 8,
      "id": "67dec294",
      "metadata": {
        "colab": {
          "base_uri": "https://localhost:8080/"
        },
        "id": "67dec294",
        "outputId": "d87bb952-1ae8-4e42-f441-61b81f32fcab"
      },
      "outputs": [
        {
          "output_type": "stream",
          "name": "stdout",
          "text": [
            "[0.00056396 0.00305632 0.00043662 0.00074589]\n",
            "0.0030563236792315526\n"
          ]
        }
      ],
      "source": [
        "print(data_norm[0:4,0])\n",
        "print(data_norm[4,0])"
      ]
    },
    {
      "cell_type": "code",
      "execution_count": 9,
      "id": "949efe83",
      "metadata": {
        "id": "949efe83"
      },
      "outputs": [],
      "source": [
        "X_data = []\n",
        "y_data = []\n",
        "const = 1\n",
        "for i in range(len(data_norm)-1):\n",
        "    X_data.append(data_norm[i:i+const,0])\n",
        "    y_data.append(data_norm[i+const,0])"
      ]
    },
    {
      "cell_type": "code",
      "execution_count": 10,
      "id": "462b5b40",
      "metadata": {
        "colab": {
          "base_uri": "https://localhost:8080/"
        },
        "id": "462b5b40",
        "outputId": "41cbed02-02e7-465b-cfcf-a9348182fa20"
      },
      "outputs": [
        {
          "output_type": "execute_result",
          "data": {
            "text/plain": [
              "((57605, 1), (57605,))"
            ]
          },
          "metadata": {},
          "execution_count": 10
        }
      ],
      "source": [
        "X_data = np.array(X_data)\n",
        "y_data = np.array(y_data)\n",
        "\n",
        "X_data.shape, y_data.shape"
      ]
    },
    {
      "cell_type": "code",
      "execution_count": 11,
      "id": "2d4401b1",
      "metadata": {
        "colab": {
          "base_uri": "https://localhost:8080/"
        },
        "id": "2d4401b1",
        "outputId": "5744be05-d9ed-4540-a08c-fef2e5f5d6e8"
      },
      "outputs": [
        {
          "output_type": "execute_result",
          "data": {
            "text/plain": [
              "(57605, 1, 1)"
            ]
          },
          "metadata": {},
          "execution_count": 11
        }
      ],
      "source": [
        "X_data = np.reshape(X_data,(X_data.shape[0],X_data.shape[1],1))\n",
        "X_data.shape"
      ]
    },
    {
      "cell_type": "code",
      "execution_count": 12,
      "id": "daeb4bc9",
      "metadata": {
        "id": "daeb4bc9"
      },
      "outputs": [],
      "source": [
        "train_size = int(len(X_data)*0.80)\n",
        "X_train = X_data[0:train_size,:]\n",
        "y_train = y_data[0:train_size]"
      ]
    },
    {
      "cell_type": "code",
      "execution_count": 13,
      "id": "ee9d670a",
      "metadata": {
        "id": "ee9d670a"
      },
      "outputs": [],
      "source": [
        "X_test=X_data[train_size:len(X_data),:]\n",
        "y_test=y_data[train_size:len(y_data)]"
      ]
    },
    {
      "cell_type": "code",
      "execution_count": null,
      "id": "0a34ea8b",
      "metadata": {
        "id": "0a34ea8b"
      },
      "outputs": [],
      "source": [
        "# !pip3 install tensorflow --quiet\n",
        "# !pip3 install keras --quiet\n",
        "# install TensorFlow on Jupyter Notebook MacBook\n",
        "# python3 -m pip install --upgrade https://storage.googleapis.com/tensorflow/mac/cpu/tensorflow-1.12.0-py3-none-any.whl\n",
        "# !pip3 install --upgrade https://storage.googleapis.com/tensorflow/mac/cpu/tensorflow-1.12.0-py3-none-any.whl"
      ]
    },
    {
      "cell_type": "code",
      "execution_count": null,
      "id": "111c1eab",
      "metadata": {
        "id": "111c1eab"
      },
      "outputs": [],
      "source": [
        "# !pip3 install tensorflow"
      ]
    },
    {
      "cell_type": "code",
      "execution_count": 14,
      "id": "2175c7ba",
      "metadata": {
        "id": "2175c7ba"
      },
      "outputs": [],
      "source": [
        "from tensorflow.keras.models import Sequential\n",
        "from tensorflow.keras.layers import Dense, SimpleRNN"
      ]
    },
    {
      "cell_type": "code",
      "execution_count": 15,
      "id": "7075b10a",
      "metadata": {
        "id": "7075b10a"
      },
      "outputs": [],
      "source": [
        "def model_rnn(inputShape):\n",
        "  model = Sequential()\n",
        "  model.add(SimpleRNN(256, activation=\"relu\", input_shape=inputShape, return_sequences=True))\n",
        "  model.add(SimpleRNN(128, activation=\"relu\", return_sequences=True))\n",
        "  model.add(SimpleRNN(64, activation=\"relu\", return_sequences=True))\n",
        "  model.add(SimpleRNN(32, activation=\"relu\", return_sequences=True))\n",
        "  model.add(SimpleRNN(24, activation=\"relu\", return_sequences=False))\n",
        "  model.add(Dense(1)) #\n",
        "  return model"
      ]
    },
    {
      "cell_type": "code",
      "source": [
        "model = model_rnn((X_train.shape[1],1))\n",
        "model.summary()"
      ],
      "metadata": {
        "colab": {
          "base_uri": "https://localhost:8080/"
        },
        "id": "WoF62fu3pu9Q",
        "outputId": "0e032c67-0afd-4565-b647-62b60769f26c"
      },
      "id": "WoF62fu3pu9Q",
      "execution_count": 16,
      "outputs": [
        {
          "output_type": "stream",
          "name": "stdout",
          "text": [
            "Model: \"sequential\"\n",
            "_________________________________________________________________\n",
            " Layer (type)                Output Shape              Param #   \n",
            "=================================================================\n",
            " simple_rnn (SimpleRNN)      (None, 1, 256)            66048     \n",
            "                                                                 \n",
            " simple_rnn_1 (SimpleRNN)    (None, 1, 128)            49280     \n",
            "                                                                 \n",
            " simple_rnn_2 (SimpleRNN)    (None, 1, 64)             12352     \n",
            "                                                                 \n",
            " simple_rnn_3 (SimpleRNN)    (None, 1, 32)             3104      \n",
            "                                                                 \n",
            " simple_rnn_4 (SimpleRNN)    (None, 24)                1368      \n",
            "                                                                 \n",
            " dense (Dense)               (None, 1)                 25        \n",
            "                                                                 \n",
            "=================================================================\n",
            "Total params: 132,177\n",
            "Trainable params: 132,177\n",
            "Non-trainable params: 0\n",
            "_________________________________________________________________\n"
          ]
        }
      ]
    },
    {
      "cell_type": "code",
      "source": [
        "model.compile(optimizer=\"adam\",loss=\"mean_squared_error\")"
      ],
      "metadata": {
        "id": "D3IkJcM6sGRG"
      },
      "id": "D3IkJcM6sGRG",
      "execution_count": 17,
      "outputs": []
    },
    {
      "cell_type": "code",
      "source": [
        "model.fit(X_train, y_train, batch_size=32, epochs=20)"
      ],
      "metadata": {
        "colab": {
          "base_uri": "https://localhost:8080/"
        },
        "id": "7EXkM69BsYwz",
        "outputId": "603e9584-0c99-4e7c-aac8-bf83891c69b9"
      },
      "id": "7EXkM69BsYwz",
      "execution_count": 19,
      "outputs": [
        {
          "output_type": "stream",
          "name": "stdout",
          "text": [
            "Epoch 1/20\n",
            "1441/1441 [==============================] - 8s 6ms/step - loss: 0.0150\n",
            "Epoch 2/20\n",
            "1441/1441 [==============================] - 8s 5ms/step - loss: 0.0150\n",
            "Epoch 3/20\n",
            "1441/1441 [==============================] - 8s 5ms/step - loss: 0.0150\n",
            "Epoch 4/20\n",
            "1441/1441 [==============================] - 8s 5ms/step - loss: 0.0150\n",
            "Epoch 5/20\n",
            "1441/1441 [==============================] - 8s 6ms/step - loss: 0.0150\n",
            "Epoch 6/20\n",
            "1441/1441 [==============================] - 8s 5ms/step - loss: 0.0150\n",
            "Epoch 7/20\n",
            "1441/1441 [==============================] - 8s 5ms/step - loss: 0.0150\n",
            "Epoch 8/20\n",
            "1441/1441 [==============================] - 8s 5ms/step - loss: 0.0150\n",
            "Epoch 9/20\n",
            "1441/1441 [==============================] - 8s 5ms/step - loss: 0.0150\n",
            "Epoch 10/20\n",
            "1441/1441 [==============================] - 8s 5ms/step - loss: 0.0150\n",
            "Epoch 11/20\n",
            "1441/1441 [==============================] - 8s 5ms/step - loss: 0.0150\n",
            "Epoch 12/20\n",
            "1441/1441 [==============================] - 8s 5ms/step - loss: 0.0150\n",
            "Epoch 13/20\n",
            "1441/1441 [==============================] - 8s 5ms/step - loss: 0.0150\n",
            "Epoch 14/20\n",
            "1441/1441 [==============================] - 10s 7ms/step - loss: 0.0150\n",
            "Epoch 15/20\n",
            "1441/1441 [==============================] - 8s 6ms/step - loss: 0.0150\n",
            "Epoch 16/20\n",
            "1441/1441 [==============================] - 8s 6ms/step - loss: 0.0150\n",
            "Epoch 17/20\n",
            "1441/1441 [==============================] - 8s 5ms/step - loss: 0.0150\n",
            "Epoch 18/20\n",
            "1441/1441 [==============================] - 8s 5ms/step - loss: 0.0150\n",
            "Epoch 19/20\n",
            "1441/1441 [==============================] - 7s 5ms/step - loss: 0.0150\n",
            "Epoch 20/20\n",
            "1441/1441 [==============================] - 7s 5ms/step - loss: 0.0150\n"
          ]
        },
        {
          "output_type": "execute_result",
          "data": {
            "text/plain": [
              "<keras.callbacks.History at 0x7fb51edd1310>"
            ]
          },
          "metadata": {},
          "execution_count": 19
        }
      ]
    },
    {
      "cell_type": "code",
      "source": [
        "# evaluation du modele\n",
        "model.evaluate(X_train,y_train)"
      ],
      "metadata": {
        "colab": {
          "base_uri": "https://localhost:8080/"
        },
        "id": "Sz_zA_QWuNIC",
        "outputId": "5e0935dd-9397-469a-f0cd-b4ba16818fca"
      },
      "id": "Sz_zA_QWuNIC",
      "execution_count": 20,
      "outputs": [
        {
          "output_type": "stream",
          "name": "stdout",
          "text": [
            "1441/1441 [==============================] - 4s 2ms/step - loss: 0.0150\n"
          ]
        },
        {
          "output_type": "execute_result",
          "data": {
            "text/plain": [
              "0.01497354730963707"
            ]
          },
          "metadata": {},
          "execution_count": 20
        }
      ]
    },
    {
      "cell_type": "code",
      "source": [
        "model.evaluate(X_test,y_test)"
      ],
      "metadata": {
        "colab": {
          "base_uri": "https://localhost:8080/"
        },
        "id": "3sAwjMXnuU_j",
        "outputId": "b020cc94-0191-48bb-c273-936aa1d68b65"
      },
      "id": "3sAwjMXnuU_j",
      "execution_count": 21,
      "outputs": [
        {
          "output_type": "stream",
          "name": "stdout",
          "text": [
            "361/361 [==============================] - 1s 3ms/step - loss: 0.0218\n"
          ]
        },
        {
          "output_type": "execute_result",
          "data": {
            "text/plain": [
              "0.02178424969315529"
            ]
          },
          "metadata": {},
          "execution_count": 21
        }
      ]
    },
    {
      "cell_type": "code",
      "source": [
        "# prediction\n",
        "y_pred= model.predict(X_test)"
      ],
      "metadata": {
        "id": "rEWyX3mOuZRn"
      },
      "id": "rEWyX3mOuZRn",
      "execution_count": 22,
      "outputs": []
    },
    {
      "cell_type": "code",
      "source": [
        "plt.plot(y_test,color=\"green\",label=\"prix reel\")\n",
        "plt.plot(y_pred,color=\"red\",label=\"Prediction des prix\")\n",
        "plt.xlabel(\"temps\")\n",
        "plt.ylabel(\"Prix\")\n",
        "plt.legend()\n",
        "plt.show()"
      ],
      "metadata": {
        "colab": {
          "base_uri": "https://localhost:8080/",
          "height": 279
        },
        "id": "oLQ68bVbudKd",
        "outputId": "5bffd828-8521-4684-ab8d-c606f424870e"
      },
      "id": "oLQ68bVbudKd",
      "execution_count": 23,
      "outputs": [
        {
          "output_type": "display_data",
          "data": {
            "text/plain": [
              "<Figure size 432x288 with 1 Axes>"
            ],
            "image/png": "[encoded data removed]"
          },
          "metadata": {
            "needs_background": "light"
          }
        }
      ]
    },
    {
      "cell_type": "markdown",
      "source": [
        "# LSTM"
      ],
      "metadata": {
        "id": "IOcoUyS3wOi2"
      },
      "id": "IOcoUyS3wOi2"
    },
    {
      "cell_type": "code",
      "source": [
        "from tensorflow.keras.layers import LSTM"
      ],
      "metadata": {
        "id": "NutCYNpHwQ8C"
      },
      "id": "NutCYNpHwQ8C",
      "execution_count": 24,
      "outputs": []
    },
    {
      "cell_type": "code",
      "source": [
        "#Creation du model LSTM\n",
        "def model_lstm(inputShape):\n",
        "  model = Sequential()\n",
        "  model.add(LSTM(256, activation=\"relu\", input_shape=inputShape, return_sequences=True))\n",
        "  model.add(LSTM(128, activation=\"relu\", return_sequences=True))\n",
        "  model.add(LSTM(64, activation=\"relu\", return_sequences=True))\n",
        "  model.add(LSTM(32, activation=\"relu\", return_sequences=True))\n",
        "  model.add(LSTM(24, activation=\"relu\", return_sequences=False))\n",
        "  model.add(Dense(1)) #\n",
        "\n",
        "  return model\n"
      ],
      "metadata": {
        "id": "1s7etCUtwT5k"
      },
      "id": "1s7etCUtwT5k",
      "execution_count": 25,
      "outputs": []
    },
    {
      "cell_type": "code",
      "source": [
        "model= model_lstm((X_train.shape[1],1))"
      ],
      "metadata": {
        "id": "sZB7dGB7xK83"
      },
      "id": "sZB7dGB7xK83",
      "execution_count": 26,
      "outputs": []
    },
    {
      "cell_type": "code",
      "source": [
        "model.summary()"
      ],
      "metadata": {
        "colab": {
          "base_uri": "https://localhost:8080/"
        },
        "id": "fiMeWvrpxY19",
        "outputId": "dbe378a1-562c-4142-b5b1-9c1d60ac0fd2"
      },
      "id": "fiMeWvrpxY19",
      "execution_count": 27,
      "outputs": [
        {
          "output_type": "stream",
          "name": "stdout",
          "text": [
            "Model: \"sequential_1\"\n",
            "_________________________________________________________________\n",
            " Layer (type)                Output Shape              Param #   \n",
            "=================================================================\n",
            " lstm (LSTM)                 (None, 1, 256)            264192    \n",
            "                                                                 \n",
            " lstm_1 (LSTM)               (None, 1, 128)            197120    \n",
            "                                                                 \n",
            " lstm_2 (LSTM)               (None, 1, 64)             49408     \n",
            "                                                                 \n",
            " lstm_3 (LSTM)               (None, 1, 32)             12416     \n",
            "                                                                 \n",
            " lstm_4 (LSTM)               (None, 24)                5472      \n",
            "                                                                 \n",
            " dense_1 (Dense)             (None, 1)                 25        \n",
            "                                                                 \n",
            "=================================================================\n",
            "Total params: 528,633\n",
            "Trainable params: 528,633\n",
            "Non-trainable params: 0\n",
            "_________________________________________________________________\n"
          ]
        }
      ]
    },
    {
      "cell_type": "code",
      "source": [
        "model.compile(optimizer='adam',loss='mean_squared_error', metrics=['accuracy']) #  binary_crossentropy"
      ],
      "metadata": {
        "id": "1ohqWBwlxksY"
      },
      "id": "1ohqWBwlxksY",
      "execution_count": 28,
      "outputs": []
    },
    {
      "cell_type": "code",
      "source": [
        "model.fit(X_train,y_train,batch_size=32,epochs=5,validation_data=(X_test,y_test))"
      ],
      "metadata": {
        "colab": {
          "base_uri": "https://localhost:8080/"
        },
        "id": "T2E6auqzxvQG",
        "outputId": "6aab4ffd-4620-423a-e430-dc318c3bd446"
      },
      "id": "T2E6auqzxvQG",
      "execution_count": 29,
      "outputs": [
        {
          "output_type": "stream",
          "name": "stdout",
          "text": [
            "Epoch 1/5\n",
            "1441/1441 [==============================] - 30s 16ms/step - loss: 0.0150 - accuracy: 4.3399e-05 - val_loss: 0.0219 - val_accuracy: 0.0000e+00\n",
            "Epoch 2/5\n",
            "1441/1441 [==============================] - 21s 15ms/step - loss: 0.0150 - accuracy: 4.3399e-05 - val_loss: 0.0218 - val_accuracy: 0.0000e+00\n",
            "Epoch 3/5\n",
            "1441/1441 [==============================] - 21s 14ms/step - loss: 0.0150 - accuracy: 4.3399e-05 - val_loss: 0.0218 - val_accuracy: 0.0000e+00\n",
            "Epoch 4/5\n",
            "1441/1441 [==============================] - 22s 15ms/step - loss: 0.0150 - accuracy: 4.3399e-05 - val_loss: 0.0217 - val_accuracy: 0.0000e+00\n",
            "Epoch 5/5\n",
            "1441/1441 [==============================] - 21s 15ms/step - loss: 0.0150 - accuracy: 4.3399e-05 - val_loss: 0.0217 - val_accuracy: 0.0000e+00\n"
          ]
        },
        {
          "output_type": "execute_result",
          "data": {
            "text/plain": [
              "<keras.callbacks.History at 0x7fb51acae210>"
            ]
          },
          "metadata": {},
          "execution_count": 29
        }
      ]
    },
    {
      "cell_type": "code",
      "source": [
        "model.evaluate(X_train,y_train)"
      ],
      "metadata": {
        "colab": {
          "base_uri": "https://localhost:8080/"
        },
        "id": "PqFH3C-DybzU",
        "outputId": "18acbf2e-0915-428e-eb48-b22468d1b428"
      },
      "id": "PqFH3C-DybzU",
      "execution_count": 30,
      "outputs": [
        {
          "output_type": "stream",
          "name": "stdout",
          "text": [
            "1441/1441 [==============================] - 6s 4ms/step - loss: 0.0150 - accuracy: 4.3399e-05\n"
          ]
        },
        {
          "output_type": "execute_result",
          "data": {
            "text/plain": [
              "[0.014985330402851105, 4.3399009882705286e-05]"
            ]
          },
          "metadata": {},
          "execution_count": 30
        }
      ]
    },
    {
      "cell_type": "code",
      "source": [
        "model.evaluate(X_test,y_test)"
      ],
      "metadata": {
        "colab": {
          "base_uri": "https://localhost:8080/"
        },
        "id": "pDfXhfq5yswC",
        "outputId": "9543530f-62f9-4701-a955-7708a36d4495"
      },
      "id": "pDfXhfq5yswC",
      "execution_count": 31,
      "outputs": [
        {
          "output_type": "stream",
          "name": "stdout",
          "text": [
            "361/361 [==============================] - 2s 4ms/step - loss: 0.0217 - accuracy: 0.0000e+00\n"
          ]
        },
        {
          "output_type": "execute_result",
          "data": {
            "text/plain": [
              "[0.02174864150583744, 0.0]"
            ]
          },
          "metadata": {},
          "execution_count": 31
        }
      ]
    }
  ],
  "metadata": {
    "kernelspec": {
      "display_name": "Python 3.10.5 64-bit",
      "language": "python",
      "name": "python3"
    },
    "language_info": {
      "codemirror_mode": {
        "name": "ipython",
        "version": 3
      },
      "file_extension": ".py",
      "mimetype": "text/x-python",
      "name": "python",
      "nbconvert_exporter": "python",
      "pygments_lexer": "ipython3",
      "version": "3.10.5"
    },
    "papermill": {
      "default_parameters": {},
      "duration": 24.410486,
      "end_time": "2022-09-01T22:40:42.424093",
      "environment_variables": {},
      "exception": null,
      "input_path": "__notebook__.ipynb",
      "output_path": "__notebook__.ipynb",
      "parameters": {},
      "start_time": "2022-09-01T22:40:18.013607",
      "version": "2.3.4"
    },
    "vscode": {
      "interpreter": {
        "hash": "aee8b7b246df8f9039afb4144a1f6fd8d2ca17a180786b69acc140d282b71a49"
      }
    },
    "colab": {
      "provenance": []
    }
  },
  "nbformat": 4,
  "nbformat_minor": 5
}